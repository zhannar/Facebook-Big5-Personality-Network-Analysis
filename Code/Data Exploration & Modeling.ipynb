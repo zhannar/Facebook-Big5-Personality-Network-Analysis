{
 "cells": [
  {
   "cell_type": "markdown",
   "metadata": {},
   "source": [
    "# Section Order:\n",
    "(1) Import Packages & Data\n",
    "\n",
    "(2) Getting acquanted with the data"
   ]
  },
  {
   "cell_type": "markdown",
   "metadata": {},
   "source": [
    "# Import Packages & Data"
   ]
  },
  {
   "cell_type": "code",
   "execution_count": 1,
   "metadata": {
    "collapsed": false
   },
   "outputs": [],
   "source": [
    "# Data Basics\n",
    "import pandas as pd\n",
    "import numpy as np\n",
    "\n",
    "# Visualization\n",
    "import matplotlib.pyplot as plt # side-stepping mpl backend\n",
    "from pandas.tools.plotting import scatter_matrix\n",
    "%matplotlib inline\n",
    "\n",
    "import matplotlib.gridspec as gridspec # subplots\n",
    "import plotly.plotly as py\n",
    "from plotly.graph_objs import *\n",
    "import plotly.tools as tls\n",
    "\n",
    "# Preprocessing & Cross Validation\n",
    "from sklearn import preprocessing as pp\n",
    "from sklearn import cross_validation\n",
    "from sklearn.cross_validation import KFold\n",
    "from sklearn.linear_model import Lasso\n",
    "\n",
    "# Regression / Modeling\n",
    "import statsmodels.api as sm\n",
    "\n",
    "# Custom functions\n",
    "from project_functions import label_polynomial_features\n",
    "from project_functions import model_to_dictionary\n",
    "from project_functions import results_summary_to_dataframe\n",
    "\n",
    "\n",
    "\n"
   ]
  },
  {
   "cell_type": "code",
   "execution_count": 2,
   "metadata": {
    "collapsed": true
   },
   "outputs": [],
   "source": [
    "df_raw = pd.read_csv('../Resources/Data/Raw/mypersonality_final.csv')"
   ]
  },
  {
   "cell_type": "markdown",
   "metadata": {},
   "source": [
    "# Getting acquanted with the data"
   ]
  },
  {
   "cell_type": "code",
   "execution_count": 3,
   "metadata": {
    "collapsed": false
   },
   "outputs": [
    {
     "data": {
      "text/html": [
       "<div>\n",
       "<table border=\"1\" class=\"dataframe\">\n",
       "  <thead>\n",
       "    <tr style=\"text-align: right;\">\n",
       "      <th></th>\n",
       "      <th>0</th>\n",
       "      <th>1</th>\n",
       "      <th>2</th>\n",
       "    </tr>\n",
       "  </thead>\n",
       "  <tbody>\n",
       "    <tr>\n",
       "      <th>#AUTHID</th>\n",
       "      <td>b7b7764cfa1c523e4e93ab2a79a946c4</td>\n",
       "      <td>b7b7764cfa1c523e4e93ab2a79a946c4</td>\n",
       "      <td>b7b7764cfa1c523e4e93ab2a79a946c4</td>\n",
       "    </tr>\n",
       "    <tr>\n",
       "      <th>STATUS</th>\n",
       "      <td>likes the sound of thunder.</td>\n",
       "      <td>is so sleepy it's not even funny that's she ca...</td>\n",
       "      <td>is sore and wants the knot of muscles at the b...</td>\n",
       "    </tr>\n",
       "    <tr>\n",
       "      <th>sEXT</th>\n",
       "      <td>2.65</td>\n",
       "      <td>2.65</td>\n",
       "      <td>2.65</td>\n",
       "    </tr>\n",
       "    <tr>\n",
       "      <th>sNEU</th>\n",
       "      <td>3</td>\n",
       "      <td>3</td>\n",
       "      <td>3</td>\n",
       "    </tr>\n",
       "    <tr>\n",
       "      <th>sAGR</th>\n",
       "      <td>3.15</td>\n",
       "      <td>3.15</td>\n",
       "      <td>3.15</td>\n",
       "    </tr>\n",
       "    <tr>\n",
       "      <th>sCON</th>\n",
       "      <td>3.25</td>\n",
       "      <td>3.25</td>\n",
       "      <td>3.25</td>\n",
       "    </tr>\n",
       "    <tr>\n",
       "      <th>sOPN</th>\n",
       "      <td>4.4</td>\n",
       "      <td>4.4</td>\n",
       "      <td>4.4</td>\n",
       "    </tr>\n",
       "    <tr>\n",
       "      <th>cEXT</th>\n",
       "      <td>n</td>\n",
       "      <td>n</td>\n",
       "      <td>n</td>\n",
       "    </tr>\n",
       "    <tr>\n",
       "      <th>cNEU</th>\n",
       "      <td>y</td>\n",
       "      <td>y</td>\n",
       "      <td>y</td>\n",
       "    </tr>\n",
       "    <tr>\n",
       "      <th>cAGR</th>\n",
       "      <td>n</td>\n",
       "      <td>n</td>\n",
       "      <td>n</td>\n",
       "    </tr>\n",
       "    <tr>\n",
       "      <th>cCON</th>\n",
       "      <td>n</td>\n",
       "      <td>n</td>\n",
       "      <td>n</td>\n",
       "    </tr>\n",
       "    <tr>\n",
       "      <th>cOPN</th>\n",
       "      <td>y</td>\n",
       "      <td>y</td>\n",
       "      <td>y</td>\n",
       "    </tr>\n",
       "    <tr>\n",
       "      <th>DATE</th>\n",
       "      <td>06/19/09 03:21 PM</td>\n",
       "      <td>07/02/09 08:41 AM</td>\n",
       "      <td>06/15/09 01:15 PM</td>\n",
       "    </tr>\n",
       "    <tr>\n",
       "      <th>NETWORKSIZE</th>\n",
       "      <td>180</td>\n",
       "      <td>180</td>\n",
       "      <td>180</td>\n",
       "    </tr>\n",
       "    <tr>\n",
       "      <th>BETWEENNESS</th>\n",
       "      <td>14861.6</td>\n",
       "      <td>14861.6</td>\n",
       "      <td>14861.6</td>\n",
       "    </tr>\n",
       "    <tr>\n",
       "      <th>NBETWEENNESS</th>\n",
       "      <td>93.29</td>\n",
       "      <td>93.29</td>\n",
       "      <td>93.29</td>\n",
       "    </tr>\n",
       "    <tr>\n",
       "      <th>DENSITY</th>\n",
       "      <td>0.03</td>\n",
       "      <td>0.03</td>\n",
       "      <td>0.03</td>\n",
       "    </tr>\n",
       "    <tr>\n",
       "      <th>BROKERAGE</th>\n",
       "      <td>15661</td>\n",
       "      <td>15661</td>\n",
       "      <td>15661</td>\n",
       "    </tr>\n",
       "    <tr>\n",
       "      <th>NBROKERAGE</th>\n",
       "      <td>0.49</td>\n",
       "      <td>0.49</td>\n",
       "      <td>0.49</td>\n",
       "    </tr>\n",
       "    <tr>\n",
       "      <th>TRANSITIVITY</th>\n",
       "      <td>0.1</td>\n",
       "      <td>0.1</td>\n",
       "      <td>0.1</td>\n",
       "    </tr>\n",
       "  </tbody>\n",
       "</table>\n",
       "</div>"
      ],
      "text/plain": [
       "                                             0  \\\n",
       "#AUTHID       b7b7764cfa1c523e4e93ab2a79a946c4   \n",
       "STATUS             likes the sound of thunder.   \n",
       "sEXT                                      2.65   \n",
       "sNEU                                         3   \n",
       "sAGR                                      3.15   \n",
       "sCON                                      3.25   \n",
       "sOPN                                       4.4   \n",
       "cEXT                                         n   \n",
       "cNEU                                         y   \n",
       "cAGR                                         n   \n",
       "cCON                                         n   \n",
       "cOPN                                         y   \n",
       "DATE                         06/19/09 03:21 PM   \n",
       "NETWORKSIZE                                180   \n",
       "BETWEENNESS                            14861.6   \n",
       "NBETWEENNESS                             93.29   \n",
       "DENSITY                                   0.03   \n",
       "BROKERAGE                                15661   \n",
       "NBROKERAGE                                0.49   \n",
       "TRANSITIVITY                               0.1   \n",
       "\n",
       "                                                              1  \\\n",
       "#AUTHID                        b7b7764cfa1c523e4e93ab2a79a946c4   \n",
       "STATUS        is so sleepy it's not even funny that's she ca...   \n",
       "sEXT                                                       2.65   \n",
       "sNEU                                                          3   \n",
       "sAGR                                                       3.15   \n",
       "sCON                                                       3.25   \n",
       "sOPN                                                        4.4   \n",
       "cEXT                                                          n   \n",
       "cNEU                                                          y   \n",
       "cAGR                                                          n   \n",
       "cCON                                                          n   \n",
       "cOPN                                                          y   \n",
       "DATE                                          07/02/09 08:41 AM   \n",
       "NETWORKSIZE                                                 180   \n",
       "BETWEENNESS                                             14861.6   \n",
       "NBETWEENNESS                                              93.29   \n",
       "DENSITY                                                    0.03   \n",
       "BROKERAGE                                                 15661   \n",
       "NBROKERAGE                                                 0.49   \n",
       "TRANSITIVITY                                                0.1   \n",
       "\n",
       "                                                              2  \n",
       "#AUTHID                        b7b7764cfa1c523e4e93ab2a79a946c4  \n",
       "STATUS        is sore and wants the knot of muscles at the b...  \n",
       "sEXT                                                       2.65  \n",
       "sNEU                                                          3  \n",
       "sAGR                                                       3.15  \n",
       "sCON                                                       3.25  \n",
       "sOPN                                                        4.4  \n",
       "cEXT                                                          n  \n",
       "cNEU                                                          y  \n",
       "cAGR                                                          n  \n",
       "cCON                                                          n  \n",
       "cOPN                                                          y  \n",
       "DATE                                          06/15/09 01:15 PM  \n",
       "NETWORKSIZE                                                 180  \n",
       "BETWEENNESS                                             14861.6  \n",
       "NBETWEENNESS                                              93.29  \n",
       "DENSITY                                                    0.03  \n",
       "BROKERAGE                                                 15661  \n",
       "NBROKERAGE                                                 0.49  \n",
       "TRANSITIVITY                                                0.1  "
      ]
     },
     "execution_count": 3,
     "metadata": {},
     "output_type": "execute_result"
    }
   ],
   "source": [
    "df_raw.head(3).T"
   ]
  },
  {
   "cell_type": "code",
   "execution_count": null,
   "metadata": {
    "collapsed": true
   },
   "outputs": [],
   "source": []
  },
  {
   "cell_type": "code",
   "execution_count": null,
   "metadata": {
    "collapsed": true
   },
   "outputs": [],
   "source": []
  },
  {
   "cell_type": "code",
   "execution_count": null,
   "metadata": {
    "collapsed": false
   },
   "outputs": [],
   "source": []
  },
  {
   "cell_type": "code",
   "execution_count": 4,
   "metadata": {
    "collapsed": false
   },
   "outputs": [
    {
     "data": {
      "text/plain": [
       "(9917, 20)"
      ]
     },
     "execution_count": 4,
     "metadata": {},
     "output_type": "execute_result"
    }
   ],
   "source": [
    "df_raw.shape"
   ]
  },
  {
   "cell_type": "code",
   "execution_count": 5,
   "metadata": {
    "collapsed": true
   },
   "outputs": [],
   "source": [
    "df_grouped = df_raw.groupby(by = \"#AUTHID\", as_index = False).first()"
   ]
  },
  {
   "cell_type": "code",
   "execution_count": 6,
   "metadata": {
    "collapsed": false
   },
   "outputs": [
    {
     "data": {
      "text/html": [
       "<div>\n",
       "<table border=\"1\" class=\"dataframe\">\n",
       "  <thead>\n",
       "    <tr style=\"text-align: right;\">\n",
       "      <th></th>\n",
       "      <th>sEXT</th>\n",
       "      <th>sNEU</th>\n",
       "      <th>sAGR</th>\n",
       "      <th>sCON</th>\n",
       "      <th>sOPN</th>\n",
       "      <th>NETWORKSIZE</th>\n",
       "      <th>BETWEENNESS</th>\n",
       "    </tr>\n",
       "  </thead>\n",
       "  <tbody>\n",
       "    <tr>\n",
       "      <th>count</th>\n",
       "      <td>250.000000</td>\n",
       "      <td>250.000000</td>\n",
       "      <td>250.000000</td>\n",
       "      <td>250.000000</td>\n",
       "      <td>250.00000</td>\n",
       "      <td>250.000000</td>\n",
       "      <td>2.500000e+02</td>\n",
       "    </tr>\n",
       "    <tr>\n",
       "      <th>mean</th>\n",
       "      <td>3.292120</td>\n",
       "      <td>2.627240</td>\n",
       "      <td>3.600320</td>\n",
       "      <td>3.522920</td>\n",
       "      <td>4.07856</td>\n",
       "      <td>408.012000</td>\n",
       "      <td>1.289368e+05</td>\n",
       "    </tr>\n",
       "    <tr>\n",
       "      <th>std</th>\n",
       "      <td>0.861368</td>\n",
       "      <td>0.776835</td>\n",
       "      <td>0.670758</td>\n",
       "      <td>0.740211</td>\n",
       "      <td>0.57506</td>\n",
       "      <td>316.636458</td>\n",
       "      <td>2.048076e+05</td>\n",
       "    </tr>\n",
       "    <tr>\n",
       "      <th>min</th>\n",
       "      <td>1.330000</td>\n",
       "      <td>1.250000</td>\n",
       "      <td>1.650000</td>\n",
       "      <td>1.450000</td>\n",
       "      <td>2.25000</td>\n",
       "      <td>24.000000</td>\n",
       "      <td>1.857100e+02</td>\n",
       "    </tr>\n",
       "    <tr>\n",
       "      <th>25%</th>\n",
       "      <td>2.662500</td>\n",
       "      <td>2.000000</td>\n",
       "      <td>3.150000</td>\n",
       "      <td>3.000000</td>\n",
       "      <td>3.75000</td>\n",
       "      <td>175.000000</td>\n",
       "      <td>1.406235e+04</td>\n",
       "    </tr>\n",
       "    <tr>\n",
       "      <th>50%</th>\n",
       "      <td>3.300000</td>\n",
       "      <td>2.590000</td>\n",
       "      <td>3.660000</td>\n",
       "      <td>3.500000</td>\n",
       "      <td>4.15000</td>\n",
       "      <td>315.000000</td>\n",
       "      <td>4.663610e+04</td>\n",
       "    </tr>\n",
       "    <tr>\n",
       "      <th>75%</th>\n",
       "      <td>4.000000</td>\n",
       "      <td>3.150000</td>\n",
       "      <td>4.100000</td>\n",
       "      <td>4.050000</td>\n",
       "      <td>4.50000</td>\n",
       "      <td>556.500000</td>\n",
       "      <td>1.454830e+05</td>\n",
       "    </tr>\n",
       "    <tr>\n",
       "      <th>max</th>\n",
       "      <td>5.000000</td>\n",
       "      <td>4.750000</td>\n",
       "      <td>5.000000</td>\n",
       "      <td>5.000000</td>\n",
       "      <td>5.00000</td>\n",
       "      <td>1596.000000</td>\n",
       "      <td>1.251780e+06</td>\n",
       "    </tr>\n",
       "  </tbody>\n",
       "</table>\n",
       "</div>"
      ],
      "text/plain": [
       "             sEXT        sNEU        sAGR        sCON       sOPN  NETWORKSIZE  \\\n",
       "count  250.000000  250.000000  250.000000  250.000000  250.00000   250.000000   \n",
       "mean     3.292120    2.627240    3.600320    3.522920    4.07856   408.012000   \n",
       "std      0.861368    0.776835    0.670758    0.740211    0.57506   316.636458   \n",
       "min      1.330000    1.250000    1.650000    1.450000    2.25000    24.000000   \n",
       "25%      2.662500    2.000000    3.150000    3.000000    3.75000   175.000000   \n",
       "50%      3.300000    2.590000    3.660000    3.500000    4.15000   315.000000   \n",
       "75%      4.000000    3.150000    4.100000    4.050000    4.50000   556.500000   \n",
       "max      5.000000    4.750000    5.000000    5.000000    5.00000  1596.000000   \n",
       "\n",
       "        BETWEENNESS  \n",
       "count  2.500000e+02  \n",
       "mean   1.289368e+05  \n",
       "std    2.048076e+05  \n",
       "min    1.857100e+02  \n",
       "25%    1.406235e+04  \n",
       "50%    4.663610e+04  \n",
       "75%    1.454830e+05  \n",
       "max    1.251780e+06  "
      ]
     },
     "execution_count": 6,
     "metadata": {},
     "output_type": "execute_result"
    }
   ],
   "source": [
    "df_grouped[['sEXT', 'sNEU', 'sAGR', 'sCON', 'sOPN',\"NETWORKSIZE\",\"BETWEENNESS\"]].describe()"
   ]
  },
  {
   "cell_type": "code",
   "execution_count": 7,
   "metadata": {
    "collapsed": false
   },
   "outputs": [],
   "source": [
    "df_grouped_reduced = df_grouped[['sEXT', 'sNEU', 'sAGR', 'sCON', 'sOPN',\"NETWORKSIZE\",\"BETWEENNESS\"]].sort_values(by= \"BETWEENNESS\")\n"
   ]
  },
  {
   "cell_type": "code",
   "execution_count": 8,
   "metadata": {
    "collapsed": false
   },
   "outputs": [
    {
     "data": {
      "text/html": [
       "<div>\n",
       "<table border=\"1\" class=\"dataframe\">\n",
       "  <thead>\n",
       "    <tr style=\"text-align: right;\">\n",
       "      <th></th>\n",
       "      <th>sEXT</th>\n",
       "      <th>sNEU</th>\n",
       "      <th>sAGR</th>\n",
       "      <th>sCON</th>\n",
       "      <th>sOPN</th>\n",
       "      <th>NETWORKSIZE</th>\n",
       "      <th>BETWEENNESS</th>\n",
       "      <th>NBETWEENNESS</th>\n",
       "      <th>DENSITY</th>\n",
       "      <th>BROKERAGE</th>\n",
       "      <th>NBROKERAGE</th>\n",
       "      <th>TRANSITIVITY</th>\n",
       "    </tr>\n",
       "  </thead>\n",
       "  <tbody>\n",
       "    <tr>\n",
       "      <th>0.10</th>\n",
       "      <td>2.1450</td>\n",
       "      <td>1.60</td>\n",
       "      <td>2.795</td>\n",
       "      <td>2.60</td>\n",
       "      <td>3.45</td>\n",
       "      <td>90.8</td>\n",
       "      <td>3750.321</td>\n",
       "      <td>86.3300</td>\n",
       "      <td>0.01</td>\n",
       "      <td>3889.50</td>\n",
       "      <td>0.47</td>\n",
       "      <td>0.030</td>\n",
       "    </tr>\n",
       "    <tr>\n",
       "      <th>0.25</th>\n",
       "      <td>2.6625</td>\n",
       "      <td>2.00</td>\n",
       "      <td>3.150</td>\n",
       "      <td>3.00</td>\n",
       "      <td>3.75</td>\n",
       "      <td>175.0</td>\n",
       "      <td>14062.350</td>\n",
       "      <td>93.2600</td>\n",
       "      <td>0.01</td>\n",
       "      <td>14576.25</td>\n",
       "      <td>0.49</td>\n",
       "      <td>0.060</td>\n",
       "    </tr>\n",
       "    <tr>\n",
       "      <th>0.50</th>\n",
       "      <td>3.3000</td>\n",
       "      <td>2.59</td>\n",
       "      <td>3.660</td>\n",
       "      <td>3.50</td>\n",
       "      <td>4.15</td>\n",
       "      <td>315.0</td>\n",
       "      <td>46636.100</td>\n",
       "      <td>96.0200</td>\n",
       "      <td>0.02</td>\n",
       "      <td>48358.00</td>\n",
       "      <td>0.49</td>\n",
       "      <td>0.110</td>\n",
       "    </tr>\n",
       "    <tr>\n",
       "      <th>0.75</th>\n",
       "      <td>4.0000</td>\n",
       "      <td>3.15</td>\n",
       "      <td>4.100</td>\n",
       "      <td>4.05</td>\n",
       "      <td>4.50</td>\n",
       "      <td>556.5</td>\n",
       "      <td>145483.000</td>\n",
       "      <td>97.8075</td>\n",
       "      <td>0.04</td>\n",
       "      <td>152115.75</td>\n",
       "      <td>0.50</td>\n",
       "      <td>0.180</td>\n",
       "    </tr>\n",
       "    <tr>\n",
       "      <th>0.90</th>\n",
       "      <td>4.5000</td>\n",
       "      <td>3.75</td>\n",
       "      <td>4.500</td>\n",
       "      <td>4.50</td>\n",
       "      <td>4.75</td>\n",
       "      <td>846.0</td>\n",
       "      <td>349760.900</td>\n",
       "      <td>98.5910</td>\n",
       "      <td>0.07</td>\n",
       "      <td>354163.00</td>\n",
       "      <td>0.50</td>\n",
       "      <td>0.311</td>\n",
       "    </tr>\n",
       "  </tbody>\n",
       "</table>\n",
       "</div>"
      ],
      "text/plain": [
       "        sEXT  sNEU   sAGR  sCON  sOPN  NETWORKSIZE  BETWEENNESS  NBETWEENNESS  \\\n",
       "0.10  2.1450  1.60  2.795  2.60  3.45         90.8     3750.321       86.3300   \n",
       "0.25  2.6625  2.00  3.150  3.00  3.75        175.0    14062.350       93.2600   \n",
       "0.50  3.3000  2.59  3.660  3.50  4.15        315.0    46636.100       96.0200   \n",
       "0.75  4.0000  3.15  4.100  4.05  4.50        556.5   145483.000       97.8075   \n",
       "0.90  4.5000  3.75  4.500  4.50  4.75        846.0   349760.900       98.5910   \n",
       "\n",
       "      DENSITY  BROKERAGE  NBROKERAGE  TRANSITIVITY  \n",
       "0.10     0.01    3889.50        0.47         0.030  \n",
       "0.25     0.01   14576.25        0.49         0.060  \n",
       "0.50     0.02   48358.00        0.49         0.110  \n",
       "0.75     0.04  152115.75        0.50         0.180  \n",
       "0.90     0.07  354163.00        0.50         0.311  "
      ]
     },
     "execution_count": 8,
     "metadata": {},
     "output_type": "execute_result"
    }
   ],
   "source": [
    "df_grouped.quantile([0.1,0.25,0.5,0.75,0.9])"
   ]
  },
  {
   "cell_type": "code",
   "execution_count": 9,
   "metadata": {
    "collapsed": false
   },
   "outputs": [
    {
     "data": {
      "text/plain": [
       "3750.3209999999999"
      ]
     },
     "execution_count": 9,
     "metadata": {},
     "output_type": "execute_result"
    }
   ],
   "source": [
    "df_grouped[\"BETWEENNESS\"].quantile(0.1)"
   ]
  },
  {
   "cell_type": "code",
   "execution_count": 10,
   "metadata": {
    "collapsed": false
   },
   "outputs": [
    {
     "data": {
      "text/plain": [
       "349760.90000000002"
      ]
     },
     "execution_count": 10,
     "metadata": {},
     "output_type": "execute_result"
    }
   ],
   "source": [
    "df_grouped[\"BETWEENNESS\"].quantile(0.9)"
   ]
  },
  {
   "cell_type": "code",
   "execution_count": 11,
   "metadata": {
    "collapsed": false
   },
   "outputs": [],
   "source": [
    "# Give me all the people who are in the bottom 10% in Betweenness Centrality\n",
    "low_users_df = df_grouped_reduced[df_grouped_reduced[\"BETWEENNESS\"]<df_grouped[\"BETWEENNESS\"].quantile(0.1)]\n",
    "average_low_user = df_grouped_reduced[df_grouped_reduced[\"BETWEENNESS\"]<df_grouped[\"BETWEENNESS\"].quantile(0.1)].mean()\n",
    "\n",
    "# Fairly high openness... intelligence leads to a decrease in working in grous?"
   ]
  },
  {
   "cell_type": "code",
   "execution_count": 12,
   "metadata": {
    "collapsed": false
   },
   "outputs": [],
   "source": [
    "# Give me all the people who are in the top 10% in Betweenness Centrality\n",
    "high_users_df = df_grouped_reduced[df_grouped_reduced[\"BETWEENNESS\"]>df_grouped[\"BETWEENNESS\"].quantile(0.9)]\n",
    "average_high_user = df_grouped_reduced[df_grouped_reduced[\"BETWEENNESS\"]<df_grouped[\"BETWEENNESS\"].quantile(0.9)].mean()\n",
    "\n",
    "# Fairly high openness... intelligence leads to a decrease in working in grous?"
   ]
  },
  {
   "cell_type": "code",
   "execution_count": 13,
   "metadata": {
    "collapsed": false
   },
   "outputs": [
    {
     "name": "stdout",
     "output_type": "stream",
     "text": [
      "Low User:\n",
      "sEXT              2.8784\n",
      "sNEU              2.6932\n",
      "sAGR              3.6492\n",
      "sCON              3.1572\n",
      "sOPN              4.2032\n",
      "NETWORKSIZE      62.8000\n",
      "BETWEENNESS    1841.1144\n",
      "dtype: float64\n",
      "\n",
      "High User:\n",
      "sEXT               3.213689\n",
      "sNEU               2.653556\n",
      "sAGR               3.572133\n",
      "sCON               3.494489\n",
      "sOPN               4.076400\n",
      "NETWORKSIZE      328.315556\n",
      "BETWEENNESS    71920.206578\n",
      "dtype: float64\n",
      "\n"
     ]
    }
   ],
   "source": [
    "print \"Low User:\"\n",
    "print average_low_user\n",
    "print\n",
    "print \"High User:\"\n",
    "print average_high_user\n",
    "print\n"
   ]
  },
  {
   "cell_type": "code",
   "execution_count": 14,
   "metadata": {
    "collapsed": false
   },
   "outputs": [
    {
     "data": {
      "text/html": [
       "<div>\n",
       "<table border=\"1\" class=\"dataframe\">\n",
       "  <thead>\n",
       "    <tr style=\"text-align: right;\">\n",
       "      <th></th>\n",
       "      <th>sEXT</th>\n",
       "      <th>sNEU</th>\n",
       "      <th>sAGR</th>\n",
       "      <th>sCON</th>\n",
       "      <th>sOPN</th>\n",
       "      <th>NETWORKSIZE</th>\n",
       "      <th>BETWEENNESS</th>\n",
       "    </tr>\n",
       "  </thead>\n",
       "  <tbody>\n",
       "    <tr>\n",
       "      <th>77</th>\n",
       "      <td>4.50</td>\n",
       "      <td>4.00</td>\n",
       "      <td>4.00</td>\n",
       "      <td>2.00</td>\n",
       "      <td>2.25</td>\n",
       "      <td>845.0</td>\n",
       "      <td>350408.0</td>\n",
       "    </tr>\n",
       "    <tr>\n",
       "      <th>165</th>\n",
       "      <td>4.00</td>\n",
       "      <td>3.25</td>\n",
       "      <td>3.50</td>\n",
       "      <td>4.25</td>\n",
       "      <td>5.00</td>\n",
       "      <td>899.0</td>\n",
       "      <td>396675.0</td>\n",
       "    </tr>\n",
       "    <tr>\n",
       "      <th>12</th>\n",
       "      <td>4.25</td>\n",
       "      <td>1.75</td>\n",
       "      <td>4.75</td>\n",
       "      <td>5.00</td>\n",
       "      <td>4.00</td>\n",
       "      <td>900.0</td>\n",
       "      <td>397632.0</td>\n",
       "    </tr>\n",
       "    <tr>\n",
       "      <th>111</th>\n",
       "      <td>4.20</td>\n",
       "      <td>2.33</td>\n",
       "      <td>3.17</td>\n",
       "      <td>3.00</td>\n",
       "      <td>4.17</td>\n",
       "      <td>907.0</td>\n",
       "      <td>404895.0</td>\n",
       "    </tr>\n",
       "    <tr>\n",
       "      <th>75</th>\n",
       "      <td>4.15</td>\n",
       "      <td>3.10</td>\n",
       "      <td>3.20</td>\n",
       "      <td>3.60</td>\n",
       "      <td>3.80</td>\n",
       "      <td>950.0</td>\n",
       "      <td>438219.0</td>\n",
       "    </tr>\n",
       "    <tr>\n",
       "      <th>134</th>\n",
       "      <td>4.00</td>\n",
       "      <td>1.95</td>\n",
       "      <td>4.25</td>\n",
       "      <td>3.55</td>\n",
       "      <td>3.45</td>\n",
       "      <td>959.0</td>\n",
       "      <td>441049.0</td>\n",
       "    </tr>\n",
       "    <tr>\n",
       "      <th>162</th>\n",
       "      <td>4.25</td>\n",
       "      <td>1.75</td>\n",
       "      <td>5.00</td>\n",
       "      <td>4.25</td>\n",
       "      <td>3.50</td>\n",
       "      <td>955.0</td>\n",
       "      <td>441841.0</td>\n",
       "    </tr>\n",
       "    <tr>\n",
       "      <th>37</th>\n",
       "      <td>4.10</td>\n",
       "      <td>1.78</td>\n",
       "      <td>3.30</td>\n",
       "      <td>4.30</td>\n",
       "      <td>4.70</td>\n",
       "      <td>947.0</td>\n",
       "      <td>442522.0</td>\n",
       "    </tr>\n",
       "    <tr>\n",
       "      <th>224</th>\n",
       "      <td>4.50</td>\n",
       "      <td>1.75</td>\n",
       "      <td>4.50</td>\n",
       "      <td>4.75</td>\n",
       "      <td>4.75</td>\n",
       "      <td>962.0</td>\n",
       "      <td>446252.0</td>\n",
       "    </tr>\n",
       "    <tr>\n",
       "      <th>218</th>\n",
       "      <td>4.50</td>\n",
       "      <td>2.25</td>\n",
       "      <td>3.50</td>\n",
       "      <td>3.25</td>\n",
       "      <td>3.75</td>\n",
       "      <td>965.0</td>\n",
       "      <td>453685.0</td>\n",
       "    </tr>\n",
       "    <tr>\n",
       "      <th>84</th>\n",
       "      <td>4.50</td>\n",
       "      <td>1.55</td>\n",
       "      <td>3.85</td>\n",
       "      <td>2.60</td>\n",
       "      <td>3.95</td>\n",
       "      <td>1043.0</td>\n",
       "      <td>532379.0</td>\n",
       "    </tr>\n",
       "    <tr>\n",
       "      <th>168</th>\n",
       "      <td>4.60</td>\n",
       "      <td>1.60</td>\n",
       "      <td>4.30</td>\n",
       "      <td>4.70</td>\n",
       "      <td>4.50</td>\n",
       "      <td>1071.0</td>\n",
       "      <td>565761.0</td>\n",
       "    </tr>\n",
       "    <tr>\n",
       "      <th>186</th>\n",
       "      <td>4.75</td>\n",
       "      <td>2.67</td>\n",
       "      <td>4.75</td>\n",
       "      <td>3.67</td>\n",
       "      <td>4.50</td>\n",
       "      <td>1091.0</td>\n",
       "      <td>584445.0</td>\n",
       "    </tr>\n",
       "    <tr>\n",
       "      <th>110</th>\n",
       "      <td>2.25</td>\n",
       "      <td>3.50</td>\n",
       "      <td>3.25</td>\n",
       "      <td>2.75</td>\n",
       "      <td>2.25</td>\n",
       "      <td>1098.0</td>\n",
       "      <td>593081.0</td>\n",
       "    </tr>\n",
       "    <tr>\n",
       "      <th>122</th>\n",
       "      <td>4.60</td>\n",
       "      <td>3.05</td>\n",
       "      <td>2.50</td>\n",
       "      <td>3.75</td>\n",
       "      <td>4.55</td>\n",
       "      <td>1118.0</td>\n",
       "      <td>614830.0</td>\n",
       "    </tr>\n",
       "    <tr>\n",
       "      <th>54</th>\n",
       "      <td>4.50</td>\n",
       "      <td>2.75</td>\n",
       "      <td>4.25</td>\n",
       "      <td>5.00</td>\n",
       "      <td>4.75</td>\n",
       "      <td>1151.0</td>\n",
       "      <td>650745.0</td>\n",
       "    </tr>\n",
       "    <tr>\n",
       "      <th>137</th>\n",
       "      <td>4.05</td>\n",
       "      <td>1.75</td>\n",
       "      <td>4.30</td>\n",
       "      <td>4.05</td>\n",
       "      <td>3.75</td>\n",
       "      <td>1226.0</td>\n",
       "      <td>729549.0</td>\n",
       "    </tr>\n",
       "    <tr>\n",
       "      <th>207</th>\n",
       "      <td>3.40</td>\n",
       "      <td>1.68</td>\n",
       "      <td>4.53</td>\n",
       "      <td>3.50</td>\n",
       "      <td>4.80</td>\n",
       "      <td>1225.0</td>\n",
       "      <td>743530.0</td>\n",
       "    </tr>\n",
       "    <tr>\n",
       "      <th>68</th>\n",
       "      <td>3.90</td>\n",
       "      <td>1.70</td>\n",
       "      <td>4.20</td>\n",
       "      <td>4.60</td>\n",
       "      <td>4.70</td>\n",
       "      <td>1267.0</td>\n",
       "      <td>767221.0</td>\n",
       "    </tr>\n",
       "    <tr>\n",
       "      <th>107</th>\n",
       "      <td>3.70</td>\n",
       "      <td>2.25</td>\n",
       "      <td>3.30</td>\n",
       "      <td>3.70</td>\n",
       "      <td>4.05</td>\n",
       "      <td>1264.0</td>\n",
       "      <td>780799.0</td>\n",
       "    </tr>\n",
       "    <tr>\n",
       "      <th>232</th>\n",
       "      <td>4.75</td>\n",
       "      <td>2.50</td>\n",
       "      <td>2.75</td>\n",
       "      <td>4.25</td>\n",
       "      <td>4.25</td>\n",
       "      <td>1323.0</td>\n",
       "      <td>871606.0</td>\n",
       "    </tr>\n",
       "    <tr>\n",
       "      <th>191</th>\n",
       "      <td>3.75</td>\n",
       "      <td>2.00</td>\n",
       "      <td>4.50</td>\n",
       "      <td>4.00</td>\n",
       "      <td>3.75</td>\n",
       "      <td>1350.0</td>\n",
       "      <td>895790.0</td>\n",
       "    </tr>\n",
       "    <tr>\n",
       "      <th>31</th>\n",
       "      <td>3.30</td>\n",
       "      <td>2.85</td>\n",
       "      <td>4.20</td>\n",
       "      <td>3.40</td>\n",
       "      <td>4.75</td>\n",
       "      <td>1460.0</td>\n",
       "      <td>1056550.0</td>\n",
       "    </tr>\n",
       "    <tr>\n",
       "      <th>156</th>\n",
       "      <td>2.45</td>\n",
       "      <td>3.25</td>\n",
       "      <td>2.50</td>\n",
       "      <td>3.30</td>\n",
       "      <td>4.20</td>\n",
       "      <td>1560.0</td>\n",
       "      <td>1200910.0</td>\n",
       "    </tr>\n",
       "    <tr>\n",
       "      <th>13</th>\n",
       "      <td>3.00</td>\n",
       "      <td>2.75</td>\n",
       "      <td>4.00</td>\n",
       "      <td>3.25</td>\n",
       "      <td>4.33</td>\n",
       "      <td>1596.0</td>\n",
       "      <td>1251780.0</td>\n",
       "    </tr>\n",
       "  </tbody>\n",
       "</table>\n",
       "</div>"
      ],
      "text/plain": [
       "     sEXT  sNEU  sAGR  sCON  sOPN  NETWORKSIZE  BETWEENNESS\n",
       "77   4.50  4.00  4.00  2.00  2.25        845.0     350408.0\n",
       "165  4.00  3.25  3.50  4.25  5.00        899.0     396675.0\n",
       "12   4.25  1.75  4.75  5.00  4.00        900.0     397632.0\n",
       "111  4.20  2.33  3.17  3.00  4.17        907.0     404895.0\n",
       "75   4.15  3.10  3.20  3.60  3.80        950.0     438219.0\n",
       "134  4.00  1.95  4.25  3.55  3.45        959.0     441049.0\n",
       "162  4.25  1.75  5.00  4.25  3.50        955.0     441841.0\n",
       "37   4.10  1.78  3.30  4.30  4.70        947.0     442522.0\n",
       "224  4.50  1.75  4.50  4.75  4.75        962.0     446252.0\n",
       "218  4.50  2.25  3.50  3.25  3.75        965.0     453685.0\n",
       "84   4.50  1.55  3.85  2.60  3.95       1043.0     532379.0\n",
       "168  4.60  1.60  4.30  4.70  4.50       1071.0     565761.0\n",
       "186  4.75  2.67  4.75  3.67  4.50       1091.0     584445.0\n",
       "110  2.25  3.50  3.25  2.75  2.25       1098.0     593081.0\n",
       "122  4.60  3.05  2.50  3.75  4.55       1118.0     614830.0\n",
       "54   4.50  2.75  4.25  5.00  4.75       1151.0     650745.0\n",
       "137  4.05  1.75  4.30  4.05  3.75       1226.0     729549.0\n",
       "207  3.40  1.68  4.53  3.50  4.80       1225.0     743530.0\n",
       "68   3.90  1.70  4.20  4.60  4.70       1267.0     767221.0\n",
       "107  3.70  2.25  3.30  3.70  4.05       1264.0     780799.0\n",
       "232  4.75  2.50  2.75  4.25  4.25       1323.0     871606.0\n",
       "191  3.75  2.00  4.50  4.00  3.75       1350.0     895790.0\n",
       "31   3.30  2.85  4.20  3.40  4.75       1460.0    1056550.0\n",
       "156  2.45  3.25  2.50  3.30  4.20       1560.0    1200910.0\n",
       "13   3.00  2.75  4.00  3.25  4.33       1596.0    1251780.0"
      ]
     },
     "execution_count": 14,
     "metadata": {},
     "output_type": "execute_result"
    }
   ],
   "source": [
    "high_users_df"
   ]
  },
  {
   "cell_type": "markdown",
   "metadata": {},
   "source": [
    "## Observation: High users clearly \"all\" are oriented toward greater extroversion. \n",
    "Low users are more spread out"
   ]
  },
  {
   "cell_type": "code",
   "execution_count": 15,
   "metadata": {
    "collapsed": false
   },
   "outputs": [
    {
     "data": {
      "text/plain": [
       "[<matplotlib.lines.Line2D at 0x10feba950>]"
      ]
     },
     "execution_count": 15,
     "metadata": {},
     "output_type": "execute_result"
    },
    {
     "data": {
      "image/png": "[encoded data removed]",
      "text/plain": [
       "<matplotlib.figure.Figure at 0x111059890>"
      ]
     },
     "metadata": {},
     "output_type": "display_data"
    }
   ],
   "source": [
    "plt.plot(high_users_df[\"sEXT\"])\n",
    "plt.plot(low_users_df[\"sEXT\"])"
   ]
  },
  {
   "cell_type": "markdown",
   "metadata": {},
   "source": [
    "## Observation: High Users show greater diversity of values in consciousness. Whereas low users tend to be centered in the middle."
   ]
  },
  {
   "cell_type": "code",
   "execution_count": 16,
   "metadata": {
    "collapsed": false
   },
   "outputs": [
    {
     "data": {
      "text/plain": [
       "[<matplotlib.lines.Line2D at 0x110a3b050>]"
      ]
     },
     "execution_count": 16,
     "metadata": {},
     "output_type": "execute_result"
    },
    {
     "data": {
      "image/png": "[encoded data removed]",
      "text/plain": [
       "<matplotlib.figure.Figure at 0x10febafd0>"
      ]
     },
     "metadata": {},
     "output_type": "display_data"
    }
   ],
   "source": [
    "plt.plot(high_users_df[\"sCON\"])\n",
    "plt.plot(low_users_df[\"sCON\"])"
   ]
  },
  {
   "cell_type": "markdown",
   "metadata": {},
   "source": [
    "# High users tend to have low values of neuroticism . Low users are more spread out."
   ]
  },
  {
   "cell_type": "code",
   "execution_count": 17,
   "metadata": {
    "collapsed": false
   },
   "outputs": [
    {
     "data": {
      "text/plain": [
       "[<matplotlib.lines.Line2D at 0x110a67f50>]"
      ]
     },
     "execution_count": 17,
     "metadata": {},
     "output_type": "execute_result"
    },
    {
     "data": {
      "image/png": "[encoded data removed]",
      "text/plain": [
       "<matplotlib.figure.Figure at 0x111101b10>"
      ]
     },
     "metadata": {},
     "output_type": "display_data"
    }
   ],
   "source": [
    "plt.plot(high_users_df[\"sNEU\"])\n",
    "plt.plot(low_users_df[\"sNEU\"])"
   ]
  },
  {
   "cell_type": "code",
   "execution_count": null,
   "metadata": {
    "collapsed": false
   },
   "outputs": [],
   "source": []
  },
  {
   "cell_type": "markdown",
   "metadata": {},
   "source": [
    "## About the same in both groups.."
   ]
  },
  {
   "cell_type": "code",
   "execution_count": 18,
   "metadata": {
    "collapsed": false
   },
   "outputs": [
    {
     "data": {
      "text/plain": [
       "[<matplotlib.lines.Line2D at 0x113b0d850>]"
      ]
     },
     "execution_count": 18,
     "metadata": {},
     "output_type": "execute_result"
    },
    {
     "data": {
      "image/png": "[encoded data removed]",
      "text/plain": [
       "<matplotlib.figure.Figure at 0x111101410>"
      ]
     },
     "metadata": {},
     "output_type": "display_data"
    }
   ],
   "source": [
    "plt.plot(high_users_df[\"sAGR\"])\n",
    "plt.plot(low_users_df[\"sAGR\"])"
   ]
  },
  {
   "cell_type": "markdown",
   "metadata": {},
   "source": [
    "# High users tend to have/ be focused on the extreme positive. "
   ]
  },
  {
   "cell_type": "code",
   "execution_count": 19,
   "metadata": {
    "collapsed": false
   },
   "outputs": [
    {
     "data": {
      "text/plain": [
       "[<matplotlib.lines.Line2D at 0x113b5e110>]"
      ]
     },
     "execution_count": 19,
     "metadata": {},
     "output_type": "execute_result"
    },
    {
     "data": {
      "image/png": "[encoded data removed]",
      "text/plain": [
       "<matplotlib.figure.Figure at 0x113d5cad0>"
      ]
     },
     "metadata": {},
     "output_type": "display_data"
    }
   ],
   "source": [
    "plt.plot(high_users_df[\"sOPN\"])\n",
    "plt.plot(low_users_df[\"sOPN\"])"
   ]
  },
  {
   "cell_type": "code",
   "execution_count": null,
   "metadata": {
    "collapsed": true
   },
   "outputs": [],
   "source": []
  },
  {
   "cell_type": "markdown",
   "metadata": {},
   "source": [
    "# Extracting some time series"
   ]
  },
  {
   "cell_type": "code",
   "execution_count": 20,
   "metadata": {
    "collapsed": false
   },
   "outputs": [],
   "source": [
    "x_extroversion = df_grouped[\"sEXT\"]\n",
    "x_neuroticism = df_grouped[\"sNEU\"]\n",
    "x_agreeableness = df_grouped[\"sAGR\"]\n",
    "x_conscientiousness = df_grouped[\"sCON\"]\n",
    "x_openness = df_grouped[\"sOPN\"]\n",
    "\n",
    "# y_betweenness = df_grouped[\"BETWEENNESS\"] / df_grouped[\"NETWORKSIZE\"]   # Temporary\n",
    "y_betweenness = df_grouped[\"BETWEENNESS\"]\n",
    "\n",
    "\n",
    "y_nbetweenness = df_grouped[\"NBETWEENNESS\"]\n",
    "\n",
    "network_size = df_grouped[\"NETWORKSIZE\"]\n",
    "\n",
    "variable_list = [x_extroversion,x_neuroticism,x_agreeableness,x_conscientiousness,x_openness]"
   ]
  },
  {
   "cell_type": "markdown",
   "metadata": {},
   "source": [
    "# List of Basic Models"
   ]
  },
  {
   "cell_type": "code",
   "execution_count": 21,
   "metadata": {
    "collapsed": false
   },
   "outputs": [],
   "source": [
    "X_big5 = pd.DataFrame([x_extroversion,x_neuroticism,x_agreeableness,x_conscientiousness,x_openness]).T\n",
    "X_network = pd.DataFrame([network_size]).T\n",
    "X_big5_and_network = pd.DataFrame([x_extroversion,x_neuroticism,x_agreeableness,x_conscientiousness,x_openness,network_size]).T\n",
    "X_big5_and_network_betweenness = pd.DataFrame([x_extroversion,x_neuroticism,x_agreeableness,x_conscientiousness,x_openness,network_size,y_betweenness]).T"
   ]
  },
  {
   "cell_type": "markdown",
   "metadata": {},
   "source": [
    "# Creating some useful scatterplots"
   ]
  },
  {
   "cell_type": "code",
   "execution_count": 22,
   "metadata": {
    "collapsed": false
   },
   "outputs": [
    {
     "name": "stderr",
     "output_type": "stream",
     "text": [
      "//anaconda/lib/python2.7/site-packages/matplotlib/collections.py:590: FutureWarning:\n",
      "\n",
      "elementwise comparison failed; returning scalar instead, but in the future will perform elementwise comparison\n",
      "\n"
     ]
    },
    {
     "data": {
      "image/png": "[encoded data removed]",
      "text/plain": [
       "<matplotlib.figure.Figure at 0x113da0d50>"
      ]
     },
     "metadata": {},
     "output_type": "display_data"
    }
   ],
   "source": [
    "scatter_matrix(X_big5_and_network_betweenness, alpha=0.2, figsize=(15,15), diagonal='kde')\n",
    "plt.savefig(\"../Visualizations/scatter_plot_matrix_big5_networks.png\")\n",
    "plt.show()"
   ]
  },
  {
   "cell_type": "markdown",
   "metadata": {},
   "source": [
    "## Create a function which does a \"polynomial expansion\" for all the individual features"
   ]
  },
  {
   "cell_type": "code",
   "execution_count": null,
   "metadata": {
    "collapsed": false
   },
   "outputs": [],
   "source": []
  },
  {
   "cell_type": "markdown",
   "metadata": {},
   "source": [
    "# Generate expanded models"
   ]
  },
  {
   "cell_type": "code",
   "execution_count": 23,
   "metadata": {
    "collapsed": false
   },
   "outputs": [
    {
     "data": {
      "text/html": [
       "<div>\n",
       "<table border=\"1\" class=\"dataframe\">\n",
       "  <thead>\n",
       "    <tr style=\"text-align: right;\">\n",
       "      <th></th>\n",
       "      <th>sEXT</th>\n",
       "      <th>sNEU</th>\n",
       "      <th>sAGR</th>\n",
       "      <th>sCON</th>\n",
       "      <th>sOPN</th>\n",
       "    </tr>\n",
       "  </thead>\n",
       "  <tbody>\n",
       "    <tr>\n",
       "      <th>0</th>\n",
       "      <td>1.90</td>\n",
       "      <td>4.15</td>\n",
       "      <td>3.15</td>\n",
       "      <td>4.65</td>\n",
       "      <td>3.45</td>\n",
       "    </tr>\n",
       "    <tr>\n",
       "      <th>1</th>\n",
       "      <td>2.05</td>\n",
       "      <td>4.00</td>\n",
       "      <td>2.20</td>\n",
       "      <td>2.20</td>\n",
       "      <td>3.75</td>\n",
       "    </tr>\n",
       "    <tr>\n",
       "      <th>2</th>\n",
       "      <td>3.84</td>\n",
       "      <td>3.55</td>\n",
       "      <td>2.85</td>\n",
       "      <td>4.32</td>\n",
       "      <td>3.45</td>\n",
       "    </tr>\n",
       "    <tr>\n",
       "      <th>3</th>\n",
       "      <td>3.20</td>\n",
       "      <td>3.60</td>\n",
       "      <td>3.85</td>\n",
       "      <td>4.35</td>\n",
       "      <td>4.80</td>\n",
       "    </tr>\n",
       "    <tr>\n",
       "      <th>4</th>\n",
       "      <td>2.85</td>\n",
       "      <td>2.35</td>\n",
       "      <td>3.35</td>\n",
       "      <td>4.70</td>\n",
       "      <td>3.35</td>\n",
       "    </tr>\n",
       "  </tbody>\n",
       "</table>\n",
       "</div>"
      ],
      "text/plain": [
       "   sEXT  sNEU  sAGR  sCON  sOPN\n",
       "0  1.90  4.15  3.15  4.65  3.45\n",
       "1  2.05  4.00  2.20  2.20  3.75\n",
       "2  3.84  3.55  2.85  4.32  3.45\n",
       "3  3.20  3.60  3.85  4.35  4.80\n",
       "4  2.85  2.35  3.35  4.70  3.35"
      ]
     },
     "execution_count": 23,
     "metadata": {},
     "output_type": "execute_result"
    }
   ],
   "source": [
    "X_big5.head()"
   ]
  },
  {
   "cell_type": "markdown",
   "metadata": {},
   "source": [
    "# Testing out alternate solution to preprocessing code - Begining"
   ]
  },
  {
   "cell_type": "code",
   "execution_count": 24,
   "metadata": {
    "collapsed": false
   },
   "outputs": [
    {
     "data": {
      "text/html": [
       "<div>\n",
       "<table border=\"1\" class=\"dataframe\">\n",
       "  <thead>\n",
       "    <tr style=\"text-align: right;\">\n",
       "      <th></th>\n",
       "      <th>sEXT</th>\n",
       "      <th>sNEU</th>\n",
       "      <th>sAGR</th>\n",
       "      <th>sCON</th>\n",
       "      <th>sOPN</th>\n",
       "    </tr>\n",
       "  </thead>\n",
       "  <tbody>\n",
       "    <tr>\n",
       "      <th>0</th>\n",
       "      <td>1.90</td>\n",
       "      <td>4.15</td>\n",
       "      <td>3.15</td>\n",
       "      <td>4.65</td>\n",
       "      <td>3.45</td>\n",
       "    </tr>\n",
       "    <tr>\n",
       "      <th>1</th>\n",
       "      <td>2.05</td>\n",
       "      <td>4.00</td>\n",
       "      <td>2.20</td>\n",
       "      <td>2.20</td>\n",
       "      <td>3.75</td>\n",
       "    </tr>\n",
       "    <tr>\n",
       "      <th>2</th>\n",
       "      <td>3.84</td>\n",
       "      <td>3.55</td>\n",
       "      <td>2.85</td>\n",
       "      <td>4.32</td>\n",
       "      <td>3.45</td>\n",
       "    </tr>\n",
       "    <tr>\n",
       "      <th>3</th>\n",
       "      <td>3.20</td>\n",
       "      <td>3.60</td>\n",
       "      <td>3.85</td>\n",
       "      <td>4.35</td>\n",
       "      <td>4.80</td>\n",
       "    </tr>\n",
       "    <tr>\n",
       "      <th>4</th>\n",
       "      <td>2.85</td>\n",
       "      <td>2.35</td>\n",
       "      <td>3.35</td>\n",
       "      <td>4.70</td>\n",
       "      <td>3.35</td>\n",
       "    </tr>\n",
       "  </tbody>\n",
       "</table>\n",
       "</div>"
      ],
      "text/plain": [
       "   sEXT  sNEU  sAGR  sCON  sOPN\n",
       "0  1.90  4.15  3.15  4.65  3.45\n",
       "1  2.05  4.00  2.20  2.20  3.75\n",
       "2  3.84  3.55  2.85  4.32  3.45\n",
       "3  3.20  3.60  3.85  4.35  4.80\n",
       "4  2.85  2.35  3.35  4.70  3.35"
      ]
     },
     "execution_count": 24,
     "metadata": {},
     "output_type": "execute_result"
    }
   ],
   "source": [
    "X_big5_test = X_big5\n",
    "X_big5_test.head()"
   ]
  },
  {
   "cell_type": "code",
   "execution_count": 25,
   "metadata": {
    "collapsed": false
   },
   "outputs": [],
   "source": [
    "poly = pp.PolynomialFeatures(2,include_bias=True)\n",
    "output_nparray = poly.fit_transform(X_big5_test)\n",
    "powers_nparray = poly.powers_"
   ]
  },
  {
   "cell_type": "code",
   "execution_count": null,
   "metadata": {
    "collapsed": true
   },
   "outputs": [],
   "source": []
  },
  {
   "cell_type": "code",
   "execution_count": 26,
   "metadata": {
    "collapsed": false
   },
   "outputs": [],
   "source": [
    "target_feature_names = ['x'.join(['{}^{}'.format(pair[0],pair[1]) for pair in tuple if pair[1]!=0]) for tuple in [zip(X_big5_test.columns,p) for p in poly.powers_]]\n",
    "output_df = pd.DataFrame(output_nparray, columns = target_feature_names)"
   ]
  },
  {
   "cell_type": "code",
   "execution_count": 27,
   "metadata": {
    "collapsed": false
   },
   "outputs": [
    {
     "data": {
      "text/html": [
       "<div>\n",
       "<table border=\"1\" class=\"dataframe\">\n",
       "  <thead>\n",
       "    <tr style=\"text-align: right;\">\n",
       "      <th></th>\n",
       "      <th></th>\n",
       "      <th>sEXT^1</th>\n",
       "      <th>sNEU^1</th>\n",
       "      <th>sAGR^1</th>\n",
       "      <th>sCON^1</th>\n",
       "      <th>sOPN^1</th>\n",
       "      <th>sEXT^2</th>\n",
       "      <th>sEXT^1xsNEU^1</th>\n",
       "      <th>sEXT^1xsAGR^1</th>\n",
       "      <th>sEXT^1xsCON^1</th>\n",
       "      <th>...</th>\n",
       "      <th>sNEU^2</th>\n",
       "      <th>sNEU^1xsAGR^1</th>\n",
       "      <th>sNEU^1xsCON^1</th>\n",
       "      <th>sNEU^1xsOPN^1</th>\n",
       "      <th>sAGR^2</th>\n",
       "      <th>sAGR^1xsCON^1</th>\n",
       "      <th>sAGR^1xsOPN^1</th>\n",
       "      <th>sCON^2</th>\n",
       "      <th>sCON^1xsOPN^1</th>\n",
       "      <th>sOPN^2</th>\n",
       "    </tr>\n",
       "  </thead>\n",
       "  <tbody>\n",
       "    <tr>\n",
       "      <th>0</th>\n",
       "      <td>1.0</td>\n",
       "      <td>1.90</td>\n",
       "      <td>4.15</td>\n",
       "      <td>3.15</td>\n",
       "      <td>4.65</td>\n",
       "      <td>3.45</td>\n",
       "      <td>3.6100</td>\n",
       "      <td>7.8850</td>\n",
       "      <td>5.9850</td>\n",
       "      <td>8.8350</td>\n",
       "      <td>...</td>\n",
       "      <td>17.2225</td>\n",
       "      <td>13.0725</td>\n",
       "      <td>19.2975</td>\n",
       "      <td>14.3175</td>\n",
       "      <td>9.9225</td>\n",
       "      <td>14.6475</td>\n",
       "      <td>10.8675</td>\n",
       "      <td>21.6225</td>\n",
       "      <td>16.0425</td>\n",
       "      <td>11.9025</td>\n",
       "    </tr>\n",
       "    <tr>\n",
       "      <th>1</th>\n",
       "      <td>1.0</td>\n",
       "      <td>2.05</td>\n",
       "      <td>4.00</td>\n",
       "      <td>2.20</td>\n",
       "      <td>2.20</td>\n",
       "      <td>3.75</td>\n",
       "      <td>4.2025</td>\n",
       "      <td>8.2000</td>\n",
       "      <td>4.5100</td>\n",
       "      <td>4.5100</td>\n",
       "      <td>...</td>\n",
       "      <td>16.0000</td>\n",
       "      <td>8.8000</td>\n",
       "      <td>8.8000</td>\n",
       "      <td>15.0000</td>\n",
       "      <td>4.8400</td>\n",
       "      <td>4.8400</td>\n",
       "      <td>8.2500</td>\n",
       "      <td>4.8400</td>\n",
       "      <td>8.2500</td>\n",
       "      <td>14.0625</td>\n",
       "    </tr>\n",
       "    <tr>\n",
       "      <th>2</th>\n",
       "      <td>1.0</td>\n",
       "      <td>3.84</td>\n",
       "      <td>3.55</td>\n",
       "      <td>2.85</td>\n",
       "      <td>4.32</td>\n",
       "      <td>3.45</td>\n",
       "      <td>14.7456</td>\n",
       "      <td>13.6320</td>\n",
       "      <td>10.9440</td>\n",
       "      <td>16.5888</td>\n",
       "      <td>...</td>\n",
       "      <td>12.6025</td>\n",
       "      <td>10.1175</td>\n",
       "      <td>15.3360</td>\n",
       "      <td>12.2475</td>\n",
       "      <td>8.1225</td>\n",
       "      <td>12.3120</td>\n",
       "      <td>9.8325</td>\n",
       "      <td>18.6624</td>\n",
       "      <td>14.9040</td>\n",
       "      <td>11.9025</td>\n",
       "    </tr>\n",
       "    <tr>\n",
       "      <th>3</th>\n",
       "      <td>1.0</td>\n",
       "      <td>3.20</td>\n",
       "      <td>3.60</td>\n",
       "      <td>3.85</td>\n",
       "      <td>4.35</td>\n",
       "      <td>4.80</td>\n",
       "      <td>10.2400</td>\n",
       "      <td>11.5200</td>\n",
       "      <td>12.3200</td>\n",
       "      <td>13.9200</td>\n",
       "      <td>...</td>\n",
       "      <td>12.9600</td>\n",
       "      <td>13.8600</td>\n",
       "      <td>15.6600</td>\n",
       "      <td>17.2800</td>\n",
       "      <td>14.8225</td>\n",
       "      <td>16.7475</td>\n",
       "      <td>18.4800</td>\n",
       "      <td>18.9225</td>\n",
       "      <td>20.8800</td>\n",
       "      <td>23.0400</td>\n",
       "    </tr>\n",
       "    <tr>\n",
       "      <th>4</th>\n",
       "      <td>1.0</td>\n",
       "      <td>2.85</td>\n",
       "      <td>2.35</td>\n",
       "      <td>3.35</td>\n",
       "      <td>4.70</td>\n",
       "      <td>3.35</td>\n",
       "      <td>8.1225</td>\n",
       "      <td>6.6975</td>\n",
       "      <td>9.5475</td>\n",
       "      <td>13.3950</td>\n",
       "      <td>...</td>\n",
       "      <td>5.5225</td>\n",
       "      <td>7.8725</td>\n",
       "      <td>11.0450</td>\n",
       "      <td>7.8725</td>\n",
       "      <td>11.2225</td>\n",
       "      <td>15.7450</td>\n",
       "      <td>11.2225</td>\n",
       "      <td>22.0900</td>\n",
       "      <td>15.7450</td>\n",
       "      <td>11.2225</td>\n",
       "    </tr>\n",
       "  </tbody>\n",
       "</table>\n",
       "<p>5 rows × 21 columns</p>\n",
       "</div>"
      ],
      "text/plain": [
       "        sEXT^1  sNEU^1  sAGR^1  sCON^1  sOPN^1   sEXT^2  sEXT^1xsNEU^1  \\\n",
       "0  1.0    1.90    4.15    3.15    4.65    3.45   3.6100         7.8850   \n",
       "1  1.0    2.05    4.00    2.20    2.20    3.75   4.2025         8.2000   \n",
       "2  1.0    3.84    3.55    2.85    4.32    3.45  14.7456        13.6320   \n",
       "3  1.0    3.20    3.60    3.85    4.35    4.80  10.2400        11.5200   \n",
       "4  1.0    2.85    2.35    3.35    4.70    3.35   8.1225         6.6975   \n",
       "\n",
       "   sEXT^1xsAGR^1  sEXT^1xsCON^1   ...      sNEU^2  sNEU^1xsAGR^1  \\\n",
       "0         5.9850         8.8350   ...     17.2225        13.0725   \n",
       "1         4.5100         4.5100   ...     16.0000         8.8000   \n",
       "2        10.9440        16.5888   ...     12.6025        10.1175   \n",
       "3        12.3200        13.9200   ...     12.9600        13.8600   \n",
       "4         9.5475        13.3950   ...      5.5225         7.8725   \n",
       "\n",
       "   sNEU^1xsCON^1  sNEU^1xsOPN^1   sAGR^2  sAGR^1xsCON^1  sAGR^1xsOPN^1  \\\n",
       "0        19.2975        14.3175   9.9225        14.6475        10.8675   \n",
       "1         8.8000        15.0000   4.8400         4.8400         8.2500   \n",
       "2        15.3360        12.2475   8.1225        12.3120         9.8325   \n",
       "3        15.6600        17.2800  14.8225        16.7475        18.4800   \n",
       "4        11.0450         7.8725  11.2225        15.7450        11.2225   \n",
       "\n",
       "    sCON^2  sCON^1xsOPN^1   sOPN^2  \n",
       "0  21.6225        16.0425  11.9025  \n",
       "1   4.8400         8.2500  14.0625  \n",
       "2  18.6624        14.9040  11.9025  \n",
       "3  18.9225        20.8800  23.0400  \n",
       "4  22.0900        15.7450  11.2225  \n",
       "\n",
       "[5 rows x 21 columns]"
      ]
     },
     "execution_count": 27,
     "metadata": {},
     "output_type": "execute_result"
    }
   ],
   "source": [
    "output_df.head()"
   ]
  },
  {
   "cell_type": "markdown",
   "metadata": {},
   "source": [
    "## It works but doesn't add in the constant term. Regardless, a lot faster it seems than how i did it. WIll need to digest further later."
   ]
  },
  {
   "cell_type": "markdown",
   "metadata": {},
   "source": [
    "# Testing out alternate solution to preprocessing code - End"
   ]
  },
  {
   "cell_type": "code",
   "execution_count": 28,
   "metadata": {
    "collapsed": false
   },
   "outputs": [],
   "source": [
    "# THis has to come first otherwise the constant term will get duplicated\n",
    "X_big5_polyexpanded = label_polynomial_features(X_big5,2,bias = True)\n",
    "X_network_polyexpanded =  label_polynomial_features(X_network,2,bias = True)\n",
    "X_big5_and_network_polyexpanded =  label_polynomial_features(X_big5_and_network,2,bias = True)\n",
    "\n",
    "# The reason I'm recreating these with polynomial expansion is just so it will have consistent feature names with the others\n",
    "X_big5= label_polynomial_features(X_big5,1,bias = True)\n",
    "X_network=  label_polynomial_features(X_network,1,bias = True)\n",
    "X_big5_and_network =  label_polynomial_features(X_big5_and_network,1,bias = True)\n",
    "\n",
    "\n",
    "#target_feature_names = ['x'.join(['{}^{}'.format(pair[0],pair[1]) for pair in tuple if pair[1]!=0]) for tuple in [zip(X_big5`.columns,p) for p in poly.powers_]]\n",
    "#output_df = pd.DataFrame(output_nparray, columns = target_feature_names)\n"
   ]
  },
  {
   "cell_type": "code",
   "execution_count": 29,
   "metadata": {
    "collapsed": true
   },
   "outputs": [],
   "source": [
    "list_of_model_names = [\n",
    "                        'X_big5',\n",
    "                        'X_big5_polyexpanded',\n",
    "                        'X_network',\n",
    "                        'X_network_polyexpanded',\n",
    "                        'X_big5_and_network',\n",
    "                        'X_big5_and_network_polyexpanded']"
   ]
  },
  {
   "cell_type": "code",
   "execution_count": 30,
   "metadata": {
    "collapsed": false
   },
   "outputs": [
    {
     "data": {
      "text/html": [
       "<div>\n",
       "<table border=\"1\" class=\"dataframe\">\n",
       "  <thead>\n",
       "    <tr style=\"text-align: right;\">\n",
       "      <th></th>\n",
       "      <th>Constant Term</th>\n",
       "      <th>sEXT^1</th>\n",
       "      <th>sNEU^1</th>\n",
       "      <th>sAGR^1</th>\n",
       "      <th>sCON^1</th>\n",
       "      <th>sOPN^1</th>\n",
       "      <th>sEXT^2</th>\n",
       "      <th>sEXT^1 x sNEU^1</th>\n",
       "      <th>sEXT^1 x sAGR^1</th>\n",
       "      <th>sEXT^1 x sCON^1</th>\n",
       "      <th>...</th>\n",
       "      <th>sNEU^2</th>\n",
       "      <th>sNEU^1 x sAGR^1</th>\n",
       "      <th>sNEU^1 x sCON^1</th>\n",
       "      <th>sNEU^1 x sOPN^1</th>\n",
       "      <th>sAGR^2</th>\n",
       "      <th>sAGR^1 x sCON^1</th>\n",
       "      <th>sAGR^1 x sOPN^1</th>\n",
       "      <th>sCON^2</th>\n",
       "      <th>sCON^1 x sOPN^1</th>\n",
       "      <th>sOPN^2</th>\n",
       "    </tr>\n",
       "  </thead>\n",
       "  <tbody>\n",
       "    <tr>\n",
       "      <th>0</th>\n",
       "      <td>1.0</td>\n",
       "      <td>1.90</td>\n",
       "      <td>4.15</td>\n",
       "      <td>3.15</td>\n",
       "      <td>4.65</td>\n",
       "      <td>3.45</td>\n",
       "      <td>3.6100</td>\n",
       "      <td>7.8850</td>\n",
       "      <td>5.9850</td>\n",
       "      <td>8.8350</td>\n",
       "      <td>...</td>\n",
       "      <td>17.2225</td>\n",
       "      <td>13.0725</td>\n",
       "      <td>19.2975</td>\n",
       "      <td>14.3175</td>\n",
       "      <td>9.9225</td>\n",
       "      <td>14.6475</td>\n",
       "      <td>10.8675</td>\n",
       "      <td>21.6225</td>\n",
       "      <td>16.0425</td>\n",
       "      <td>11.9025</td>\n",
       "    </tr>\n",
       "    <tr>\n",
       "      <th>1</th>\n",
       "      <td>1.0</td>\n",
       "      <td>2.05</td>\n",
       "      <td>4.00</td>\n",
       "      <td>2.20</td>\n",
       "      <td>2.20</td>\n",
       "      <td>3.75</td>\n",
       "      <td>4.2025</td>\n",
       "      <td>8.2000</td>\n",
       "      <td>4.5100</td>\n",
       "      <td>4.5100</td>\n",
       "      <td>...</td>\n",
       "      <td>16.0000</td>\n",
       "      <td>8.8000</td>\n",
       "      <td>8.8000</td>\n",
       "      <td>15.0000</td>\n",
       "      <td>4.8400</td>\n",
       "      <td>4.8400</td>\n",
       "      <td>8.2500</td>\n",
       "      <td>4.8400</td>\n",
       "      <td>8.2500</td>\n",
       "      <td>14.0625</td>\n",
       "    </tr>\n",
       "    <tr>\n",
       "      <th>2</th>\n",
       "      <td>1.0</td>\n",
       "      <td>3.84</td>\n",
       "      <td>3.55</td>\n",
       "      <td>2.85</td>\n",
       "      <td>4.32</td>\n",
       "      <td>3.45</td>\n",
       "      <td>14.7456</td>\n",
       "      <td>13.6320</td>\n",
       "      <td>10.9440</td>\n",
       "      <td>16.5888</td>\n",
       "      <td>...</td>\n",
       "      <td>12.6025</td>\n",
       "      <td>10.1175</td>\n",
       "      <td>15.3360</td>\n",
       "      <td>12.2475</td>\n",
       "      <td>8.1225</td>\n",
       "      <td>12.3120</td>\n",
       "      <td>9.8325</td>\n",
       "      <td>18.6624</td>\n",
       "      <td>14.9040</td>\n",
       "      <td>11.9025</td>\n",
       "    </tr>\n",
       "    <tr>\n",
       "      <th>3</th>\n",
       "      <td>1.0</td>\n",
       "      <td>3.20</td>\n",
       "      <td>3.60</td>\n",
       "      <td>3.85</td>\n",
       "      <td>4.35</td>\n",
       "      <td>4.80</td>\n",
       "      <td>10.2400</td>\n",
       "      <td>11.5200</td>\n",
       "      <td>12.3200</td>\n",
       "      <td>13.9200</td>\n",
       "      <td>...</td>\n",
       "      <td>12.9600</td>\n",
       "      <td>13.8600</td>\n",
       "      <td>15.6600</td>\n",
       "      <td>17.2800</td>\n",
       "      <td>14.8225</td>\n",
       "      <td>16.7475</td>\n",
       "      <td>18.4800</td>\n",
       "      <td>18.9225</td>\n",
       "      <td>20.8800</td>\n",
       "      <td>23.0400</td>\n",
       "    </tr>\n",
       "    <tr>\n",
       "      <th>4</th>\n",
       "      <td>1.0</td>\n",
       "      <td>2.85</td>\n",
       "      <td>2.35</td>\n",
       "      <td>3.35</td>\n",
       "      <td>4.70</td>\n",
       "      <td>3.35</td>\n",
       "      <td>8.1225</td>\n",
       "      <td>6.6975</td>\n",
       "      <td>9.5475</td>\n",
       "      <td>13.3950</td>\n",
       "      <td>...</td>\n",
       "      <td>5.5225</td>\n",
       "      <td>7.8725</td>\n",
       "      <td>11.0450</td>\n",
       "      <td>7.8725</td>\n",
       "      <td>11.2225</td>\n",
       "      <td>15.7450</td>\n",
       "      <td>11.2225</td>\n",
       "      <td>22.0900</td>\n",
       "      <td>15.7450</td>\n",
       "      <td>11.2225</td>\n",
       "    </tr>\n",
       "  </tbody>\n",
       "</table>\n",
       "<p>5 rows × 21 columns</p>\n",
       "</div>"
      ],
      "text/plain": [
       "   Constant Term  sEXT^1  sNEU^1  sAGR^1  sCON^1  sOPN^1   sEXT^2  \\\n",
       "0            1.0    1.90    4.15    3.15    4.65    3.45   3.6100   \n",
       "1            1.0    2.05    4.00    2.20    2.20    3.75   4.2025   \n",
       "2            1.0    3.84    3.55    2.85    4.32    3.45  14.7456   \n",
       "3            1.0    3.20    3.60    3.85    4.35    4.80  10.2400   \n",
       "4            1.0    2.85    2.35    3.35    4.70    3.35   8.1225   \n",
       "\n",
       "   sEXT^1 x sNEU^1  sEXT^1 x sAGR^1  sEXT^1 x sCON^1   ...      sNEU^2  \\\n",
       "0           7.8850           5.9850           8.8350   ...     17.2225   \n",
       "1           8.2000           4.5100           4.5100   ...     16.0000   \n",
       "2          13.6320          10.9440          16.5888   ...     12.6025   \n",
       "3          11.5200          12.3200          13.9200   ...     12.9600   \n",
       "4           6.6975           9.5475          13.3950   ...      5.5225   \n",
       "\n",
       "   sNEU^1 x sAGR^1  sNEU^1 x sCON^1  sNEU^1 x sOPN^1   sAGR^2  \\\n",
       "0          13.0725          19.2975          14.3175   9.9225   \n",
       "1           8.8000           8.8000          15.0000   4.8400   \n",
       "2          10.1175          15.3360          12.2475   8.1225   \n",
       "3          13.8600          15.6600          17.2800  14.8225   \n",
       "4           7.8725          11.0450           7.8725  11.2225   \n",
       "\n",
       "   sAGR^1 x sCON^1  sAGR^1 x sOPN^1   sCON^2  sCON^1 x sOPN^1   sOPN^2  \n",
       "0          14.6475          10.8675  21.6225          16.0425  11.9025  \n",
       "1           4.8400           8.2500   4.8400           8.2500  14.0625  \n",
       "2          12.3120           9.8325  18.6624          14.9040  11.9025  \n",
       "3          16.7475          18.4800  18.9225          20.8800  23.0400  \n",
       "4          15.7450          11.2225  22.0900          15.7450  11.2225  \n",
       "\n",
       "[5 rows x 21 columns]"
      ]
     },
     "execution_count": 30,
     "metadata": {},
     "output_type": "execute_result"
    }
   ],
   "source": [
    "X_big5_polyexpanded.head()"
   ]
  },
  {
   "cell_type": "code",
   "execution_count": 31,
   "metadata": {
    "collapsed": false
   },
   "outputs": [
    {
     "data": {
      "text/html": [
       "<div>\n",
       "<table border=\"1\" class=\"dataframe\">\n",
       "  <thead>\n",
       "    <tr style=\"text-align: right;\">\n",
       "      <th></th>\n",
       "      <th>Constant Term</th>\n",
       "      <th>sEXT^1</th>\n",
       "      <th>sNEU^1</th>\n",
       "      <th>sAGR^1</th>\n",
       "      <th>sCON^1</th>\n",
       "      <th>sOPN^1</th>\n",
       "      <th>sEXT^2</th>\n",
       "      <th>sEXT^1 x sNEU^1</th>\n",
       "      <th>sEXT^1 x sAGR^1</th>\n",
       "      <th>sEXT^1 x sCON^1</th>\n",
       "      <th>...</th>\n",
       "      <th>sNEU^2</th>\n",
       "      <th>sNEU^1 x sAGR^1</th>\n",
       "      <th>sNEU^1 x sCON^1</th>\n",
       "      <th>sNEU^1 x sOPN^1</th>\n",
       "      <th>sAGR^2</th>\n",
       "      <th>sAGR^1 x sCON^1</th>\n",
       "      <th>sAGR^1 x sOPN^1</th>\n",
       "      <th>sCON^2</th>\n",
       "      <th>sCON^1 x sOPN^1</th>\n",
       "      <th>sOPN^2</th>\n",
       "    </tr>\n",
       "  </thead>\n",
       "  <tbody>\n",
       "    <tr>\n",
       "      <th>0</th>\n",
       "      <td>1.0</td>\n",
       "      <td>1.90</td>\n",
       "      <td>4.15</td>\n",
       "      <td>3.15</td>\n",
       "      <td>4.65</td>\n",
       "      <td>3.45</td>\n",
       "      <td>3.6100</td>\n",
       "      <td>7.8850</td>\n",
       "      <td>5.9850</td>\n",
       "      <td>8.8350</td>\n",
       "      <td>...</td>\n",
       "      <td>17.2225</td>\n",
       "      <td>13.0725</td>\n",
       "      <td>19.2975</td>\n",
       "      <td>14.3175</td>\n",
       "      <td>9.9225</td>\n",
       "      <td>14.6475</td>\n",
       "      <td>10.8675</td>\n",
       "      <td>21.6225</td>\n",
       "      <td>16.0425</td>\n",
       "      <td>11.9025</td>\n",
       "    </tr>\n",
       "    <tr>\n",
       "      <th>1</th>\n",
       "      <td>1.0</td>\n",
       "      <td>2.05</td>\n",
       "      <td>4.00</td>\n",
       "      <td>2.20</td>\n",
       "      <td>2.20</td>\n",
       "      <td>3.75</td>\n",
       "      <td>4.2025</td>\n",
       "      <td>8.2000</td>\n",
       "      <td>4.5100</td>\n",
       "      <td>4.5100</td>\n",
       "      <td>...</td>\n",
       "      <td>16.0000</td>\n",
       "      <td>8.8000</td>\n",
       "      <td>8.8000</td>\n",
       "      <td>15.0000</td>\n",
       "      <td>4.8400</td>\n",
       "      <td>4.8400</td>\n",
       "      <td>8.2500</td>\n",
       "      <td>4.8400</td>\n",
       "      <td>8.2500</td>\n",
       "      <td>14.0625</td>\n",
       "    </tr>\n",
       "    <tr>\n",
       "      <th>2</th>\n",
       "      <td>1.0</td>\n",
       "      <td>3.84</td>\n",
       "      <td>3.55</td>\n",
       "      <td>2.85</td>\n",
       "      <td>4.32</td>\n",
       "      <td>3.45</td>\n",
       "      <td>14.7456</td>\n",
       "      <td>13.6320</td>\n",
       "      <td>10.9440</td>\n",
       "      <td>16.5888</td>\n",
       "      <td>...</td>\n",
       "      <td>12.6025</td>\n",
       "      <td>10.1175</td>\n",
       "      <td>15.3360</td>\n",
       "      <td>12.2475</td>\n",
       "      <td>8.1225</td>\n",
       "      <td>12.3120</td>\n",
       "      <td>9.8325</td>\n",
       "      <td>18.6624</td>\n",
       "      <td>14.9040</td>\n",
       "      <td>11.9025</td>\n",
       "    </tr>\n",
       "    <tr>\n",
       "      <th>3</th>\n",
       "      <td>1.0</td>\n",
       "      <td>3.20</td>\n",
       "      <td>3.60</td>\n",
       "      <td>3.85</td>\n",
       "      <td>4.35</td>\n",
       "      <td>4.80</td>\n",
       "      <td>10.2400</td>\n",
       "      <td>11.5200</td>\n",
       "      <td>12.3200</td>\n",
       "      <td>13.9200</td>\n",
       "      <td>...</td>\n",
       "      <td>12.9600</td>\n",
       "      <td>13.8600</td>\n",
       "      <td>15.6600</td>\n",
       "      <td>17.2800</td>\n",
       "      <td>14.8225</td>\n",
       "      <td>16.7475</td>\n",
       "      <td>18.4800</td>\n",
       "      <td>18.9225</td>\n",
       "      <td>20.8800</td>\n",
       "      <td>23.0400</td>\n",
       "    </tr>\n",
       "    <tr>\n",
       "      <th>4</th>\n",
       "      <td>1.0</td>\n",
       "      <td>2.85</td>\n",
       "      <td>2.35</td>\n",
       "      <td>3.35</td>\n",
       "      <td>4.70</td>\n",
       "      <td>3.35</td>\n",
       "      <td>8.1225</td>\n",
       "      <td>6.6975</td>\n",
       "      <td>9.5475</td>\n",
       "      <td>13.3950</td>\n",
       "      <td>...</td>\n",
       "      <td>5.5225</td>\n",
       "      <td>7.8725</td>\n",
       "      <td>11.0450</td>\n",
       "      <td>7.8725</td>\n",
       "      <td>11.2225</td>\n",
       "      <td>15.7450</td>\n",
       "      <td>11.2225</td>\n",
       "      <td>22.0900</td>\n",
       "      <td>15.7450</td>\n",
       "      <td>11.2225</td>\n",
       "    </tr>\n",
       "  </tbody>\n",
       "</table>\n",
       "<p>5 rows × 21 columns</p>\n",
       "</div>"
      ],
      "text/plain": [
       "   Constant Term  sEXT^1  sNEU^1  sAGR^1  sCON^1  sOPN^1   sEXT^2  \\\n",
       "0            1.0    1.90    4.15    3.15    4.65    3.45   3.6100   \n",
       "1            1.0    2.05    4.00    2.20    2.20    3.75   4.2025   \n",
       "2            1.0    3.84    3.55    2.85    4.32    3.45  14.7456   \n",
       "3            1.0    3.20    3.60    3.85    4.35    4.80  10.2400   \n",
       "4            1.0    2.85    2.35    3.35    4.70    3.35   8.1225   \n",
       "\n",
       "   sEXT^1 x sNEU^1  sEXT^1 x sAGR^1  sEXT^1 x sCON^1   ...      sNEU^2  \\\n",
       "0           7.8850           5.9850           8.8350   ...     17.2225   \n",
       "1           8.2000           4.5100           4.5100   ...     16.0000   \n",
       "2          13.6320          10.9440          16.5888   ...     12.6025   \n",
       "3          11.5200          12.3200          13.9200   ...     12.9600   \n",
       "4           6.6975           9.5475          13.3950   ...      5.5225   \n",
       "\n",
       "   sNEU^1 x sAGR^1  sNEU^1 x sCON^1  sNEU^1 x sOPN^1   sAGR^2  \\\n",
       "0          13.0725          19.2975          14.3175   9.9225   \n",
       "1           8.8000           8.8000          15.0000   4.8400   \n",
       "2          10.1175          15.3360          12.2475   8.1225   \n",
       "3          13.8600          15.6600          17.2800  14.8225   \n",
       "4           7.8725          11.0450           7.8725  11.2225   \n",
       "\n",
       "   sAGR^1 x sCON^1  sAGR^1 x sOPN^1   sCON^2  sCON^1 x sOPN^1   sOPN^2  \n",
       "0          14.6475          10.8675  21.6225          16.0425  11.9025  \n",
       "1           4.8400           8.2500   4.8400           8.2500  14.0625  \n",
       "2          12.3120           9.8325  18.6624          14.9040  11.9025  \n",
       "3          16.7475          18.4800  18.9225          20.8800  23.0400  \n",
       "4          15.7450          11.2225  22.0900          15.7450  11.2225  \n",
       "\n",
       "[5 rows x 21 columns]"
      ]
     },
     "execution_count": 31,
     "metadata": {},
     "output_type": "execute_result"
    }
   ],
   "source": [
    "X_big5_polyexpanded.head()"
   ]
  },
  {
   "cell_type": "code",
   "execution_count": 32,
   "metadata": {
    "collapsed": false
   },
   "outputs": [],
   "source": [
    "# This is a dictionary of the models. The keys are the names of the models and the values are the dataframe / \n",
    "#X matricies appropriate to them\n",
    "\n",
    "dictionary_of_models_x_matricies = {\"X_big5\":X_big5,\n",
    "                        \"X_big5_polyexpanded\":X_big5_polyexpanded,\n",
    "                        \"X_network\":X_network,\n",
    "                        \"X_network_polyexpanded\":X_network_polyexpanded,\n",
    "                        \"X_big5_and_network\":X_big5_and_network,\n",
    "                        \"X_big5_and_network_polyexpanded\":X_big5_and_network_polyexpanded,\n",
    "                       }"
   ]
  },
  {
   "cell_type": "markdown",
   "metadata": {},
   "source": [
    "# Clean Data as Necesesary"
   ]
  },
  {
   "cell_type": "markdown",
   "metadata": {},
   "source": [
    "# Summary Statistics & Descriptive Visualizations (Pandas and Matplotlib, etc)"
   ]
  },
  {
   "cell_type": "markdown",
   "metadata": {},
   "source": [
    "### Plot network size"
   ]
  },
  {
   "cell_type": "markdown",
   "metadata": {},
   "source": [
    "### Printing the covaraiance matrix"
   ]
  },
  {
   "cell_type": "code",
   "execution_count": 33,
   "metadata": {
    "collapsed": false
   },
   "outputs": [
    {
     "data": {
      "text/html": [
       "<div>\n",
       "<table border=\"1\" class=\"dataframe\">\n",
       "  <thead>\n",
       "    <tr style=\"text-align: right;\">\n",
       "      <th></th>\n",
       "      <th>Constant Term</th>\n",
       "      <th>sEXT^1</th>\n",
       "      <th>sNEU^1</th>\n",
       "      <th>sAGR^1</th>\n",
       "      <th>sCON^1</th>\n",
       "      <th>sOPN^1</th>\n",
       "      <th>NETWORKSIZE^1</th>\n",
       "    </tr>\n",
       "  </thead>\n",
       "  <tbody>\n",
       "    <tr>\n",
       "      <th>Constant Term</th>\n",
       "      <td>NaN</td>\n",
       "      <td>NaN</td>\n",
       "      <td>NaN</td>\n",
       "      <td>NaN</td>\n",
       "      <td>NaN</td>\n",
       "      <td>NaN</td>\n",
       "      <td>NaN</td>\n",
       "    </tr>\n",
       "    <tr>\n",
       "      <th>sEXT^1</th>\n",
       "      <td>NaN</td>\n",
       "      <td>1.000000</td>\n",
       "      <td>-0.377248</td>\n",
       "      <td>0.205420</td>\n",
       "      <td>0.200926</td>\n",
       "      <td>0.203027</td>\n",
       "      <td>0.362139</td>\n",
       "    </tr>\n",
       "    <tr>\n",
       "      <th>sNEU^1</th>\n",
       "      <td>NaN</td>\n",
       "      <td>-0.377248</td>\n",
       "      <td>1.000000</td>\n",
       "      <td>-0.420796</td>\n",
       "      <td>-0.234329</td>\n",
       "      <td>-0.135144</td>\n",
       "      <td>-0.180202</td>\n",
       "    </tr>\n",
       "    <tr>\n",
       "      <th>sAGR^1</th>\n",
       "      <td>NaN</td>\n",
       "      <td>0.205420</td>\n",
       "      <td>-0.420796</td>\n",
       "      <td>1.000000</td>\n",
       "      <td>0.099657</td>\n",
       "      <td>0.179662</td>\n",
       "      <td>0.111331</td>\n",
       "    </tr>\n",
       "    <tr>\n",
       "      <th>sCON^1</th>\n",
       "      <td>NaN</td>\n",
       "      <td>0.200926</td>\n",
       "      <td>-0.234329</td>\n",
       "      <td>0.099657</td>\n",
       "      <td>1.000000</td>\n",
       "      <td>0.082613</td>\n",
       "      <td>0.156496</td>\n",
       "    </tr>\n",
       "    <tr>\n",
       "      <th>sOPN^1</th>\n",
       "      <td>NaN</td>\n",
       "      <td>0.203027</td>\n",
       "      <td>-0.135144</td>\n",
       "      <td>0.179662</td>\n",
       "      <td>0.082613</td>\n",
       "      <td>1.000000</td>\n",
       "      <td>0.021653</td>\n",
       "    </tr>\n",
       "    <tr>\n",
       "      <th>NETWORKSIZE^1</th>\n",
       "      <td>NaN</td>\n",
       "      <td>0.362139</td>\n",
       "      <td>-0.180202</td>\n",
       "      <td>0.111331</td>\n",
       "      <td>0.156496</td>\n",
       "      <td>0.021653</td>\n",
       "      <td>1.000000</td>\n",
       "    </tr>\n",
       "  </tbody>\n",
       "</table>\n",
       "</div>"
      ],
      "text/plain": [
       "               Constant Term    sEXT^1    sNEU^1    sAGR^1    sCON^1  \\\n",
       "Constant Term            NaN       NaN       NaN       NaN       NaN   \n",
       "sEXT^1                   NaN  1.000000 -0.377248  0.205420  0.200926   \n",
       "sNEU^1                   NaN -0.377248  1.000000 -0.420796 -0.234329   \n",
       "sAGR^1                   NaN  0.205420 -0.420796  1.000000  0.099657   \n",
       "sCON^1                   NaN  0.200926 -0.234329  0.099657  1.000000   \n",
       "sOPN^1                   NaN  0.203027 -0.135144  0.179662  0.082613   \n",
       "NETWORKSIZE^1            NaN  0.362139 -0.180202  0.111331  0.156496   \n",
       "\n",
       "                 sOPN^1  NETWORKSIZE^1  \n",
       "Constant Term       NaN            NaN  \n",
       "sEXT^1         0.203027       0.362139  \n",
       "sNEU^1        -0.135144      -0.180202  \n",
       "sAGR^1         0.179662       0.111331  \n",
       "sCON^1         0.082613       0.156496  \n",
       "sOPN^1         1.000000       0.021653  \n",
       "NETWORKSIZE^1  0.021653       1.000000  "
      ]
     },
     "execution_count": 33,
     "metadata": {},
     "output_type": "execute_result"
    }
   ],
   "source": [
    "X_big5_and_network.corr()"
   ]
  },
  {
   "cell_type": "code",
   "execution_count": 34,
   "metadata": {
    "collapsed": false
   },
   "outputs": [
    {
     "data": {
      "text/plain": [
       "array([[  7.41954925e-01,  -2.52431876e-01,   1.18685263e-01,\n",
       "          1.28109447e-01,   1.00566920e-01,   9.87700949e+01],\n",
       "       [ -2.52431876e-01,   6.03472271e-01,  -2.19263370e-01,\n",
       "         -1.34744519e-01,  -6.03722635e-02,  -4.43251475e+01],\n",
       "       [  1.18685263e-01,  -2.19263370e-01,   4.49916363e-01,\n",
       "          4.94801863e-02,   6.93004627e-02,   2.36452572e+01],\n",
       "       [  1.28109447e-01,  -1.34744519e-01,   4.94801863e-02,\n",
       "          5.47912323e-01,   3.51656675e-02,   3.66792821e+01],\n",
       "       [  1.00566920e-01,  -6.03722635e-02,   6.93004627e-02,\n",
       "          3.51656675e-02,   3.30693500e-01,   3.94266795e+00],\n",
       "       [  9.87700949e+01,  -4.43251475e+01,   2.36452572e+01,\n",
       "          3.66792821e+01,   3.94266795e+00,   1.00258646e+05]])"
      ]
     },
     "execution_count": 34,
     "metadata": {},
     "output_type": "execute_result"
    }
   ],
   "source": [
    "np.cov(np.vstack([x_extroversion,x_neuroticism,x_agreeableness,x_conscientiousness,x_openness,network_size]))"
   ]
  },
  {
   "cell_type": "markdown",
   "metadata": {},
   "source": [
    "### Perform Scatter plots (y vs. Xi) for each of the X's -- this suggest relationship"
   ]
  },
  {
   "cell_type": "markdown",
   "metadata": {},
   "source": [
    "### Check features for normality by using a density plot - plot normal on top of it. If it's not normal, then do some transformations on the features until they get to be normal"
   ]
  },
  {
   "cell_type": "markdown",
   "metadata": {},
   "source": [
    "# Testing (Regression)"
   ]
  },
  {
   "cell_type": "markdown",
   "metadata": {},
   "source": [
    "### Step 1a: (via intuition) Generate different models and provide explanations of why (avoid products, okay for squares and logs)"
   ]
  },
  {
   "cell_type": "markdown",
   "metadata": {},
   "source": [
    "### Step 1b: Algorithmly - go throuhg all the options and create them."
   ]
  },
  {
   "cell_type": "markdown",
   "metadata": {},
   "source": [
    "### Step 2: Separate Data into 3 groupings: training, cv, and \n",
    "- Create seed"
   ]
  },
  {
   "cell_type": "code",
   "execution_count": 35,
   "metadata": {
    "collapsed": true
   },
   "outputs": [],
   "source": [
    "list_of_all_possible_features = list(dictionary_of_models_x_matricies[\"X_big5_and_network_polyexpanded\"].columns)"
   ]
  },
  {
   "cell_type": "code",
   "execution_count": null,
   "metadata": {
    "collapsed": false
   },
   "outputs": [],
   "source": []
  },
  {
   "cell_type": "code",
   "execution_count": 36,
   "metadata": {
    "collapsed": false
   },
   "outputs": [
    {
     "data": {
      "text/plain": [
       "175.0"
      ]
     },
     "execution_count": 36,
     "metadata": {},
     "output_type": "execute_result"
    }
   ],
   "source": [
    ".7*250"
   ]
  },
  {
   "cell_type": "code",
   "execution_count": null,
   "metadata": {
    "collapsed": false
   },
   "outputs": [],
   "source": []
  },
  {
   "cell_type": "code",
   "execution_count": 37,
   "metadata": {
    "collapsed": false
   },
   "outputs": [
    {
     "name": "stdout",
     "output_type": "stream",
     "text": [
      "X_network_polyexpanded\n",
      "X_big5\n",
      "X_big5_polyexpanded\n",
      "X_network\n",
      "X_big5_and_network\n",
      "X_big5_and_network_polyexpanded\n"
     ]
    }
   ],
   "source": [
    "dictionary_of_model_general_performance_metrics = {}\n",
    "for model_name,model_matrix in dictionary_of_models_x_matricies.items():\n",
    "    print model_name\n",
    "    X_train, X_test, y_train, y_test = cross_validation.train_test_split(model_matrix, y_betweenness, test_size=0.3, random_state=0)\n",
    "    model = sm.OLS(y_train,X_train)\n",
    "    dictionary_of_model_general_performance_metrics[model_name] = model_to_dictionary(model,X_test,y_test)"
   ]
  },
  {
   "cell_type": "code",
   "execution_count": 38,
   "metadata": {
    "collapsed": false
   },
   "outputs": [
    {
     "data": {
      "text/plain": [
       "-0.06245036409120952"
      ]
     },
     "execution_count": 38,
     "metadata": {},
     "output_type": "execute_result"
    }
   ],
   "source": [
    "dictionary_of_model_general_performance_metrics[\"X_big5\"]['Z_Test RSqAdj']"
   ]
  },
  {
   "cell_type": "markdown",
   "metadata": {},
   "source": [
    "### Step 3: Using the Training set, determine the best coefficients for each model... (Fitting a model -- sm.fit()))"
   ]
  },
  {
   "cell_type": "code",
   "execution_count": 39,
   "metadata": {
    "collapsed": false
   },
   "outputs": [
    {
     "data": {
      "text/html": [
       "<div>\n",
       "<table border=\"1\" class=\"dataframe\">\n",
       "  <thead>\n",
       "    <tr style=\"text-align: right;\">\n",
       "      <th></th>\n",
       "      <th>model_names</th>\n",
       "      <th>number_regressors</th>\n",
       "      <th>feature_names</th>\n",
       "      <th>train_rsq_adj</th>\n",
       "      <th>train_ssr</th>\n",
       "      <th>test_rsq_adj</th>\n",
       "      <th>z_test_rsq_adj</th>\n",
       "      <th>test_sse</th>\n",
       "      <th>z_test_sst</th>\n",
       "    </tr>\n",
       "  </thead>\n",
       "  <tbody>\n",
       "    <tr>\n",
       "      <th>0</th>\n",
       "      <td>X_network_polyexpanded</td>\n",
       "      <td>2.0</td>\n",
       "      <td>Constant Term; NETWORKSIZE^1; NETWORKSIZE^2</td>\n",
       "      <td>0.999765</td>\n",
       "      <td>1.591077e+09</td>\n",
       "      <td>0.999861</td>\n",
       "      <td>0.999861</td>\n",
       "      <td>4.714616e+08</td>\n",
       "      <td>3.541399e+12</td>\n",
       "    </tr>\n",
       "    <tr>\n",
       "      <th>1</th>\n",
       "      <td>X_big5</td>\n",
       "      <td>5.0</td>\n",
       "      <td>Constant Term; sEXT^1; sNEU^1; sAGR^1; sCON^1;...</td>\n",
       "      <td>0.059499</td>\n",
       "      <td>6.256550e+12</td>\n",
       "      <td>-0.062450</td>\n",
       "      <td>-0.062450</td>\n",
       "      <td>3.457488e+12</td>\n",
       "      <td>3.541399e+12</td>\n",
       "    </tr>\n",
       "    <tr>\n",
       "      <th>2</th>\n",
       "      <td>X_big5_polyexpanded</td>\n",
       "      <td>20.0</td>\n",
       "      <td>Constant Term; sEXT^1; sNEU^1; sAGR^1; sCON^1;...</td>\n",
       "      <td>0.022310</td>\n",
       "      <td>5.926672e+12</td>\n",
       "      <td>-0.295000</td>\n",
       "      <td>-0.295000</td>\n",
       "      <td>3.284648e+12</td>\n",
       "      <td>3.541399e+12</td>\n",
       "    </tr>\n",
       "    <tr>\n",
       "      <th>3</th>\n",
       "      <td>X_network</td>\n",
       "      <td>1.0</td>\n",
       "      <td>Constant Term; NETWORKSIZE^1</td>\n",
       "      <td>0.885195</td>\n",
       "      <td>7.817993e+11</td>\n",
       "      <td>0.901978</td>\n",
       "      <td>0.901978</td>\n",
       "      <td>3.377538e+11</td>\n",
       "      <td>3.541399e+12</td>\n",
       "    </tr>\n",
       "    <tr>\n",
       "      <th>4</th>\n",
       "      <td>X_big5_and_network</td>\n",
       "      <td>6.0</td>\n",
       "      <td>Constant Term; sEXT^1; sNEU^1; sAGR^1; sCON^1;...</td>\n",
       "      <td>0.886461</td>\n",
       "      <td>7.508350e+11</td>\n",
       "      <td>0.905156</td>\n",
       "      <td>0.905156</td>\n",
       "      <td>3.041095e+11</td>\n",
       "      <td>3.541399e+12</td>\n",
       "    </tr>\n",
       "    <tr>\n",
       "      <th>5</th>\n",
       "      <td>X_big5_and_network_polyexpanded</td>\n",
       "      <td>27.0</td>\n",
       "      <td>Constant Term; sEXT^1; sNEU^1; sAGR^1; sCON^1;...</td>\n",
       "      <td>0.999772</td>\n",
       "      <td>1.316989e+09</td>\n",
       "      <td>0.999659</td>\n",
       "      <td>0.999659</td>\n",
       "      <td>7.502323e+08</td>\n",
       "      <td>3.541399e+12</td>\n",
       "    </tr>\n",
       "  </tbody>\n",
       "</table>\n",
       "</div>"
      ],
      "text/plain": [
       "                       model_names  number_regressors  \\\n",
       "0           X_network_polyexpanded                2.0   \n",
       "1                           X_big5                5.0   \n",
       "2              X_big5_polyexpanded               20.0   \n",
       "3                        X_network                1.0   \n",
       "4               X_big5_and_network                6.0   \n",
       "5  X_big5_and_network_polyexpanded               27.0   \n",
       "\n",
       "                                       feature_names  train_rsq_adj  \\\n",
       "0        Constant Term; NETWORKSIZE^1; NETWORKSIZE^2       0.999765   \n",
       "1  Constant Term; sEXT^1; sNEU^1; sAGR^1; sCON^1;...       0.059499   \n",
       "2  Constant Term; sEXT^1; sNEU^1; sAGR^1; sCON^1;...       0.022310   \n",
       "3                       Constant Term; NETWORKSIZE^1       0.885195   \n",
       "4  Constant Term; sEXT^1; sNEU^1; sAGR^1; sCON^1;...       0.886461   \n",
       "5  Constant Term; sEXT^1; sNEU^1; sAGR^1; sCON^1;...       0.999772   \n",
       "\n",
       "      train_ssr  test_rsq_adj  z_test_rsq_adj      test_sse    z_test_sst  \n",
       "0  1.591077e+09      0.999861        0.999861  4.714616e+08  3.541399e+12  \n",
       "1  6.256550e+12     -0.062450       -0.062450  3.457488e+12  3.541399e+12  \n",
       "2  5.926672e+12     -0.295000       -0.295000  3.284648e+12  3.541399e+12  \n",
       "3  7.817993e+11      0.901978        0.901978  3.377538e+11  3.541399e+12  \n",
       "4  7.508350e+11      0.905156        0.905156  3.041095e+11  3.541399e+12  \n",
       "5  1.316989e+09      0.999659        0.999659  7.502323e+08  3.541399e+12  "
      ]
     },
     "execution_count": 39,
     "metadata": {},
     "output_type": "execute_result"
    }
   ],
   "source": [
    "model_names = []\n",
    "number_regressors = []\n",
    "features_names = []\n",
    "train_rsq_adj = []\n",
    "train_ssr = []\n",
    "test_rsq_adj = []\n",
    "test_sse = []\n",
    "z_test_rsq_adj = []\n",
    "\n",
    "z_test_sst = []\n",
    "#model_dict[\"test_sst\"] = test_sst\n",
    "\n",
    "\n",
    "for model in dictionary_of_model_general_performance_metrics.keys():\n",
    "    model_names.append(model)\n",
    "    number_regressors.append(dictionary_of_model_general_performance_metrics[model][\"Number Regressors\"])\n",
    "    \n",
    "    string_of_features = \"; \".join(dictionary_of_model_general_performance_metrics[model][\"Feature Names\"])  # This converts a list of feature names into a single string containing all the names\n",
    "    features_names.append(string_of_features)\n",
    "    train_rsq_adj.append(dictionary_of_model_general_performance_metrics[model][\"TRAIN RSqAdj\"])\n",
    "    train_ssr.append(dictionary_of_model_general_performance_metrics[model][\"TRAIN SSR\"])\n",
    "    test_rsq_adj.append(dictionary_of_model_general_performance_metrics[model][\"Test RSqAdj\"])\n",
    "    test_sse.append(dictionary_of_model_general_performance_metrics[model][\"Test SSE\"])\n",
    "    z_test_rsq_adj.append(dictionary_of_model_general_performance_metrics[model][\"Z_Test RSqAdj\"])   #Added for troubleshooting purposes\n",
    "    z_test_sst.append(dictionary_of_model_general_performance_metrics[model][\"z_test_sst\"])    #Added for troubleshooting purposes\n",
    "\n",
    "names = [\"model_names\",\"number_regressors\",\"feature_names\",\"train_rsq_adj\",\"train_ssr\",\"test_rsq_adj\",\"z_test_rsq_adj\",\"test_sse\",\"z_test_sst\"]\n",
    "values = [model_names,number_regressors,features_names,train_rsq_adj,train_ssr,test_rsq_adj,z_test_rsq_adj,test_sse,z_test_sst]\n",
    "\n",
    "blah = pd.DataFrame(dict(zip(names,values)), index = None)\n",
    "blah = blah[[\"model_names\",\"number_regressors\",\"feature_names\",\"train_rsq_adj\",\"train_ssr\",\"test_rsq_adj\",\"z_test_rsq_adj\",\"test_sse\",\"z_test_sst\"]]   #Fixing the order of the columns\n",
    "blah"
   ]
  },
  {
   "cell_type": "markdown",
   "metadata": {},
   "source": [
    "# ALthough my Z_test_rsq_adj doesn't have negative values and in general the values are smaller than jeremy's...there is still a discrepency, there is likely a problem here that needs to be addressed"
   ]
  },
  {
   "cell_type": "code",
   "execution_count": 40,
   "metadata": {
    "collapsed": false
   },
   "outputs": [
    {
     "data": {
      "text/plain": [
       "{'Estimated Coefficients': Constant Term   -270081.897832\n",
       " sEXT^1            50094.549087\n",
       " sNEU^1            -5591.777769\n",
       " sAGR^1            35332.693944\n",
       " sCON^1            21129.161948\n",
       " sOPN^1             9011.618835\n",
       " dtype: float64,\n",
       " 'Feature Names': ['Constant Term',\n",
       "  'sEXT^1',\n",
       "  'sNEU^1',\n",
       "  'sAGR^1',\n",
       "  'sCON^1',\n",
       "  'sOPN^1'],\n",
       " 'Number Regressors': 5.0,\n",
       " 'Number Residuals': 169.0,\n",
       " 'TRAIN AIC': 4761.1046865540056,\n",
       " 'TRAIN BIC': 4780.0934023975469,\n",
       " 'TRAIN Confidence Interval':                            0             1\n",
       " Constant Term -620596.551961  80432.756297\n",
       " sEXT^1          11295.594635  88893.503539\n",
       " sNEU^1         -47578.050693  36394.495155\n",
       " sAGR^1         -13569.191998  84234.579887\n",
       " sCON^1         -17510.321634  59768.645531\n",
       " sOPN^1         -41571.610861  59594.848531,\n",
       " 'TRAIN PValues': Constant Term    0.130103\n",
       " sEXT^1           0.011699\n",
       " sNEU^1           0.792938\n",
       " sAGR^1           0.155617\n",
       " sCON^1           0.281906\n",
       " sOPN^1           0.725506\n",
       " dtype: float64,\n",
       " 'TRAIN RSqAdj': 0.059498837709388019,\n",
       " 'TRAIN SSR': 6256549641054.3906,\n",
       " 'Test RSqAdj': -0.06245036409120952,\n",
       " 'Test SSE': 3457488190789.0786,\n",
       " 'Y Name': 'BETWEENNESS',\n",
       " 'Z_Test RSqAdj': -0.06245036409120952,\n",
       " 'z_test_sst': 3541399020019.1934}"
      ]
     },
     "execution_count": 40,
     "metadata": {},
     "output_type": "execute_result"
    }
   ],
   "source": [
    "dictionary_of_model_general_performance_metrics[\"X_big5\"]"
   ]
  },
  {
   "cell_type": "code",
   "execution_count": null,
   "metadata": {
    "collapsed": false
   },
   "outputs": [],
   "source": []
  },
  {
   "cell_type": "code",
   "execution_count": 41,
   "metadata": {
    "collapsed": false
   },
   "outputs": [],
   "source": [
    "# This thing takes the final metrics from dictionary of model performance, extracts out the Coefficients and \n",
    "# P values for each model. It packages them up into a tuple, reofrmates them into lists, and then they get converted into \n",
    "# a pandas dataframe for \"easy viewing\"\n",
    "\n",
    "dictionary_of_model_coefficients = {}\n",
    "dictionary_of_model_pvalues = {}\n",
    "\n",
    "for feature in list_of_all_possible_features:\n",
    "    #model_name = X_big5\n",
    "    for model_name,model_performance_metrics_dict in dictionary_of_model_general_performance_metrics.items():\n",
    "        #print model_name\n",
    "        #print model_performance_metrics\n",
    "        lookup_key = (feature,model_name)\n",
    "        #print lookup_key\n",
    "        #temp = dictionary_of_model_general_performance_metrics[model_name][\"Feature Names\"] + [\"Constant Term\"]\n",
    "        #print temp\n",
    "        if feature in dictionary_of_model_general_performance_metrics[model_name][\"Feature Names\"]:\n",
    "            p_value_for_feature = model_performance_metrics_dict[\"TRAIN PValues\"][feature]\n",
    "            coef_for_feature = model_performance_metrics_dict[\"Estimated Coefficients\"][feature]\n",
    "        else:\n",
    "            p_value_for_feature = None\n",
    "            coef_for_feature = None            \n",
    "        \n",
    "        dictionary_of_model_coefficients[lookup_key] = coef_for_feature\n",
    "        dictionary_of_model_pvalues[lookup_key] = p_value_for_feature\n",
    "        "
   ]
  },
  {
   "cell_type": "code",
   "execution_count": 42,
   "metadata": {
    "collapsed": false
   },
   "outputs": [],
   "source": [
    "beta_big5 = []\n",
    "pvalues_big5 = []\n",
    "beta_big5_polyexpanded = []\n",
    "pvalues_big5_polyexpanded = []\n",
    "beta_network = []\n",
    "pvalues_network = []\n",
    "beta_network_polyexpanded = []\n",
    "pvalues_network_polyexpanded = []\n",
    "beta_big5_and_network = []\n",
    "pvalues_big5_and_network = []\n",
    "beta_big5_and_network_polyexpanded = []\n",
    "pvalues_big5_and_network_polyexpanded     = []"
   ]
  },
  {
   "cell_type": "code",
   "execution_count": 43,
   "metadata": {
    "collapsed": false,
    "scrolled": false
   },
   "outputs": [],
   "source": [
    "for feature in list_of_all_possible_features:\n",
    "    beta_big5.append(dictionary_of_model_coefficients[(feature,\"X_big5\")])\n",
    "    pvalues_big5.append(dictionary_of_model_pvalues[(feature,\"X_big5\")])\n",
    "    beta_big5_polyexpanded.append(dictionary_of_model_coefficients[(feature,\"X_big5_polyexpanded\")])\n",
    "    pvalues_big5_polyexpanded.append(dictionary_of_model_pvalues[(feature,\"X_big5_polyexpanded\")])\n",
    "    beta_network.append(dictionary_of_model_coefficients[(feature,\"X_network\")])\n",
    "    pvalues_network.append(dictionary_of_model_pvalues[(feature,\"X_network\")])\n",
    "    beta_network_polyexpanded.append(dictionary_of_model_coefficients[(feature,\"X_network_polyexpanded\")])\n",
    "    pvalues_network_polyexpanded.append(dictionary_of_model_pvalues[(feature,\"X_network_polyexpanded\")])\n",
    "    beta_big5_and_network.append(dictionary_of_model_coefficients[(feature,\"X_big5_and_network\")])\n",
    "    pvalues_big5_and_network.append(dictionary_of_model_pvalues[(feature,\"X_big5_and_network\")])\n",
    "    beta_big5_and_network_polyexpanded.append(dictionary_of_model_coefficients[(feature,\"X_big5_and_network_polyexpanded\")])\n",
    "    pvalues_big5_and_network_polyexpanded.append(dictionary_of_model_pvalues[(feature,\"X_big5_and_network_polyexpanded\")])\n",
    "\n",
    "    \n",
    "twinkie = pd.DataFrame({\"feature\":list_of_all_possible_features,\n",
    "                        \"beta_big5\":beta_big5,\n",
    "                        \"pvalues_big5\":pvalues_big5,\n",
    "                        \"beta_big5_polyexpanded\":beta_big5_polyexpanded,\n",
    "                        \"pvalues_big5_polyexpanded\":pvalues_big5_polyexpanded,\n",
    "                        \"beta_network\":beta_network,\n",
    "                        \"pvalues_network\":pvalues_network,\n",
    "                        \"beta_network_polyexpanded\":beta_network_polyexpanded,\n",
    "                        \"pvalues_network_polyexpanded\":pvalues_network_polyexpanded,\n",
    "                        \"beta_big5_and_network\":beta_big5_and_network,\n",
    "                        \"pvalues_big5_and_network\":pvalues_big5_and_network,\n",
    "                        \"beta_big5_and_network_polyexpanded\":beta_big5_and_network_polyexpanded,\n",
    "                        \"pvalues_big5_and_network_polyexpanded\":pvalues_big5_and_network_polyexpanded})\n",
    "                                                                        \n",
    "twinkie2 = twinkie.set_index(\"feature\")"
   ]
  },
  {
   "cell_type": "code",
   "execution_count": 44,
   "metadata": {
    "collapsed": false
   },
   "outputs": [
    {
     "name": "stdout",
     "output_type": "stream",
     "text": [
      "['beta_big5', 'beta_big5_and_network', 'beta_big5_and_network_polyexpanded', 'beta_big5_polyexpanded', 'beta_network', 'beta_network_polyexpanded', 'pvalues_big5', 'pvalues_big5_and_network', 'pvalues_big5_and_network_polyexpanded', 'pvalues_big5_polyexpanded', 'pvalues_network', 'pvalues_network_polyexpanded']\n"
     ]
    },
    {
     "data": {
      "text/html": [
       "<div>\n",
       "<table border=\"1\" class=\"dataframe\">\n",
       "  <thead>\n",
       "    <tr style=\"text-align: right;\">\n",
       "      <th></th>\n",
       "      <th>beta_big5</th>\n",
       "      <th>beta_big5_and_network</th>\n",
       "      <th>beta_big5_and_network_polyexpanded</th>\n",
       "      <th>beta_big5_polyexpanded</th>\n",
       "      <th>beta_network</th>\n",
       "      <th>beta_network_polyexpanded</th>\n",
       "      <th>pvalues_big5</th>\n",
       "      <th>pvalues_big5_and_network</th>\n",
       "      <th>pvalues_big5_and_network_polyexpanded</th>\n",
       "      <th>pvalues_big5_polyexpanded</th>\n",
       "      <th>pvalues_network</th>\n",
       "      <th>pvalues_network_polyexpanded</th>\n",
       "    </tr>\n",
       "    <tr>\n",
       "      <th>feature</th>\n",
       "      <th></th>\n",
       "      <th></th>\n",
       "      <th></th>\n",
       "      <th></th>\n",
       "      <th></th>\n",
       "      <th></th>\n",
       "      <th></th>\n",
       "      <th></th>\n",
       "      <th></th>\n",
       "      <th></th>\n",
       "      <th></th>\n",
       "      <th></th>\n",
       "    </tr>\n",
       "  </thead>\n",
       "  <tbody>\n",
       "    <tr>\n",
       "      <th>Constant Term</th>\n",
       "      <td>-270081.897832</td>\n",
       "      <td>-134215.876567</td>\n",
       "      <td>11097.232361</td>\n",
       "      <td>298877.547049</td>\n",
       "      <td>-121987.218929</td>\n",
       "      <td>73.638208</td>\n",
       "      <td>0.130103</td>\n",
       "      <td>0.031311</td>\n",
       "      <td>0.659850</td>\n",
       "      <td>0.854838</td>\n",
       "      <td>3.620358e-32</td>\n",
       "      <td>0.896302</td>\n",
       "    </tr>\n",
       "    <tr>\n",
       "      <th>sEXT^1</th>\n",
       "      <td>50094.549087</td>\n",
       "      <td>-11564.257155</td>\n",
       "      <td>-3951.829008</td>\n",
       "      <td>170922.672511</td>\n",
       "      <td>NaN</td>\n",
       "      <td>NaN</td>\n",
       "      <td>0.011699</td>\n",
       "      <td>0.102865</td>\n",
       "      <td>0.362454</td>\n",
       "      <td>0.540269</td>\n",
       "      <td>NaN</td>\n",
       "      <td>NaN</td>\n",
       "    </tr>\n",
       "    <tr>\n",
       "      <th>sNEU^1</th>\n",
       "      <td>-5591.777769</td>\n",
       "      <td>419.459993</td>\n",
       "      <td>-3651.460578</td>\n",
       "      <td>310142.969177</td>\n",
       "      <td>NaN</td>\n",
       "      <td>NaN</td>\n",
       "      <td>0.792938</td>\n",
       "      <td>0.954814</td>\n",
       "      <td>0.500265</td>\n",
       "      <td>0.370455</td>\n",
       "      <td>NaN</td>\n",
       "      <td>NaN</td>\n",
       "    </tr>\n",
       "    <tr>\n",
       "      <th>sAGR^1</th>\n",
       "      <td>35332.693944</td>\n",
       "      <td>-4565.481156</td>\n",
       "      <td>-3997.378641</td>\n",
       "      <td>23623.909316</td>\n",
       "      <td>NaN</td>\n",
       "      <td>NaN</td>\n",
       "      <td>0.155617</td>\n",
       "      <td>0.599669</td>\n",
       "      <td>0.507549</td>\n",
       "      <td>0.950466</td>\n",
       "      <td>NaN</td>\n",
       "      <td>NaN</td>\n",
       "    </tr>\n",
       "    <tr>\n",
       "      <th>sCON^1</th>\n",
       "      <td>21129.161948</td>\n",
       "      <td>-3625.342899</td>\n",
       "      <td>4021.726528</td>\n",
       "      <td>-108789.223169</td>\n",
       "      <td>NaN</td>\n",
       "      <td>NaN</td>\n",
       "      <td>0.281906</td>\n",
       "      <td>0.596647</td>\n",
       "      <td>0.333854</td>\n",
       "      <td>0.683032</td>\n",
       "      <td>NaN</td>\n",
       "      <td>NaN</td>\n",
       "    </tr>\n",
       "  </tbody>\n",
       "</table>\n",
       "</div>"
      ],
      "text/plain": [
       "                   beta_big5  beta_big5_and_network  \\\n",
       "feature                                               \n",
       "Constant Term -270081.897832         -134215.876567   \n",
       "sEXT^1          50094.549087          -11564.257155   \n",
       "sNEU^1          -5591.777769             419.459993   \n",
       "sAGR^1          35332.693944           -4565.481156   \n",
       "sCON^1          21129.161948           -3625.342899   \n",
       "\n",
       "               beta_big5_and_network_polyexpanded  beta_big5_polyexpanded  \\\n",
       "feature                                                                     \n",
       "Constant Term                        11097.232361           298877.547049   \n",
       "sEXT^1                               -3951.829008           170922.672511   \n",
       "sNEU^1                               -3651.460578           310142.969177   \n",
       "sAGR^1                               -3997.378641            23623.909316   \n",
       "sCON^1                                4021.726528          -108789.223169   \n",
       "\n",
       "                beta_network  beta_network_polyexpanded  pvalues_big5  \\\n",
       "feature                                                                 \n",
       "Constant Term -121987.218929                  73.638208      0.130103   \n",
       "sEXT^1                   NaN                        NaN      0.011699   \n",
       "sNEU^1                   NaN                        NaN      0.792938   \n",
       "sAGR^1                   NaN                        NaN      0.155617   \n",
       "sCON^1                   NaN                        NaN      0.281906   \n",
       "\n",
       "               pvalues_big5_and_network  \\\n",
       "feature                                   \n",
       "Constant Term                  0.031311   \n",
       "sEXT^1                         0.102865   \n",
       "sNEU^1                         0.954814   \n",
       "sAGR^1                         0.599669   \n",
       "sCON^1                         0.596647   \n",
       "\n",
       "               pvalues_big5_and_network_polyexpanded  \\\n",
       "feature                                                \n",
       "Constant Term                               0.659850   \n",
       "sEXT^1                                      0.362454   \n",
       "sNEU^1                                      0.500265   \n",
       "sAGR^1                                      0.507549   \n",
       "sCON^1                                      0.333854   \n",
       "\n",
       "               pvalues_big5_polyexpanded  pvalues_network  \\\n",
       "feature                                                     \n",
       "Constant Term                   0.854838     3.620358e-32   \n",
       "sEXT^1                          0.540269              NaN   \n",
       "sNEU^1                          0.370455              NaN   \n",
       "sAGR^1                          0.950466              NaN   \n",
       "sCON^1                          0.683032              NaN   \n",
       "\n",
       "               pvalues_network_polyexpanded  \n",
       "feature                                      \n",
       "Constant Term                      0.896302  \n",
       "sEXT^1                                  NaN  \n",
       "sNEU^1                                  NaN  \n",
       "sAGR^1                                  NaN  \n",
       "sCON^1                                  NaN  "
      ]
     },
     "execution_count": 44,
     "metadata": {},
     "output_type": "execute_result"
    }
   ],
   "source": [
    "print list(twinkie2.columns)\n",
    "twinkie2.head()"
   ]
  },
  {
   "cell_type": "code",
   "execution_count": 45,
   "metadata": {
    "collapsed": false
   },
   "outputs": [],
   "source": [
    "twinkie3 = twinkie2[[\"beta_big5\",\"pvalues_big5\",\"beta_network\",\"pvalues_network\",\"beta_big5_and_network\",\"pvalues_big5_and_network\",\"beta_big5\",\"pvalues_big5\",\"beta_network\",\"pvalues_network\",\"beta_big5_and_network\",\"pvalues_big5_and_network\"]]"
   ]
  },
  {
   "cell_type": "code",
   "execution_count": 46,
   "metadata": {
    "collapsed": false
   },
   "outputs": [
    {
     "data": {
      "text/html": [
       "<div>\n",
       "<table border=\"1\" class=\"dataframe\">\n",
       "  <thead>\n",
       "    <tr style=\"text-align: right;\">\n",
       "      <th></th>\n",
       "      <th>beta_big5</th>\n",
       "      <th>pvalues_big5</th>\n",
       "      <th>beta_network</th>\n",
       "      <th>pvalues_network</th>\n",
       "      <th>beta_big5_and_network</th>\n",
       "      <th>pvalues_big5_and_network</th>\n",
       "      <th>beta_big5</th>\n",
       "      <th>pvalues_big5</th>\n",
       "      <th>beta_network</th>\n",
       "      <th>pvalues_network</th>\n",
       "      <th>beta_big5_and_network</th>\n",
       "      <th>pvalues_big5_and_network</th>\n",
       "    </tr>\n",
       "    <tr>\n",
       "      <th>feature</th>\n",
       "      <th></th>\n",
       "      <th></th>\n",
       "      <th></th>\n",
       "      <th></th>\n",
       "      <th></th>\n",
       "      <th></th>\n",
       "      <th></th>\n",
       "      <th></th>\n",
       "      <th></th>\n",
       "      <th></th>\n",
       "      <th></th>\n",
       "      <th></th>\n",
       "    </tr>\n",
       "  </thead>\n",
       "  <tbody>\n",
       "    <tr>\n",
       "      <th>Constant Term</th>\n",
       "      <td>-270081.897832</td>\n",
       "      <td>0.130103</td>\n",
       "      <td>-121987.218929</td>\n",
       "      <td>3.620358e-32</td>\n",
       "      <td>-134215.876567</td>\n",
       "      <td>3.131107e-02</td>\n",
       "      <td>-270081.897832</td>\n",
       "      <td>0.130103</td>\n",
       "      <td>-121987.218929</td>\n",
       "      <td>3.620358e-32</td>\n",
       "      <td>-134215.876567</td>\n",
       "      <td>3.131107e-02</td>\n",
       "    </tr>\n",
       "    <tr>\n",
       "      <th>sEXT^1</th>\n",
       "      <td>50094.549087</td>\n",
       "      <td>0.011699</td>\n",
       "      <td>NaN</td>\n",
       "      <td>NaN</td>\n",
       "      <td>-11564.257155</td>\n",
       "      <td>1.028649e-01</td>\n",
       "      <td>50094.549087</td>\n",
       "      <td>0.011699</td>\n",
       "      <td>NaN</td>\n",
       "      <td>NaN</td>\n",
       "      <td>-11564.257155</td>\n",
       "      <td>1.028649e-01</td>\n",
       "    </tr>\n",
       "    <tr>\n",
       "      <th>sNEU^1</th>\n",
       "      <td>-5591.777769</td>\n",
       "      <td>0.792938</td>\n",
       "      <td>NaN</td>\n",
       "      <td>NaN</td>\n",
       "      <td>419.459993</td>\n",
       "      <td>9.548142e-01</td>\n",
       "      <td>-5591.777769</td>\n",
       "      <td>0.792938</td>\n",
       "      <td>NaN</td>\n",
       "      <td>NaN</td>\n",
       "      <td>419.459993</td>\n",
       "      <td>9.548142e-01</td>\n",
       "    </tr>\n",
       "    <tr>\n",
       "      <th>sAGR^1</th>\n",
       "      <td>35332.693944</td>\n",
       "      <td>0.155617</td>\n",
       "      <td>NaN</td>\n",
       "      <td>NaN</td>\n",
       "      <td>-4565.481156</td>\n",
       "      <td>5.996693e-01</td>\n",
       "      <td>35332.693944</td>\n",
       "      <td>0.155617</td>\n",
       "      <td>NaN</td>\n",
       "      <td>NaN</td>\n",
       "      <td>-4565.481156</td>\n",
       "      <td>5.996693e-01</td>\n",
       "    </tr>\n",
       "    <tr>\n",
       "      <th>sCON^1</th>\n",
       "      <td>21129.161948</td>\n",
       "      <td>0.281906</td>\n",
       "      <td>NaN</td>\n",
       "      <td>NaN</td>\n",
       "      <td>-3625.342899</td>\n",
       "      <td>5.966473e-01</td>\n",
       "      <td>21129.161948</td>\n",
       "      <td>0.281906</td>\n",
       "      <td>NaN</td>\n",
       "      <td>NaN</td>\n",
       "      <td>-3625.342899</td>\n",
       "      <td>5.966473e-01</td>\n",
       "    </tr>\n",
       "    <tr>\n",
       "      <th>sOPN^1</th>\n",
       "      <td>9011.618835</td>\n",
       "      <td>0.725506</td>\n",
       "      <td>NaN</td>\n",
       "      <td>NaN</td>\n",
       "      <td>18213.206798</td>\n",
       "      <td>4.242708e-02</td>\n",
       "      <td>9011.618835</td>\n",
       "      <td>0.725506</td>\n",
       "      <td>NaN</td>\n",
       "      <td>NaN</td>\n",
       "      <td>18213.206798</td>\n",
       "      <td>4.242708e-02</td>\n",
       "    </tr>\n",
       "    <tr>\n",
       "      <th>NETWORKSIZE^1</th>\n",
       "      <td>NaN</td>\n",
       "      <td>NaN</td>\n",
       "      <td>613.907414</td>\n",
       "      <td>1.898177e-83</td>\n",
       "      <td>625.054156</td>\n",
       "      <td>2.948909e-79</td>\n",
       "      <td>NaN</td>\n",
       "      <td>NaN</td>\n",
       "      <td>613.907414</td>\n",
       "      <td>1.898177e-83</td>\n",
       "      <td>625.054156</td>\n",
       "      <td>2.948909e-79</td>\n",
       "    </tr>\n",
       "    <tr>\n",
       "      <th>sEXT^2</th>\n",
       "      <td>NaN</td>\n",
       "      <td>NaN</td>\n",
       "      <td>NaN</td>\n",
       "      <td>NaN</td>\n",
       "      <td>NaN</td>\n",
       "      <td>NaN</td>\n",
       "      <td>NaN</td>\n",
       "      <td>NaN</td>\n",
       "      <td>NaN</td>\n",
       "      <td>NaN</td>\n",
       "      <td>NaN</td>\n",
       "      <td>NaN</td>\n",
       "    </tr>\n",
       "    <tr>\n",
       "      <th>sEXT^1 x sNEU^1</th>\n",
       "      <td>NaN</td>\n",
       "      <td>NaN</td>\n",
       "      <td>NaN</td>\n",
       "      <td>NaN</td>\n",
       "      <td>NaN</td>\n",
       "      <td>NaN</td>\n",
       "      <td>NaN</td>\n",
       "      <td>NaN</td>\n",
       "      <td>NaN</td>\n",
       "      <td>NaN</td>\n",
       "      <td>NaN</td>\n",
       "      <td>NaN</td>\n",
       "    </tr>\n",
       "    <tr>\n",
       "      <th>sEXT^1 x sAGR^1</th>\n",
       "      <td>NaN</td>\n",
       "      <td>NaN</td>\n",
       "      <td>NaN</td>\n",
       "      <td>NaN</td>\n",
       "      <td>NaN</td>\n",
       "      <td>NaN</td>\n",
       "      <td>NaN</td>\n",
       "      <td>NaN</td>\n",
       "      <td>NaN</td>\n",
       "      <td>NaN</td>\n",
       "      <td>NaN</td>\n",
       "      <td>NaN</td>\n",
       "    </tr>\n",
       "    <tr>\n",
       "      <th>sEXT^1 x sCON^1</th>\n",
       "      <td>NaN</td>\n",
       "      <td>NaN</td>\n",
       "      <td>NaN</td>\n",
       "      <td>NaN</td>\n",
       "      <td>NaN</td>\n",
       "      <td>NaN</td>\n",
       "      <td>NaN</td>\n",
       "      <td>NaN</td>\n",
       "      <td>NaN</td>\n",
       "      <td>NaN</td>\n",
       "      <td>NaN</td>\n",
       "      <td>NaN</td>\n",
       "    </tr>\n",
       "    <tr>\n",
       "      <th>sEXT^1 x sOPN^1</th>\n",
       "      <td>NaN</td>\n",
       "      <td>NaN</td>\n",
       "      <td>NaN</td>\n",
       "      <td>NaN</td>\n",
       "      <td>NaN</td>\n",
       "      <td>NaN</td>\n",
       "      <td>NaN</td>\n",
       "      <td>NaN</td>\n",
       "      <td>NaN</td>\n",
       "      <td>NaN</td>\n",
       "      <td>NaN</td>\n",
       "      <td>NaN</td>\n",
       "    </tr>\n",
       "    <tr>\n",
       "      <th>sEXT^1 x NETWORKSIZE^1</th>\n",
       "      <td>NaN</td>\n",
       "      <td>NaN</td>\n",
       "      <td>NaN</td>\n",
       "      <td>NaN</td>\n",
       "      <td>NaN</td>\n",
       "      <td>NaN</td>\n",
       "      <td>NaN</td>\n",
       "      <td>NaN</td>\n",
       "      <td>NaN</td>\n",
       "      <td>NaN</td>\n",
       "      <td>NaN</td>\n",
       "      <td>NaN</td>\n",
       "    </tr>\n",
       "    <tr>\n",
       "      <th>sNEU^2</th>\n",
       "      <td>NaN</td>\n",
       "      <td>NaN</td>\n",
       "      <td>NaN</td>\n",
       "      <td>NaN</td>\n",
       "      <td>NaN</td>\n",
       "      <td>NaN</td>\n",
       "      <td>NaN</td>\n",
       "      <td>NaN</td>\n",
       "      <td>NaN</td>\n",
       "      <td>NaN</td>\n",
       "      <td>NaN</td>\n",
       "      <td>NaN</td>\n",
       "    </tr>\n",
       "    <tr>\n",
       "      <th>sNEU^1 x sAGR^1</th>\n",
       "      <td>NaN</td>\n",
       "      <td>NaN</td>\n",
       "      <td>NaN</td>\n",
       "      <td>NaN</td>\n",
       "      <td>NaN</td>\n",
       "      <td>NaN</td>\n",
       "      <td>NaN</td>\n",
       "      <td>NaN</td>\n",
       "      <td>NaN</td>\n",
       "      <td>NaN</td>\n",
       "      <td>NaN</td>\n",
       "      <td>NaN</td>\n",
       "    </tr>\n",
       "    <tr>\n",
       "      <th>sNEU^1 x sCON^1</th>\n",
       "      <td>NaN</td>\n",
       "      <td>NaN</td>\n",
       "      <td>NaN</td>\n",
       "      <td>NaN</td>\n",
       "      <td>NaN</td>\n",
       "      <td>NaN</td>\n",
       "      <td>NaN</td>\n",
       "      <td>NaN</td>\n",
       "      <td>NaN</td>\n",
       "      <td>NaN</td>\n",
       "      <td>NaN</td>\n",
       "      <td>NaN</td>\n",
       "    </tr>\n",
       "    <tr>\n",
       "      <th>sNEU^1 x sOPN^1</th>\n",
       "      <td>NaN</td>\n",
       "      <td>NaN</td>\n",
       "      <td>NaN</td>\n",
       "      <td>NaN</td>\n",
       "      <td>NaN</td>\n",
       "      <td>NaN</td>\n",
       "      <td>NaN</td>\n",
       "      <td>NaN</td>\n",
       "      <td>NaN</td>\n",
       "      <td>NaN</td>\n",
       "      <td>NaN</td>\n",
       "      <td>NaN</td>\n",
       "    </tr>\n",
       "    <tr>\n",
       "      <th>sNEU^1 x NETWORKSIZE^1</th>\n",
       "      <td>NaN</td>\n",
       "      <td>NaN</td>\n",
       "      <td>NaN</td>\n",
       "      <td>NaN</td>\n",
       "      <td>NaN</td>\n",
       "      <td>NaN</td>\n",
       "      <td>NaN</td>\n",
       "      <td>NaN</td>\n",
       "      <td>NaN</td>\n",
       "      <td>NaN</td>\n",
       "      <td>NaN</td>\n",
       "      <td>NaN</td>\n",
       "    </tr>\n",
       "    <tr>\n",
       "      <th>sAGR^2</th>\n",
       "      <td>NaN</td>\n",
       "      <td>NaN</td>\n",
       "      <td>NaN</td>\n",
       "      <td>NaN</td>\n",
       "      <td>NaN</td>\n",
       "      <td>NaN</td>\n",
       "      <td>NaN</td>\n",
       "      <td>NaN</td>\n",
       "      <td>NaN</td>\n",
       "      <td>NaN</td>\n",
       "      <td>NaN</td>\n",
       "      <td>NaN</td>\n",
       "    </tr>\n",
       "    <tr>\n",
       "      <th>sAGR^1 x sCON^1</th>\n",
       "      <td>NaN</td>\n",
       "      <td>NaN</td>\n",
       "      <td>NaN</td>\n",
       "      <td>NaN</td>\n",
       "      <td>NaN</td>\n",
       "      <td>NaN</td>\n",
       "      <td>NaN</td>\n",
       "      <td>NaN</td>\n",
       "      <td>NaN</td>\n",
       "      <td>NaN</td>\n",
       "      <td>NaN</td>\n",
       "      <td>NaN</td>\n",
       "    </tr>\n",
       "    <tr>\n",
       "      <th>sAGR^1 x sOPN^1</th>\n",
       "      <td>NaN</td>\n",
       "      <td>NaN</td>\n",
       "      <td>NaN</td>\n",
       "      <td>NaN</td>\n",
       "      <td>NaN</td>\n",
       "      <td>NaN</td>\n",
       "      <td>NaN</td>\n",
       "      <td>NaN</td>\n",
       "      <td>NaN</td>\n",
       "      <td>NaN</td>\n",
       "      <td>NaN</td>\n",
       "      <td>NaN</td>\n",
       "    </tr>\n",
       "    <tr>\n",
       "      <th>sAGR^1 x NETWORKSIZE^1</th>\n",
       "      <td>NaN</td>\n",
       "      <td>NaN</td>\n",
       "      <td>NaN</td>\n",
       "      <td>NaN</td>\n",
       "      <td>NaN</td>\n",
       "      <td>NaN</td>\n",
       "      <td>NaN</td>\n",
       "      <td>NaN</td>\n",
       "      <td>NaN</td>\n",
       "      <td>NaN</td>\n",
       "      <td>NaN</td>\n",
       "      <td>NaN</td>\n",
       "    </tr>\n",
       "    <tr>\n",
       "      <th>sCON^2</th>\n",
       "      <td>NaN</td>\n",
       "      <td>NaN</td>\n",
       "      <td>NaN</td>\n",
       "      <td>NaN</td>\n",
       "      <td>NaN</td>\n",
       "      <td>NaN</td>\n",
       "      <td>NaN</td>\n",
       "      <td>NaN</td>\n",
       "      <td>NaN</td>\n",
       "      <td>NaN</td>\n",
       "      <td>NaN</td>\n",
       "      <td>NaN</td>\n",
       "    </tr>\n",
       "    <tr>\n",
       "      <th>sCON^1 x sOPN^1</th>\n",
       "      <td>NaN</td>\n",
       "      <td>NaN</td>\n",
       "      <td>NaN</td>\n",
       "      <td>NaN</td>\n",
       "      <td>NaN</td>\n",
       "      <td>NaN</td>\n",
       "      <td>NaN</td>\n",
       "      <td>NaN</td>\n",
       "      <td>NaN</td>\n",
       "      <td>NaN</td>\n",
       "      <td>NaN</td>\n",
       "      <td>NaN</td>\n",
       "    </tr>\n",
       "    <tr>\n",
       "      <th>sCON^1 x NETWORKSIZE^1</th>\n",
       "      <td>NaN</td>\n",
       "      <td>NaN</td>\n",
       "      <td>NaN</td>\n",
       "      <td>NaN</td>\n",
       "      <td>NaN</td>\n",
       "      <td>NaN</td>\n",
       "      <td>NaN</td>\n",
       "      <td>NaN</td>\n",
       "      <td>NaN</td>\n",
       "      <td>NaN</td>\n",
       "      <td>NaN</td>\n",
       "      <td>NaN</td>\n",
       "    </tr>\n",
       "    <tr>\n",
       "      <th>sOPN^2</th>\n",
       "      <td>NaN</td>\n",
       "      <td>NaN</td>\n",
       "      <td>NaN</td>\n",
       "      <td>NaN</td>\n",
       "      <td>NaN</td>\n",
       "      <td>NaN</td>\n",
       "      <td>NaN</td>\n",
       "      <td>NaN</td>\n",
       "      <td>NaN</td>\n",
       "      <td>NaN</td>\n",
       "      <td>NaN</td>\n",
       "      <td>NaN</td>\n",
       "    </tr>\n",
       "    <tr>\n",
       "      <th>sOPN^1 x NETWORKSIZE^1</th>\n",
       "      <td>NaN</td>\n",
       "      <td>NaN</td>\n",
       "      <td>NaN</td>\n",
       "      <td>NaN</td>\n",
       "      <td>NaN</td>\n",
       "      <td>NaN</td>\n",
       "      <td>NaN</td>\n",
       "      <td>NaN</td>\n",
       "      <td>NaN</td>\n",
       "      <td>NaN</td>\n",
       "      <td>NaN</td>\n",
       "      <td>NaN</td>\n",
       "    </tr>\n",
       "    <tr>\n",
       "      <th>NETWORKSIZE^2</th>\n",
       "      <td>NaN</td>\n",
       "      <td>NaN</td>\n",
       "      <td>NaN</td>\n",
       "      <td>NaN</td>\n",
       "      <td>NaN</td>\n",
       "      <td>NaN</td>\n",
       "      <td>NaN</td>\n",
       "      <td>NaN</td>\n",
       "      <td>NaN</td>\n",
       "      <td>NaN</td>\n",
       "      <td>NaN</td>\n",
       "      <td>NaN</td>\n",
       "    </tr>\n",
       "  </tbody>\n",
       "</table>\n",
       "</div>"
      ],
      "text/plain": [
       "                            beta_big5  pvalues_big5   beta_network  \\\n",
       "feature                                                              \n",
       "Constant Term          -270081.897832      0.130103 -121987.218929   \n",
       "sEXT^1                   50094.549087      0.011699            NaN   \n",
       "sNEU^1                   -5591.777769      0.792938            NaN   \n",
       "sAGR^1                   35332.693944      0.155617            NaN   \n",
       "sCON^1                   21129.161948      0.281906            NaN   \n",
       "sOPN^1                    9011.618835      0.725506            NaN   \n",
       "NETWORKSIZE^1                     NaN           NaN     613.907414   \n",
       "sEXT^2                            NaN           NaN            NaN   \n",
       "sEXT^1 x sNEU^1                   NaN           NaN            NaN   \n",
       "sEXT^1 x sAGR^1                   NaN           NaN            NaN   \n",
       "sEXT^1 x sCON^1                   NaN           NaN            NaN   \n",
       "sEXT^1 x sOPN^1                   NaN           NaN            NaN   \n",
       "sEXT^1 x NETWORKSIZE^1            NaN           NaN            NaN   \n",
       "sNEU^2                            NaN           NaN            NaN   \n",
       "sNEU^1 x sAGR^1                   NaN           NaN            NaN   \n",
       "sNEU^1 x sCON^1                   NaN           NaN            NaN   \n",
       "sNEU^1 x sOPN^1                   NaN           NaN            NaN   \n",
       "sNEU^1 x NETWORKSIZE^1            NaN           NaN            NaN   \n",
       "sAGR^2                            NaN           NaN            NaN   \n",
       "sAGR^1 x sCON^1                   NaN           NaN            NaN   \n",
       "sAGR^1 x sOPN^1                   NaN           NaN            NaN   \n",
       "sAGR^1 x NETWORKSIZE^1            NaN           NaN            NaN   \n",
       "sCON^2                            NaN           NaN            NaN   \n",
       "sCON^1 x sOPN^1                   NaN           NaN            NaN   \n",
       "sCON^1 x NETWORKSIZE^1            NaN           NaN            NaN   \n",
       "sOPN^2                            NaN           NaN            NaN   \n",
       "sOPN^1 x NETWORKSIZE^1            NaN           NaN            NaN   \n",
       "NETWORKSIZE^2                     NaN           NaN            NaN   \n",
       "\n",
       "                        pvalues_network  beta_big5_and_network  \\\n",
       "feature                                                          \n",
       "Constant Term              3.620358e-32         -134215.876567   \n",
       "sEXT^1                              NaN          -11564.257155   \n",
       "sNEU^1                              NaN             419.459993   \n",
       "sAGR^1                              NaN           -4565.481156   \n",
       "sCON^1                              NaN           -3625.342899   \n",
       "sOPN^1                              NaN           18213.206798   \n",
       "NETWORKSIZE^1              1.898177e-83             625.054156   \n",
       "sEXT^2                              NaN                    NaN   \n",
       "sEXT^1 x sNEU^1                     NaN                    NaN   \n",
       "sEXT^1 x sAGR^1                     NaN                    NaN   \n",
       "sEXT^1 x sCON^1                     NaN                    NaN   \n",
       "sEXT^1 x sOPN^1                     NaN                    NaN   \n",
       "sEXT^1 x NETWORKSIZE^1              NaN                    NaN   \n",
       "sNEU^2                              NaN                    NaN   \n",
       "sNEU^1 x sAGR^1                     NaN                    NaN   \n",
       "sNEU^1 x sCON^1                     NaN                    NaN   \n",
       "sNEU^1 x sOPN^1                     NaN                    NaN   \n",
       "sNEU^1 x NETWORKSIZE^1              NaN                    NaN   \n",
       "sAGR^2                              NaN                    NaN   \n",
       "sAGR^1 x sCON^1                     NaN                    NaN   \n",
       "sAGR^1 x sOPN^1                     NaN                    NaN   \n",
       "sAGR^1 x NETWORKSIZE^1              NaN                    NaN   \n",
       "sCON^2                              NaN                    NaN   \n",
       "sCON^1 x sOPN^1                     NaN                    NaN   \n",
       "sCON^1 x NETWORKSIZE^1              NaN                    NaN   \n",
       "sOPN^2                              NaN                    NaN   \n",
       "sOPN^1 x NETWORKSIZE^1              NaN                    NaN   \n",
       "NETWORKSIZE^2                       NaN                    NaN   \n",
       "\n",
       "                        pvalues_big5_and_network      beta_big5  pvalues_big5  \\\n",
       "feature                                                                         \n",
       "Constant Term                       3.131107e-02 -270081.897832      0.130103   \n",
       "sEXT^1                              1.028649e-01   50094.549087      0.011699   \n",
       "sNEU^1                              9.548142e-01   -5591.777769      0.792938   \n",
       "sAGR^1                              5.996693e-01   35332.693944      0.155617   \n",
       "sCON^1                              5.966473e-01   21129.161948      0.281906   \n",
       "sOPN^1                              4.242708e-02    9011.618835      0.725506   \n",
       "NETWORKSIZE^1                       2.948909e-79            NaN           NaN   \n",
       "sEXT^2                                       NaN            NaN           NaN   \n",
       "sEXT^1 x sNEU^1                              NaN            NaN           NaN   \n",
       "sEXT^1 x sAGR^1                              NaN            NaN           NaN   \n",
       "sEXT^1 x sCON^1                              NaN            NaN           NaN   \n",
       "sEXT^1 x sOPN^1                              NaN            NaN           NaN   \n",
       "sEXT^1 x NETWORKSIZE^1                       NaN            NaN           NaN   \n",
       "sNEU^2                                       NaN            NaN           NaN   \n",
       "sNEU^1 x sAGR^1                              NaN            NaN           NaN   \n",
       "sNEU^1 x sCON^1                              NaN            NaN           NaN   \n",
       "sNEU^1 x sOPN^1                              NaN            NaN           NaN   \n",
       "sNEU^1 x NETWORKSIZE^1                       NaN            NaN           NaN   \n",
       "sAGR^2                                       NaN            NaN           NaN   \n",
       "sAGR^1 x sCON^1                              NaN            NaN           NaN   \n",
       "sAGR^1 x sOPN^1                              NaN            NaN           NaN   \n",
       "sAGR^1 x NETWORKSIZE^1                       NaN            NaN           NaN   \n",
       "sCON^2                                       NaN            NaN           NaN   \n",
       "sCON^1 x sOPN^1                              NaN            NaN           NaN   \n",
       "sCON^1 x NETWORKSIZE^1                       NaN            NaN           NaN   \n",
       "sOPN^2                                       NaN            NaN           NaN   \n",
       "sOPN^1 x NETWORKSIZE^1                       NaN            NaN           NaN   \n",
       "NETWORKSIZE^2                                NaN            NaN           NaN   \n",
       "\n",
       "                         beta_network  pvalues_network  beta_big5_and_network  \\\n",
       "feature                                                                         \n",
       "Constant Term          -121987.218929     3.620358e-32         -134215.876567   \n",
       "sEXT^1                            NaN              NaN          -11564.257155   \n",
       "sNEU^1                            NaN              NaN             419.459993   \n",
       "sAGR^1                            NaN              NaN           -4565.481156   \n",
       "sCON^1                            NaN              NaN           -3625.342899   \n",
       "sOPN^1                            NaN              NaN           18213.206798   \n",
       "NETWORKSIZE^1              613.907414     1.898177e-83             625.054156   \n",
       "sEXT^2                            NaN              NaN                    NaN   \n",
       "sEXT^1 x sNEU^1                   NaN              NaN                    NaN   \n",
       "sEXT^1 x sAGR^1                   NaN              NaN                    NaN   \n",
       "sEXT^1 x sCON^1                   NaN              NaN                    NaN   \n",
       "sEXT^1 x sOPN^1                   NaN              NaN                    NaN   \n",
       "sEXT^1 x NETWORKSIZE^1            NaN              NaN                    NaN   \n",
       "sNEU^2                            NaN              NaN                    NaN   \n",
       "sNEU^1 x sAGR^1                   NaN              NaN                    NaN   \n",
       "sNEU^1 x sCON^1                   NaN              NaN                    NaN   \n",
       "sNEU^1 x sOPN^1                   NaN              NaN                    NaN   \n",
       "sNEU^1 x NETWORKSIZE^1            NaN              NaN                    NaN   \n",
       "sAGR^2                            NaN              NaN                    NaN   \n",
       "sAGR^1 x sCON^1                   NaN              NaN                    NaN   \n",
       "sAGR^1 x sOPN^1                   NaN              NaN                    NaN   \n",
       "sAGR^1 x NETWORKSIZE^1            NaN              NaN                    NaN   \n",
       "sCON^2                            NaN              NaN                    NaN   \n",
       "sCON^1 x sOPN^1                   NaN              NaN                    NaN   \n",
       "sCON^1 x NETWORKSIZE^1            NaN              NaN                    NaN   \n",
       "sOPN^2                            NaN              NaN                    NaN   \n",
       "sOPN^1 x NETWORKSIZE^1            NaN              NaN                    NaN   \n",
       "NETWORKSIZE^2                     NaN              NaN                    NaN   \n",
       "\n",
       "                        pvalues_big5_and_network  \n",
       "feature                                           \n",
       "Constant Term                       3.131107e-02  \n",
       "sEXT^1                              1.028649e-01  \n",
       "sNEU^1                              9.548142e-01  \n",
       "sAGR^1                              5.996693e-01  \n",
       "sCON^1                              5.966473e-01  \n",
       "sOPN^1                              4.242708e-02  \n",
       "NETWORKSIZE^1                       2.948909e-79  \n",
       "sEXT^2                                       NaN  \n",
       "sEXT^1 x sNEU^1                              NaN  \n",
       "sEXT^1 x sAGR^1                              NaN  \n",
       "sEXT^1 x sCON^1                              NaN  \n",
       "sEXT^1 x sOPN^1                              NaN  \n",
       "sEXT^1 x NETWORKSIZE^1                       NaN  \n",
       "sNEU^2                                       NaN  \n",
       "sNEU^1 x sAGR^1                              NaN  \n",
       "sNEU^1 x sCON^1                              NaN  \n",
       "sNEU^1 x sOPN^1                              NaN  \n",
       "sNEU^1 x NETWORKSIZE^1                       NaN  \n",
       "sAGR^2                                       NaN  \n",
       "sAGR^1 x sCON^1                              NaN  \n",
       "sAGR^1 x sOPN^1                              NaN  \n",
       "sAGR^1 x NETWORKSIZE^1                       NaN  \n",
       "sCON^2                                       NaN  \n",
       "sCON^1 x sOPN^1                              NaN  \n",
       "sCON^1 x NETWORKSIZE^1                       NaN  \n",
       "sOPN^2                                       NaN  \n",
       "sOPN^1 x NETWORKSIZE^1                       NaN  \n",
       "NETWORKSIZE^2                                NaN  "
      ]
     },
     "execution_count": 46,
     "metadata": {},
     "output_type": "execute_result"
    }
   ],
   "source": [
    "twinkie3"
   ]
  },
  {
   "cell_type": "code",
   "execution_count": null,
   "metadata": {
    "collapsed": false
   },
   "outputs": [],
   "source": []
  },
  {
   "cell_type": "code",
   "execution_count": 47,
   "metadata": {
    "collapsed": false,
    "scrolled": true
   },
   "outputs": [
    {
     "data": {
      "text/html": [
       "<div>\n",
       "<table border=\"1\" class=\"dataframe\">\n",
       "  <thead>\n",
       "    <tr style=\"text-align: right;\">\n",
       "      <th></th>\n",
       "      <th>model_names</th>\n",
       "      <th>number_regressors</th>\n",
       "      <th>feature_names</th>\n",
       "      <th>train_rsq_adj</th>\n",
       "      <th>train_ssr</th>\n",
       "      <th>test_rsq_adj</th>\n",
       "      <th>z_test_rsq_adj</th>\n",
       "      <th>test_sse</th>\n",
       "      <th>z_test_sst</th>\n",
       "    </tr>\n",
       "  </thead>\n",
       "  <tbody>\n",
       "    <tr>\n",
       "      <th>0</th>\n",
       "      <td>X_network_polyexpanded</td>\n",
       "      <td>2.0</td>\n",
       "      <td>Constant Term; NETWORKSIZE^1; NETWORKSIZE^2</td>\n",
       "      <td>0.999765</td>\n",
       "      <td>1.591077e+09</td>\n",
       "      <td>0.999861</td>\n",
       "      <td>0.999861</td>\n",
       "      <td>4.714616e+08</td>\n",
       "      <td>3.541399e+12</td>\n",
       "    </tr>\n",
       "    <tr>\n",
       "      <th>1</th>\n",
       "      <td>X_big5</td>\n",
       "      <td>5.0</td>\n",
       "      <td>Constant Term; sEXT^1; sNEU^1; sAGR^1; sCON^1;...</td>\n",
       "      <td>0.059499</td>\n",
       "      <td>6.256550e+12</td>\n",
       "      <td>-0.062450</td>\n",
       "      <td>-0.062450</td>\n",
       "      <td>3.457488e+12</td>\n",
       "      <td>3.541399e+12</td>\n",
       "    </tr>\n",
       "    <tr>\n",
       "      <th>2</th>\n",
       "      <td>X_big5_polyexpanded</td>\n",
       "      <td>20.0</td>\n",
       "      <td>Constant Term; sEXT^1; sNEU^1; sAGR^1; sCON^1;...</td>\n",
       "      <td>0.022310</td>\n",
       "      <td>5.926672e+12</td>\n",
       "      <td>-0.295000</td>\n",
       "      <td>-0.295000</td>\n",
       "      <td>3.284648e+12</td>\n",
       "      <td>3.541399e+12</td>\n",
       "    </tr>\n",
       "    <tr>\n",
       "      <th>3</th>\n",
       "      <td>X_network</td>\n",
       "      <td>1.0</td>\n",
       "      <td>Constant Term; NETWORKSIZE^1</td>\n",
       "      <td>0.885195</td>\n",
       "      <td>7.817993e+11</td>\n",
       "      <td>0.901978</td>\n",
       "      <td>0.901978</td>\n",
       "      <td>3.377538e+11</td>\n",
       "      <td>3.541399e+12</td>\n",
       "    </tr>\n",
       "    <tr>\n",
       "      <th>4</th>\n",
       "      <td>X_big5_and_network</td>\n",
       "      <td>6.0</td>\n",
       "      <td>Constant Term; sEXT^1; sNEU^1; sAGR^1; sCON^1;...</td>\n",
       "      <td>0.886461</td>\n",
       "      <td>7.508350e+11</td>\n",
       "      <td>0.905156</td>\n",
       "      <td>0.905156</td>\n",
       "      <td>3.041095e+11</td>\n",
       "      <td>3.541399e+12</td>\n",
       "    </tr>\n",
       "    <tr>\n",
       "      <th>5</th>\n",
       "      <td>X_big5_and_network_polyexpanded</td>\n",
       "      <td>27.0</td>\n",
       "      <td>Constant Term; sEXT^1; sNEU^1; sAGR^1; sCON^1;...</td>\n",
       "      <td>0.999772</td>\n",
       "      <td>1.316989e+09</td>\n",
       "      <td>0.999659</td>\n",
       "      <td>0.999659</td>\n",
       "      <td>7.502323e+08</td>\n",
       "      <td>3.541399e+12</td>\n",
       "    </tr>\n",
       "  </tbody>\n",
       "</table>\n",
       "</div>"
      ],
      "text/plain": [
       "                       model_names  number_regressors  \\\n",
       "0           X_network_polyexpanded                2.0   \n",
       "1                           X_big5                5.0   \n",
       "2              X_big5_polyexpanded               20.0   \n",
       "3                        X_network                1.0   \n",
       "4               X_big5_and_network                6.0   \n",
       "5  X_big5_and_network_polyexpanded               27.0   \n",
       "\n",
       "                                       feature_names  train_rsq_adj  \\\n",
       "0        Constant Term; NETWORKSIZE^1; NETWORKSIZE^2       0.999765   \n",
       "1  Constant Term; sEXT^1; sNEU^1; sAGR^1; sCON^1;...       0.059499   \n",
       "2  Constant Term; sEXT^1; sNEU^1; sAGR^1; sCON^1;...       0.022310   \n",
       "3                       Constant Term; NETWORKSIZE^1       0.885195   \n",
       "4  Constant Term; sEXT^1; sNEU^1; sAGR^1; sCON^1;...       0.886461   \n",
       "5  Constant Term; sEXT^1; sNEU^1; sAGR^1; sCON^1;...       0.999772   \n",
       "\n",
       "      train_ssr  test_rsq_adj  z_test_rsq_adj      test_sse    z_test_sst  \n",
       "0  1.591077e+09      0.999861        0.999861  4.714616e+08  3.541399e+12  \n",
       "1  6.256550e+12     -0.062450       -0.062450  3.457488e+12  3.541399e+12  \n",
       "2  5.926672e+12     -0.295000       -0.295000  3.284648e+12  3.541399e+12  \n",
       "3  7.817993e+11      0.901978        0.901978  3.377538e+11  3.541399e+12  \n",
       "4  7.508350e+11      0.905156        0.905156  3.041095e+11  3.541399e+12  \n",
       "5  1.316989e+09      0.999659        0.999659  7.502323e+08  3.541399e+12  "
      ]
     },
     "execution_count": 47,
     "metadata": {},
     "output_type": "execute_result"
    }
   ],
   "source": [
    "blah"
   ]
  },
  {
   "cell_type": "code",
   "execution_count": null,
   "metadata": {
    "collapsed": false
   },
   "outputs": [],
   "source": []
  },
  {
   "cell_type": "markdown",
   "metadata": {},
   "source": [
    "# Clearly there's a big need to run lasso on the biggest model! -- Radj is too big and in some cases negative (??)!"
   ]
  },
  {
   "cell_type": "code",
   "execution_count": null,
   "metadata": {
    "collapsed": true
   },
   "outputs": [],
   "source": []
  },
  {
   "cell_type": "code",
   "execution_count": 48,
   "metadata": {
    "collapsed": false
   },
   "outputs": [
    {
     "data": {
      "text/plain": [
       "(250, 28)"
      ]
     },
     "execution_count": 48,
     "metadata": {},
     "output_type": "execute_result"
    }
   ],
   "source": [
    "X_big5_and_network_polyexpanded.shape"
   ]
  },
  {
   "cell_type": "code",
   "execution_count": 49,
   "metadata": {
    "collapsed": false
   },
   "outputs": [
    {
     "data": {
      "text/html": [
       "<div>\n",
       "<table border=\"1\" class=\"dataframe\">\n",
       "  <thead>\n",
       "    <tr style=\"text-align: right;\">\n",
       "      <th></th>\n",
       "      <th>Constant Term</th>\n",
       "      <th>sEXT^1</th>\n",
       "      <th>sNEU^1</th>\n",
       "      <th>sAGR^1</th>\n",
       "      <th>sCON^1</th>\n",
       "      <th>sOPN^1</th>\n",
       "      <th>NETWORKSIZE^1</th>\n",
       "      <th>sEXT^2</th>\n",
       "      <th>sEXT^1 x sNEU^1</th>\n",
       "      <th>sEXT^1 x sAGR^1</th>\n",
       "      <th>...</th>\n",
       "      <th>sAGR^2</th>\n",
       "      <th>sAGR^1 x sCON^1</th>\n",
       "      <th>sAGR^1 x sOPN^1</th>\n",
       "      <th>sAGR^1 x NETWORKSIZE^1</th>\n",
       "      <th>sCON^2</th>\n",
       "      <th>sCON^1 x sOPN^1</th>\n",
       "      <th>sCON^1 x NETWORKSIZE^1</th>\n",
       "      <th>sOPN^2</th>\n",
       "      <th>sOPN^1 x NETWORKSIZE^1</th>\n",
       "      <th>NETWORKSIZE^2</th>\n",
       "    </tr>\n",
       "  </thead>\n",
       "  <tbody>\n",
       "    <tr>\n",
       "      <th>count</th>\n",
       "      <td>250.0</td>\n",
       "      <td>250.000000</td>\n",
       "      <td>250.000000</td>\n",
       "      <td>250.000000</td>\n",
       "      <td>250.000000</td>\n",
       "      <td>250.00000</td>\n",
       "      <td>250.000000</td>\n",
       "      <td>250.000000</td>\n",
       "      <td>250.000000</td>\n",
       "      <td>250.000000</td>\n",
       "      <td>...</td>\n",
       "      <td>250.000000</td>\n",
       "      <td>250.000000</td>\n",
       "      <td>250.000000</td>\n",
       "      <td>250.000000</td>\n",
       "      <td>250.000000</td>\n",
       "      <td>250.000000</td>\n",
       "      <td>250.000000</td>\n",
       "      <td>250.000000</td>\n",
       "      <td>250.000000</td>\n",
       "      <td>2.500000e+02</td>\n",
       "    </tr>\n",
       "    <tr>\n",
       "      <th>mean</th>\n",
       "      <td>1.0</td>\n",
       "      <td>3.292120</td>\n",
       "      <td>2.627240</td>\n",
       "      <td>3.600320</td>\n",
       "      <td>3.522920</td>\n",
       "      <td>4.07856</td>\n",
       "      <td>408.012000</td>\n",
       "      <td>11.577041</td>\n",
       "      <td>8.397767</td>\n",
       "      <td>11.970896</td>\n",
       "      <td>...</td>\n",
       "      <td>13.410421</td>\n",
       "      <td>12.732922</td>\n",
       "      <td>14.753144</td>\n",
       "      <td>1492.524440</td>\n",
       "      <td>12.956686</td>\n",
       "      <td>14.403466</td>\n",
       "      <td>1473.926200</td>\n",
       "      <td>16.964022</td>\n",
       "      <td>1668.028320</td>\n",
       "      <td>2.663314e+05</td>\n",
       "    </tr>\n",
       "    <tr>\n",
       "      <th>std</th>\n",
       "      <td>0.0</td>\n",
       "      <td>0.861368</td>\n",
       "      <td>0.776835</td>\n",
       "      <td>0.670758</td>\n",
       "      <td>0.740211</td>\n",
       "      <td>0.57506</td>\n",
       "      <td>316.636458</td>\n",
       "      <td>5.655345</td>\n",
       "      <td>2.819315</td>\n",
       "      <td>4.118490</td>\n",
       "      <td>...</td>\n",
       "      <td>4.737599</td>\n",
       "      <td>3.742903</td>\n",
       "      <td>3.709079</td>\n",
       "      <td>1244.298186</td>\n",
       "      <td>5.174969</td>\n",
       "      <td>3.734485</td>\n",
       "      <td>1236.936542</td>\n",
       "      <td>4.456795</td>\n",
       "      <td>1360.993161</td>\n",
       "      <td>4.164892e+05</td>\n",
       "    </tr>\n",
       "    <tr>\n",
       "      <th>min</th>\n",
       "      <td>1.0</td>\n",
       "      <td>1.330000</td>\n",
       "      <td>1.250000</td>\n",
       "      <td>1.650000</td>\n",
       "      <td>1.450000</td>\n",
       "      <td>2.25000</td>\n",
       "      <td>24.000000</td>\n",
       "      <td>1.768900</td>\n",
       "      <td>3.177500</td>\n",
       "      <td>3.315000</td>\n",
       "      <td>...</td>\n",
       "      <td>2.722500</td>\n",
       "      <td>2.557500</td>\n",
       "      <td>6.022500</td>\n",
       "      <td>67.200000</td>\n",
       "      <td>2.102500</td>\n",
       "      <td>4.132500</td>\n",
       "      <td>56.550000</td>\n",
       "      <td>5.062500</td>\n",
       "      <td>94.800000</td>\n",
       "      <td>5.760000e+02</td>\n",
       "    </tr>\n",
       "    <tr>\n",
       "      <th>25%</th>\n",
       "      <td>1.0</td>\n",
       "      <td>2.662500</td>\n",
       "      <td>2.000000</td>\n",
       "      <td>3.150000</td>\n",
       "      <td>3.000000</td>\n",
       "      <td>3.75000</td>\n",
       "      <td>175.000000</td>\n",
       "      <td>7.089375</td>\n",
       "      <td>6.523125</td>\n",
       "      <td>8.953125</td>\n",
       "      <td>...</td>\n",
       "      <td>9.922500</td>\n",
       "      <td>10.075000</td>\n",
       "      <td>12.165000</td>\n",
       "      <td>537.675000</td>\n",
       "      <td>9.000000</td>\n",
       "      <td>11.842500</td>\n",
       "      <td>575.550000</td>\n",
       "      <td>14.062500</td>\n",
       "      <td>681.950000</td>\n",
       "      <td>3.062500e+04</td>\n",
       "    </tr>\n",
       "    <tr>\n",
       "      <th>50%</th>\n",
       "      <td>1.0</td>\n",
       "      <td>3.300000</td>\n",
       "      <td>2.590000</td>\n",
       "      <td>3.660000</td>\n",
       "      <td>3.500000</td>\n",
       "      <td>4.15000</td>\n",
       "      <td>315.000000</td>\n",
       "      <td>10.890000</td>\n",
       "      <td>7.917500</td>\n",
       "      <td>12.000000</td>\n",
       "      <td>...</td>\n",
       "      <td>13.395700</td>\n",
       "      <td>12.225750</td>\n",
       "      <td>14.956250</td>\n",
       "      <td>1185.775000</td>\n",
       "      <td>12.250000</td>\n",
       "      <td>14.396250</td>\n",
       "      <td>1135.000000</td>\n",
       "      <td>17.222500</td>\n",
       "      <td>1231.125000</td>\n",
       "      <td>9.922500e+04</td>\n",
       "    </tr>\n",
       "    <tr>\n",
       "      <th>75%</th>\n",
       "      <td>1.0</td>\n",
       "      <td>4.000000</td>\n",
       "      <td>3.150000</td>\n",
       "      <td>4.100000</td>\n",
       "      <td>4.050000</td>\n",
       "      <td>4.50000</td>\n",
       "      <td>556.500000</td>\n",
       "      <td>16.000000</td>\n",
       "      <td>9.800000</td>\n",
       "      <td>14.929000</td>\n",
       "      <td>...</td>\n",
       "      <td>16.810000</td>\n",
       "      <td>15.279800</td>\n",
       "      <td>17.500000</td>\n",
       "      <td>1941.525000</td>\n",
       "      <td>16.402500</td>\n",
       "      <td>16.856250</td>\n",
       "      <td>1912.225000</td>\n",
       "      <td>20.250000</td>\n",
       "      <td>2113.612500</td>\n",
       "      <td>3.097110e+05</td>\n",
       "    </tr>\n",
       "    <tr>\n",
       "      <th>max</th>\n",
       "      <td>1.0</td>\n",
       "      <td>5.000000</td>\n",
       "      <td>4.750000</td>\n",
       "      <td>5.000000</td>\n",
       "      <td>5.000000</td>\n",
       "      <td>5.00000</td>\n",
       "      <td>1596.000000</td>\n",
       "      <td>25.000000</td>\n",
       "      <td>20.187500</td>\n",
       "      <td>22.562500</td>\n",
       "      <td>...</td>\n",
       "      <td>25.000000</td>\n",
       "      <td>23.750000</td>\n",
       "      <td>24.150000</td>\n",
       "      <td>6384.000000</td>\n",
       "      <td>25.000000</td>\n",
       "      <td>23.750000</td>\n",
       "      <td>5828.200000</td>\n",
       "      <td>25.000000</td>\n",
       "      <td>6935.000000</td>\n",
       "      <td>2.547216e+06</td>\n",
       "    </tr>\n",
       "  </tbody>\n",
       "</table>\n",
       "<p>8 rows × 28 columns</p>\n",
       "</div>"
      ],
      "text/plain": [
       "       Constant Term      sEXT^1      sNEU^1      sAGR^1      sCON^1  \\\n",
       "count          250.0  250.000000  250.000000  250.000000  250.000000   \n",
       "mean             1.0    3.292120    2.627240    3.600320    3.522920   \n",
       "std              0.0    0.861368    0.776835    0.670758    0.740211   \n",
       "min              1.0    1.330000    1.250000    1.650000    1.450000   \n",
       "25%              1.0    2.662500    2.000000    3.150000    3.000000   \n",
       "50%              1.0    3.300000    2.590000    3.660000    3.500000   \n",
       "75%              1.0    4.000000    3.150000    4.100000    4.050000   \n",
       "max              1.0    5.000000    4.750000    5.000000    5.000000   \n",
       "\n",
       "          sOPN^1  NETWORKSIZE^1      sEXT^2  sEXT^1 x sNEU^1  sEXT^1 x sAGR^1  \\\n",
       "count  250.00000     250.000000  250.000000       250.000000       250.000000   \n",
       "mean     4.07856     408.012000   11.577041         8.397767        11.970896   \n",
       "std      0.57506     316.636458    5.655345         2.819315         4.118490   \n",
       "min      2.25000      24.000000    1.768900         3.177500         3.315000   \n",
       "25%      3.75000     175.000000    7.089375         6.523125         8.953125   \n",
       "50%      4.15000     315.000000   10.890000         7.917500        12.000000   \n",
       "75%      4.50000     556.500000   16.000000         9.800000        14.929000   \n",
       "max      5.00000    1596.000000   25.000000        20.187500        22.562500   \n",
       "\n",
       "           ...            sAGR^2  sAGR^1 x sCON^1  sAGR^1 x sOPN^1  \\\n",
       "count      ...        250.000000       250.000000       250.000000   \n",
       "mean       ...         13.410421        12.732922        14.753144   \n",
       "std        ...          4.737599         3.742903         3.709079   \n",
       "min        ...          2.722500         2.557500         6.022500   \n",
       "25%        ...          9.922500        10.075000        12.165000   \n",
       "50%        ...         13.395700        12.225750        14.956250   \n",
       "75%        ...         16.810000        15.279800        17.500000   \n",
       "max        ...         25.000000        23.750000        24.150000   \n",
       "\n",
       "       sAGR^1 x NETWORKSIZE^1      sCON^2  sCON^1 x sOPN^1  \\\n",
       "count              250.000000  250.000000       250.000000   \n",
       "mean              1492.524440   12.956686        14.403466   \n",
       "std               1244.298186    5.174969         3.734485   \n",
       "min                 67.200000    2.102500         4.132500   \n",
       "25%                537.675000    9.000000        11.842500   \n",
       "50%               1185.775000   12.250000        14.396250   \n",
       "75%               1941.525000   16.402500        16.856250   \n",
       "max               6384.000000   25.000000        23.750000   \n",
       "\n",
       "       sCON^1 x NETWORKSIZE^1      sOPN^2  sOPN^1 x NETWORKSIZE^1  \\\n",
       "count              250.000000  250.000000              250.000000   \n",
       "mean              1473.926200   16.964022             1668.028320   \n",
       "std               1236.936542    4.456795             1360.993161   \n",
       "min                 56.550000    5.062500               94.800000   \n",
       "25%                575.550000   14.062500              681.950000   \n",
       "50%               1135.000000   17.222500             1231.125000   \n",
       "75%               1912.225000   20.250000             2113.612500   \n",
       "max               5828.200000   25.000000             6935.000000   \n",
       "\n",
       "       NETWORKSIZE^2  \n",
       "count   2.500000e+02  \n",
       "mean    2.663314e+05  \n",
       "std     4.164892e+05  \n",
       "min     5.760000e+02  \n",
       "25%     3.062500e+04  \n",
       "50%     9.922500e+04  \n",
       "75%     3.097110e+05  \n",
       "max     2.547216e+06  \n",
       "\n",
       "[8 rows x 28 columns]"
      ]
     },
     "execution_count": 49,
     "metadata": {},
     "output_type": "execute_result"
    }
   ],
   "source": [
    "X_big5_and_network_polyexpanded.describe()"
   ]
  },
  {
   "cell_type": "code",
   "execution_count": 50,
   "metadata": {
    "collapsed": false
   },
   "outputs": [
    {
     "data": {
      "text/plain": [
       "numpy.ndarray"
      ]
     },
     "execution_count": 50,
     "metadata": {},
     "output_type": "execute_result"
    }
   ],
   "source": [
    "type(np.array(X_big5_and_network_polyexpanded))"
   ]
  },
  {
   "cell_type": "code",
   "execution_count": 51,
   "metadata": {
    "collapsed": false
   },
   "outputs": [],
   "source": [
    "kf = KFold(n = 250, n_folds=5)\n",
    "\n",
    "#, shuffle=True,random_state=0)\n",
    "# for x in kf:\n",
    "#     print x\n",
    "    \n",
    "lambda_range = np.arange(10990,10995,0.01)    # Ideal to start with a course grid and then make it finer. E.g. (0,1,0.05) -> (0,0.05, 0.001)\n",
    "#lambda_range = np.arange(0,0.033,0.0001)    # Ideal to start with a course grid and then make it finer. E.g. (0,1,0.05) -> (0,0.05, 0.001)\n",
    "\n",
    "error_per_lambda = []\n",
    "#print lambda_range\n",
    "\n",
    "for lambda_value in lambda_range:\n",
    "    errors_per_fold_list = []\n",
    "    for train_index, test_index in kf:\n",
    "        #print(\"TRAIN:\", train_index, \"TEST:\", test_index)\n",
    "        #print(\"%s %s\" % (train_index.shape, test_index.shape))\n",
    "\n",
    "        X_train, X_test = np.array(X_big5_and_network_polyexpanded)[train_index], np.array(X_big5_and_network_polyexpanded)[test_index]\n",
    "        y_train, y_test = np.array(y_betweenness)[train_index], np.array(y_betweenness)[test_index]\n",
    "\n",
    "        # After this step is where we do the fitting and etc...\n",
    "        # For each fold, train on the training sets (X_train & y_train)\n",
    "        model = Lasso(lambda_value)    # The number entered here is the lambda /alpha variable\n",
    "        model.fit(X_train,y_train)\n",
    "\n",
    "        # For each fold, get a cost for the test sets (X_test & y_test)\n",
    "        y_hat = model.predict(X_test)      # this will generate the predictions\n",
    "        errors = y_test - y_hat\n",
    "        squared_errors = errors * errors\n",
    "        sum_squared_errors = sum(squared_errors)\n",
    "   \n",
    "    #   Returns the coefficient of determination R^2 of the prediction.\n",
    "    #   The coefficient R^2 is defined as (1 - u/v), where u is the regression sum of squares ((y_true - y_pred) ** 2).sum() and v is the residual sum of squares ((y_true - y_true.mean()) ** 2).sum(). Best possible score is 1.0 and it can be negative (because the model can be arbitrarily worse). A constant model that always predicts the expected value of y, disregarding the input features, would get a R^2 score of 0.0.\n",
    "\n",
    "        #r_squared = model.score(X_test,y_test)    # R_squared = 1 - (SSE/SST)\n",
    "        #sse_divied_sst = 1 - r_squared\n",
    "\n",
    "        # Store the cost in a separate cost list\n",
    "\n",
    "        errors_per_fold_list.append(sum_squared_errors)\n",
    "        # print errors_per_fold_list\n",
    "        # Compute the average cost across all folds for the given lambda\n",
    "\n",
    "    final_lambda_cost = np.mean(errors_per_fold_list)\n",
    "\n",
    "    # Store the cost of the lambda\n",
    "\n",
    "    error_per_lambda.append(final_lambda_cost)"
   ]
  },
  {
   "cell_type": "code",
   "execution_count": 52,
   "metadata": {
    "collapsed": false
   },
   "outputs": [
    {
     "name": "stdout",
     "output_type": "stream",
     "text": [
      "    Alpha/Lambda Value  Mean Error per Fold\n",
      "74            10990.74         4.543069e+08\n",
      "75            10990.75         4.543069e+08\n",
      "76            10990.76         4.543069e+08\n",
      "77            10990.77         4.543069e+08\n",
      "78            10990.78         4.543069e+08\n",
      "79            10990.79         4.543069e+08\n",
      "80            10990.80         4.543069e+08\n",
      "81            10990.81         4.543069e+08\n",
      "82            10990.82         4.543069e+08\n",
      "83            10990.83         4.543069e+08\n",
      "84            10990.84         4.543069e+08\n",
      "85            10990.85         4.543069e+08\n",
      "86            10990.86         4.543069e+08\n",
      "87            10990.87         4.543069e+08\n",
      "88            10990.88         4.543069e+08\n",
      "89            10990.89         4.543069e+08\n",
      "90            10990.90         4.543069e+08\n",
      "91            10990.91         4.543069e+08\n",
      "92            10990.92         4.543069e+08\n",
      "93            10990.93         4.543069e+08\n"
     ]
    },
    {
     "name": "stderr",
     "output_type": "stream",
     "text": [
      "/anaconda/lib/python2.7/site-packages/ipykernel/__main__.py:1: FutureWarning:\n",
      "\n",
      "sort(columns=....) is deprecated, use sort_values(by=.....)\n",
      "\n"
     ]
    }
   ],
   "source": [
    "lambda_error_df = pd.DataFrame({\"Alpha/Lambda Value\":lambda_range,\"Mean Error per Fold\": error_per_lambda}).sort(columns = \"Mean Error per Fold\")\n",
    "print lambda_error_df.head(20)"
   ]
  },
  {
   "cell_type": "code",
   "execution_count": 53,
   "metadata": {
    "collapsed": false
   },
   "outputs": [
    {
     "data": {
      "text/html": [
       "<div>\n",
       "<table border=\"1\" class=\"dataframe\">\n",
       "  <thead>\n",
       "    <tr style=\"text-align: right;\">\n",
       "      <th></th>\n",
       "      <th>Coeff. Estimate</th>\n",
       "      <th>Coeff. Name</th>\n",
       "    </tr>\n",
       "  </thead>\n",
       "  <tbody>\n",
       "    <tr>\n",
       "      <th>0</th>\n",
       "      <td>0</td>\n",
       "      <td>Constant Term</td>\n",
       "    </tr>\n",
       "    <tr>\n",
       "      <th>1</th>\n",
       "      <td>0</td>\n",
       "      <td>sEXT^1</td>\n",
       "    </tr>\n",
       "    <tr>\n",
       "      <th>2</th>\n",
       "      <td>-0</td>\n",
       "      <td>sNEU^1</td>\n",
       "    </tr>\n",
       "    <tr>\n",
       "      <th>3</th>\n",
       "      <td>0</td>\n",
       "      <td>sAGR^1</td>\n",
       "    </tr>\n",
       "    <tr>\n",
       "      <th>4</th>\n",
       "      <td>0</td>\n",
       "      <td>sCON^1</td>\n",
       "    </tr>\n",
       "    <tr>\n",
       "      <th>5</th>\n",
       "      <td>0</td>\n",
       "      <td>sOPN^1</td>\n",
       "    </tr>\n",
       "    <tr>\n",
       "      <th>6</th>\n",
       "      <td>-4.84297</td>\n",
       "      <td>NETWORKSIZE^1</td>\n",
       "    </tr>\n",
       "    <tr>\n",
       "      <th>7</th>\n",
       "      <td>0</td>\n",
       "      <td>sEXT^2</td>\n",
       "    </tr>\n",
       "    <tr>\n",
       "      <th>8</th>\n",
       "      <td>0</td>\n",
       "      <td>sEXT^1 x sNEU^1</td>\n",
       "    </tr>\n",
       "    <tr>\n",
       "      <th>9</th>\n",
       "      <td>0</td>\n",
       "      <td>sEXT^1 x sAGR^1</td>\n",
       "    </tr>\n",
       "    <tr>\n",
       "      <th>10</th>\n",
       "      <td>0</td>\n",
       "      <td>sEXT^1 x sCON^1</td>\n",
       "    </tr>\n",
       "    <tr>\n",
       "      <th>11</th>\n",
       "      <td>0</td>\n",
       "      <td>sEXT^1 x sOPN^1</td>\n",
       "    </tr>\n",
       "    <tr>\n",
       "      <th>12</th>\n",
       "      <td>-0.103446</td>\n",
       "      <td>sEXT^1 x NETWORKSIZE^1</td>\n",
       "    </tr>\n",
       "    <tr>\n",
       "      <th>13</th>\n",
       "      <td>-0</td>\n",
       "      <td>sNEU^2</td>\n",
       "    </tr>\n",
       "    <tr>\n",
       "      <th>14</th>\n",
       "      <td>0</td>\n",
       "      <td>sNEU^1 x sAGR^1</td>\n",
       "    </tr>\n",
       "    <tr>\n",
       "      <th>15</th>\n",
       "      <td>0</td>\n",
       "      <td>sNEU^1 x sCON^1</td>\n",
       "    </tr>\n",
       "    <tr>\n",
       "      <th>16</th>\n",
       "      <td>-0</td>\n",
       "      <td>sNEU^1 x sOPN^1</td>\n",
       "    </tr>\n",
       "    <tr>\n",
       "      <th>17</th>\n",
       "      <td>-0.105269</td>\n",
       "      <td>sNEU^1 x NETWORKSIZE^1</td>\n",
       "    </tr>\n",
       "    <tr>\n",
       "      <th>18</th>\n",
       "      <td>0</td>\n",
       "      <td>sAGR^2</td>\n",
       "    </tr>\n",
       "    <tr>\n",
       "      <th>19</th>\n",
       "      <td>0</td>\n",
       "      <td>sAGR^1 x sCON^1</td>\n",
       "    </tr>\n",
       "    <tr>\n",
       "      <th>20</th>\n",
       "      <td>0</td>\n",
       "      <td>sAGR^1 x sOPN^1</td>\n",
       "    </tr>\n",
       "    <tr>\n",
       "      <th>21</th>\n",
       "      <td>-0.897459</td>\n",
       "      <td>sAGR^1 x NETWORKSIZE^1</td>\n",
       "    </tr>\n",
       "    <tr>\n",
       "      <th>22</th>\n",
       "      <td>0</td>\n",
       "      <td>sCON^2</td>\n",
       "    </tr>\n",
       "    <tr>\n",
       "      <th>23</th>\n",
       "      <td>0</td>\n",
       "      <td>sCON^1 x sOPN^1</td>\n",
       "    </tr>\n",
       "    <tr>\n",
       "      <th>24</th>\n",
       "      <td>-0.859546</td>\n",
       "      <td>sCON^1 x NETWORKSIZE^1</td>\n",
       "    </tr>\n",
       "    <tr>\n",
       "      <th>25</th>\n",
       "      <td>0</td>\n",
       "      <td>sOPN^2</td>\n",
       "    </tr>\n",
       "    <tr>\n",
       "      <th>26</th>\n",
       "      <td>0.699387</td>\n",
       "      <td>sOPN^1 x NETWORKSIZE^1</td>\n",
       "    </tr>\n",
       "    <tr>\n",
       "      <th>27</th>\n",
       "      <td>0.49827</td>\n",
       "      <td>NETWORKSIZE^2</td>\n",
       "    </tr>\n",
       "  </tbody>\n",
       "</table>\n",
       "</div>"
      ],
      "text/plain": [
       "   Coeff. Estimate             Coeff. Name\n",
       "0                0           Constant Term\n",
       "1                0                  sEXT^1\n",
       "2               -0                  sNEU^1\n",
       "3                0                  sAGR^1\n",
       "4                0                  sCON^1\n",
       "5                0                  sOPN^1\n",
       "6         -4.84297           NETWORKSIZE^1\n",
       "7                0                  sEXT^2\n",
       "8                0         sEXT^1 x sNEU^1\n",
       "9                0         sEXT^1 x sAGR^1\n",
       "10               0         sEXT^1 x sCON^1\n",
       "11               0         sEXT^1 x sOPN^1\n",
       "12       -0.103446  sEXT^1 x NETWORKSIZE^1\n",
       "13              -0                  sNEU^2\n",
       "14               0         sNEU^1 x sAGR^1\n",
       "15               0         sNEU^1 x sCON^1\n",
       "16              -0         sNEU^1 x sOPN^1\n",
       "17       -0.105269  sNEU^1 x NETWORKSIZE^1\n",
       "18               0                  sAGR^2\n",
       "19               0         sAGR^1 x sCON^1\n",
       "20               0         sAGR^1 x sOPN^1\n",
       "21       -0.897459  sAGR^1 x NETWORKSIZE^1\n",
       "22               0                  sCON^2\n",
       "23               0         sCON^1 x sOPN^1\n",
       "24       -0.859546  sCON^1 x NETWORKSIZE^1\n",
       "25               0                  sOPN^2\n",
       "26        0.699387  sOPN^1 x NETWORKSIZE^1\n",
       "27         0.49827           NETWORKSIZE^2"
      ]
     },
     "execution_count": 53,
     "metadata": {},
     "output_type": "execute_result"
    }
   ],
   "source": [
    "#best_lambda =  0.32  #nbetweenness alpha\n",
    "best_lambda =  10990.74  #betweenness alpha\n",
    "model_final = Lasso(best_lambda)\n",
    "lasso_results = model_final.fit(X_big5_and_network_polyexpanded,y_betweenness)\n",
    "\n",
    "# for i,j in zip(lasso_results.coef_,X_big5_and_network_polyexpanded.columns):    #loop over results\n",
    "#     print (\"Lasso:\", i,\"Coefficient\",j)\n",
    "    \n",
    "lasso_results_df = pd.DataFrame([lasso_results.coef_,X_big5_and_network_polyexpanded.columns]).T\n",
    "lasso_results_df.columns = [\"Coeff. Estimate\",\"Coeff. Name\"]\n",
    "lasso_results_df"
   ]
  },
  {
   "cell_type": "code",
   "execution_count": 54,
   "metadata": {
    "collapsed": false
   },
   "outputs": [
    {
     "name": "stdout",
     "output_type": "stream",
     "text": [
      "Constant Term\n",
      "sEXT^1\n",
      "sNEU^1\n",
      "sAGR^1\n",
      "sCON^1\n",
      "sOPN^1\n",
      "NETWORKSIZE^1\n",
      "sEXT^2\n",
      "sEXT^1 x sNEU^1\n",
      "sEXT^1 x sAGR^1\n",
      "sEXT^1 x sCON^1\n",
      "sEXT^1 x sOPN^1\n",
      "sEXT^1 x NETWORKSIZE^1\n",
      "sNEU^2\n",
      "sNEU^1 x sAGR^1\n",
      "sNEU^1 x sCON^1\n",
      "sNEU^1 x sOPN^1\n",
      "sNEU^1 x NETWORKSIZE^1\n",
      "sAGR^2\n",
      "sAGR^1 x sCON^1\n",
      "sAGR^1 x sOPN^1\n",
      "sAGR^1 x NETWORKSIZE^1\n",
      "sCON^2\n",
      "sCON^1 x sOPN^1\n",
      "sCON^1 x NETWORKSIZE^1\n",
      "sOPN^2\n",
      "sOPN^1 x NETWORKSIZE^1\n",
      "NETWORKSIZE^2\n"
     ]
    }
   ],
   "source": [
    "for x in list(lasso_results_df[\"Coeff. Name\"]):\n",
    "    print x"
   ]
  },
  {
   "cell_type": "code",
   "execution_count": 55,
   "metadata": {
    "collapsed": false
   },
   "outputs": [
    {
     "data": {
      "text/html": [
       "<div>\n",
       "<table border=\"1\" class=\"dataframe\">\n",
       "  <thead>\n",
       "    <tr style=\"text-align: right;\">\n",
       "      <th></th>\n",
       "      <th>Coeff. Estimate</th>\n",
       "      <th>Coeff. Name</th>\n",
       "    </tr>\n",
       "  </thead>\n",
       "  <tbody>\n",
       "    <tr>\n",
       "      <th>6</th>\n",
       "      <td>-4.84297</td>\n",
       "      <td>NETWORKSIZE^1</td>\n",
       "    </tr>\n",
       "    <tr>\n",
       "      <th>12</th>\n",
       "      <td>-0.103446</td>\n",
       "      <td>sEXT^1 x NETWORKSIZE^1</td>\n",
       "    </tr>\n",
       "    <tr>\n",
       "      <th>17</th>\n",
       "      <td>-0.105269</td>\n",
       "      <td>sNEU^1 x NETWORKSIZE^1</td>\n",
       "    </tr>\n",
       "    <tr>\n",
       "      <th>21</th>\n",
       "      <td>-0.897459</td>\n",
       "      <td>sAGR^1 x NETWORKSIZE^1</td>\n",
       "    </tr>\n",
       "    <tr>\n",
       "      <th>24</th>\n",
       "      <td>-0.859546</td>\n",
       "      <td>sCON^1 x NETWORKSIZE^1</td>\n",
       "    </tr>\n",
       "    <tr>\n",
       "      <th>26</th>\n",
       "      <td>0.699387</td>\n",
       "      <td>sOPN^1 x NETWORKSIZE^1</td>\n",
       "    </tr>\n",
       "    <tr>\n",
       "      <th>27</th>\n",
       "      <td>0.49827</td>\n",
       "      <td>NETWORKSIZE^2</td>\n",
       "    </tr>\n",
       "  </tbody>\n",
       "</table>\n",
       "</div>"
      ],
      "text/plain": [
       "   Coeff. Estimate             Coeff. Name\n",
       "6         -4.84297           NETWORKSIZE^1\n",
       "12       -0.103446  sEXT^1 x NETWORKSIZE^1\n",
       "17       -0.105269  sNEU^1 x NETWORKSIZE^1\n",
       "21       -0.897459  sAGR^1 x NETWORKSIZE^1\n",
       "24       -0.859546  sCON^1 x NETWORKSIZE^1\n",
       "26        0.699387  sOPN^1 x NETWORKSIZE^1\n",
       "27         0.49827           NETWORKSIZE^2"
      ]
     },
     "execution_count": 55,
     "metadata": {},
     "output_type": "execute_result"
    }
   ],
   "source": [
    "lasso_significant_features = lasso_results_df[abs(lasso_results_df[\"Coeff. Estimate\"]) > 0.00]\n",
    "lasso_significant_features"
   ]
  },
  {
   "cell_type": "markdown",
   "metadata": {},
   "source": [
    "# Now I'm going to re-run a regression using only the variables which Lasso said I should include..."
   ]
  },
  {
   "cell_type": "markdown",
   "metadata": {},
   "source": [
    "## Develop the X matrix"
   ]
  },
  {
   "cell_type": "code",
   "execution_count": 56,
   "metadata": {
    "collapsed": true
   },
   "outputs": [],
   "source": [
    "X_lasso_distilled = X_big5_and_network_polyexpanded[list(lasso_significant_features[\"Coeff. Name\"])]"
   ]
  },
  {
   "cell_type": "code",
   "execution_count": 57,
   "metadata": {
    "collapsed": false
   },
   "outputs": [
    {
     "data": {
      "text/html": [
       "<div>\n",
       "<table border=\"1\" class=\"dataframe\">\n",
       "  <thead>\n",
       "    <tr style=\"text-align: right;\">\n",
       "      <th></th>\n",
       "      <th>NETWORKSIZE^1</th>\n",
       "      <th>sEXT^1 x NETWORKSIZE^1</th>\n",
       "      <th>sNEU^1 x NETWORKSIZE^1</th>\n",
       "      <th>sAGR^1 x NETWORKSIZE^1</th>\n",
       "      <th>sCON^1 x NETWORKSIZE^1</th>\n",
       "      <th>sOPN^1 x NETWORKSIZE^1</th>\n",
       "      <th>NETWORKSIZE^2</th>\n",
       "    </tr>\n",
       "  </thead>\n",
       "  <tbody>\n",
       "    <tr>\n",
       "      <th>0</th>\n",
       "      <td>141.0</td>\n",
       "      <td>267.90</td>\n",
       "      <td>585.15</td>\n",
       "      <td>444.15</td>\n",
       "      <td>655.65</td>\n",
       "      <td>486.45</td>\n",
       "      <td>19881.0</td>\n",
       "    </tr>\n",
       "    <tr>\n",
       "      <th>1</th>\n",
       "      <td>134.0</td>\n",
       "      <td>274.70</td>\n",
       "      <td>536.00</td>\n",
       "      <td>294.80</td>\n",
       "      <td>294.80</td>\n",
       "      <td>502.50</td>\n",
       "      <td>17956.0</td>\n",
       "    </tr>\n",
       "    <tr>\n",
       "      <th>2</th>\n",
       "      <td>584.0</td>\n",
       "      <td>2242.56</td>\n",
       "      <td>2073.20</td>\n",
       "      <td>1664.40</td>\n",
       "      <td>2522.88</td>\n",
       "      <td>2014.80</td>\n",
       "      <td>341056.0</td>\n",
       "    </tr>\n",
       "    <tr>\n",
       "      <th>3</th>\n",
       "      <td>222.0</td>\n",
       "      <td>710.40</td>\n",
       "      <td>799.20</td>\n",
       "      <td>854.70</td>\n",
       "      <td>965.70</td>\n",
       "      <td>1065.60</td>\n",
       "      <td>49284.0</td>\n",
       "    </tr>\n",
       "    <tr>\n",
       "      <th>4</th>\n",
       "      <td>194.0</td>\n",
       "      <td>552.90</td>\n",
       "      <td>455.90</td>\n",
       "      <td>649.90</td>\n",
       "      <td>911.80</td>\n",
       "      <td>649.90</td>\n",
       "      <td>37636.0</td>\n",
       "    </tr>\n",
       "  </tbody>\n",
       "</table>\n",
       "</div>"
      ],
      "text/plain": [
       "   NETWORKSIZE^1  sEXT^1 x NETWORKSIZE^1  sNEU^1 x NETWORKSIZE^1  \\\n",
       "0          141.0                  267.90                  585.15   \n",
       "1          134.0                  274.70                  536.00   \n",
       "2          584.0                 2242.56                 2073.20   \n",
       "3          222.0                  710.40                  799.20   \n",
       "4          194.0                  552.90                  455.90   \n",
       "\n",
       "   sAGR^1 x NETWORKSIZE^1  sCON^1 x NETWORKSIZE^1  sOPN^1 x NETWORKSIZE^1  \\\n",
       "0                  444.15                  655.65                  486.45   \n",
       "1                  294.80                  294.80                  502.50   \n",
       "2                 1664.40                 2522.88                 2014.80   \n",
       "3                  854.70                  965.70                 1065.60   \n",
       "4                  649.90                  911.80                  649.90   \n",
       "\n",
       "   NETWORKSIZE^2  \n",
       "0        19881.0  \n",
       "1        17956.0  \n",
       "2       341056.0  \n",
       "3        49284.0  \n",
       "4        37636.0  "
      ]
     },
     "execution_count": 57,
     "metadata": {},
     "output_type": "execute_result"
    }
   ],
   "source": [
    "X_lasso_distilled.head()"
   ]
  },
  {
   "cell_type": "code",
   "execution_count": 58,
   "metadata": {
    "collapsed": false
   },
   "outputs": [
    {
     "data": {
      "text/html": [
       "<div>\n",
       "<table border=\"1\" class=\"dataframe\">\n",
       "  <thead>\n",
       "    <tr style=\"text-align: right;\">\n",
       "      <th></th>\n",
       "      <th>Constant Term</th>\n",
       "      <th>sEXT^1</th>\n",
       "      <th>sNEU^1</th>\n",
       "      <th>sAGR^1</th>\n",
       "      <th>sCON^1</th>\n",
       "      <th>sOPN^1</th>\n",
       "    </tr>\n",
       "  </thead>\n",
       "  <tbody>\n",
       "    <tr>\n",
       "      <th>0</th>\n",
       "      <td>1.0</td>\n",
       "      <td>1.90</td>\n",
       "      <td>4.15</td>\n",
       "      <td>3.15</td>\n",
       "      <td>4.65</td>\n",
       "      <td>3.45</td>\n",
       "    </tr>\n",
       "    <tr>\n",
       "      <th>1</th>\n",
       "      <td>1.0</td>\n",
       "      <td>2.05</td>\n",
       "      <td>4.00</td>\n",
       "      <td>2.20</td>\n",
       "      <td>2.20</td>\n",
       "      <td>3.75</td>\n",
       "    </tr>\n",
       "    <tr>\n",
       "      <th>2</th>\n",
       "      <td>1.0</td>\n",
       "      <td>3.84</td>\n",
       "      <td>3.55</td>\n",
       "      <td>2.85</td>\n",
       "      <td>4.32</td>\n",
       "      <td>3.45</td>\n",
       "    </tr>\n",
       "    <tr>\n",
       "      <th>3</th>\n",
       "      <td>1.0</td>\n",
       "      <td>3.20</td>\n",
       "      <td>3.60</td>\n",
       "      <td>3.85</td>\n",
       "      <td>4.35</td>\n",
       "      <td>4.80</td>\n",
       "    </tr>\n",
       "    <tr>\n",
       "      <th>4</th>\n",
       "      <td>1.0</td>\n",
       "      <td>2.85</td>\n",
       "      <td>2.35</td>\n",
       "      <td>3.35</td>\n",
       "      <td>4.70</td>\n",
       "      <td>3.35</td>\n",
       "    </tr>\n",
       "  </tbody>\n",
       "</table>\n",
       "</div>"
      ],
      "text/plain": [
       "   Constant Term  sEXT^1  sNEU^1  sAGR^1  sCON^1  sOPN^1\n",
       "0            1.0    1.90    4.15    3.15    4.65    3.45\n",
       "1            1.0    2.05    4.00    2.20    2.20    3.75\n",
       "2            1.0    3.84    3.55    2.85    4.32    3.45\n",
       "3            1.0    3.20    3.60    3.85    4.35    4.80\n",
       "4            1.0    2.85    2.35    3.35    4.70    3.35"
      ]
     },
     "execution_count": 58,
     "metadata": {},
     "output_type": "execute_result"
    }
   ],
   "source": [
    " X_big5.head()"
   ]
  },
  {
   "cell_type": "code",
   "execution_count": 59,
   "metadata": {
    "collapsed": false
   },
   "outputs": [
    {
     "data": {
      "text/html": [
       "<div>\n",
       "<table border=\"1\" class=\"dataframe\">\n",
       "  <thead>\n",
       "    <tr style=\"text-align: right;\">\n",
       "      <th></th>\n",
       "      <th>Constant Term</th>\n",
       "      <th>sEXT^1</th>\n",
       "      <th>sNEU^1</th>\n",
       "      <th>sAGR^1</th>\n",
       "      <th>sCON^1</th>\n",
       "      <th>sOPN^1</th>\n",
       "      <th>NETWORKSIZE^1</th>\n",
       "      <th>sEXT^1 x NETWORKSIZE^1</th>\n",
       "      <th>sNEU^1 x NETWORKSIZE^1</th>\n",
       "      <th>sAGR^1 x NETWORKSIZE^1</th>\n",
       "      <th>sCON^1 x NETWORKSIZE^1</th>\n",
       "      <th>sOPN^1 x NETWORKSIZE^1</th>\n",
       "      <th>NETWORKSIZE^2</th>\n",
       "    </tr>\n",
       "  </thead>\n",
       "  <tbody>\n",
       "    <tr>\n",
       "      <th>0</th>\n",
       "      <td>1.0</td>\n",
       "      <td>1.90</td>\n",
       "      <td>4.15</td>\n",
       "      <td>3.15</td>\n",
       "      <td>4.65</td>\n",
       "      <td>3.45</td>\n",
       "      <td>141.0</td>\n",
       "      <td>267.90</td>\n",
       "      <td>585.15</td>\n",
       "      <td>444.15</td>\n",
       "      <td>655.65</td>\n",
       "      <td>486.45</td>\n",
       "      <td>19881.0</td>\n",
       "    </tr>\n",
       "    <tr>\n",
       "      <th>1</th>\n",
       "      <td>1.0</td>\n",
       "      <td>2.05</td>\n",
       "      <td>4.00</td>\n",
       "      <td>2.20</td>\n",
       "      <td>2.20</td>\n",
       "      <td>3.75</td>\n",
       "      <td>134.0</td>\n",
       "      <td>274.70</td>\n",
       "      <td>536.00</td>\n",
       "      <td>294.80</td>\n",
       "      <td>294.80</td>\n",
       "      <td>502.50</td>\n",
       "      <td>17956.0</td>\n",
       "    </tr>\n",
       "    <tr>\n",
       "      <th>2</th>\n",
       "      <td>1.0</td>\n",
       "      <td>3.84</td>\n",
       "      <td>3.55</td>\n",
       "      <td>2.85</td>\n",
       "      <td>4.32</td>\n",
       "      <td>3.45</td>\n",
       "      <td>584.0</td>\n",
       "      <td>2242.56</td>\n",
       "      <td>2073.20</td>\n",
       "      <td>1664.40</td>\n",
       "      <td>2522.88</td>\n",
       "      <td>2014.80</td>\n",
       "      <td>341056.0</td>\n",
       "    </tr>\n",
       "    <tr>\n",
       "      <th>3</th>\n",
       "      <td>1.0</td>\n",
       "      <td>3.20</td>\n",
       "      <td>3.60</td>\n",
       "      <td>3.85</td>\n",
       "      <td>4.35</td>\n",
       "      <td>4.80</td>\n",
       "      <td>222.0</td>\n",
       "      <td>710.40</td>\n",
       "      <td>799.20</td>\n",
       "      <td>854.70</td>\n",
       "      <td>965.70</td>\n",
       "      <td>1065.60</td>\n",
       "      <td>49284.0</td>\n",
       "    </tr>\n",
       "    <tr>\n",
       "      <th>4</th>\n",
       "      <td>1.0</td>\n",
       "      <td>2.85</td>\n",
       "      <td>2.35</td>\n",
       "      <td>3.35</td>\n",
       "      <td>4.70</td>\n",
       "      <td>3.35</td>\n",
       "      <td>194.0</td>\n",
       "      <td>552.90</td>\n",
       "      <td>455.90</td>\n",
       "      <td>649.90</td>\n",
       "      <td>911.80</td>\n",
       "      <td>649.90</td>\n",
       "      <td>37636.0</td>\n",
       "    </tr>\n",
       "  </tbody>\n",
       "</table>\n",
       "</div>"
      ],
      "text/plain": [
       "   Constant Term  sEXT^1  sNEU^1  sAGR^1  sCON^1  sOPN^1  NETWORKSIZE^1  \\\n",
       "0            1.0    1.90    4.15    3.15    4.65    3.45          141.0   \n",
       "1            1.0    2.05    4.00    2.20    2.20    3.75          134.0   \n",
       "2            1.0    3.84    3.55    2.85    4.32    3.45          584.0   \n",
       "3            1.0    3.20    3.60    3.85    4.35    4.80          222.0   \n",
       "4            1.0    2.85    2.35    3.35    4.70    3.35          194.0   \n",
       "\n",
       "   sEXT^1 x NETWORKSIZE^1  sNEU^1 x NETWORKSIZE^1  sAGR^1 x NETWORKSIZE^1  \\\n",
       "0                  267.90                  585.15                  444.15   \n",
       "1                  274.70                  536.00                  294.80   \n",
       "2                 2242.56                 2073.20                 1664.40   \n",
       "3                  710.40                  799.20                  854.70   \n",
       "4                  552.90                  455.90                  649.90   \n",
       "\n",
       "   sCON^1 x NETWORKSIZE^1  sOPN^1 x NETWORKSIZE^1  NETWORKSIZE^2  \n",
       "0                  655.65                  486.45        19881.0  \n",
       "1                  294.80                  502.50        17956.0  \n",
       "2                 2522.88                 2014.80       341056.0  \n",
       "3                  965.70                 1065.60        49284.0  \n",
       "4                  911.80                  649.90        37636.0  "
      ]
     },
     "execution_count": 59,
     "metadata": {},
     "output_type": "execute_result"
    }
   ],
   "source": [
    "X_lasso_and_big5 = pd.concat([X_big5, X_lasso_distilled], axis=1, join='inner')\n",
    "X_lasso_and_big5.head()"
   ]
  },
  {
   "cell_type": "markdown",
   "metadata": {
    "collapsed": true
   },
   "source": [
    "Create function which converts model resutls into dataframe"
   ]
  },
  {
   "cell_type": "code",
   "execution_count": 60,
   "metadata": {
    "collapsed": false
   },
   "outputs": [
    {
     "name": "stdout",
     "output_type": "stream",
     "text": [
      "                            OLS Regression Results                            \n",
      "==============================================================================\n",
      "Dep. Variable:            BETWEENNESS   R-squared:                       0.886\n",
      "Model:                            OLS   Adj. R-squared:                  0.885\n",
      "Method:                 Least Squares   F-statistic:                     1343.\n",
      "Date:                Mon, 13 Feb 2017   Prob (F-statistic):           1.90e-83\n",
      "Time:                        13:29:48   Log-Likelihood:                -2192.6\n",
      "No. Observations:                 175   AIC:                             4389.\n",
      "Df Residuals:                     173   BIC:                             4395.\n",
      "Df Model:                           1                                         \n",
      "Covariance Type:            nonrobust                                         \n",
      "=================================================================================\n",
      "                    coef    std err          t      P>|t|      [95.0% Conf. Int.]\n",
      "---------------------------------------------------------------------------------\n",
      "Constant Term  -1.22e+05   8318.106    -14.665      0.000     -1.38e+05 -1.06e+05\n",
      "NETWORKSIZE^1   613.9074     16.754     36.642      0.000       580.838   646.977\n",
      "==============================================================================\n",
      "Omnibus:                       90.602   Durbin-Watson:                   1.944\n",
      "Prob(Omnibus):                  0.000   Jarque-Bera (JB):              477.367\n",
      "Skew:                           1.914   Prob(JB):                    2.19e-104\n",
      "Kurtosis:                      10.128   Cond. No.                         813.\n",
      "==============================================================================\n",
      "\n",
      "Warnings:\n",
      "[1] Standard Errors assume that the covariance matrix of the errors is correctly specified.\n"
     ]
    }
   ],
   "source": [
    "X_train, X_test, y_train, y_test = cross_validation.train_test_split(X_network, y_betweenness, test_size=0.3, random_state=0)\n",
    "model = sm.OLS(y_train,X_train)\n",
    "dictionary_of_model_general_performance_metrics[\"X_lasso_distilled\"] = model_to_dictionary(model,X_test,y_test)\n",
    "results = model.fit()\n",
    "print results.summary()"
   ]
  },
  {
   "cell_type": "code",
   "execution_count": 61,
   "metadata": {
    "collapsed": false
   },
   "outputs": [
    {
     "name": "stdout",
     "output_type": "stream",
     "text": [
      "                            OLS Regression Results                            \n",
      "==============================================================================\n",
      "Dep. Variable:            BETWEENNESS   R-squared:                       1.000\n",
      "Model:                            OLS   Adj. R-squared:                  1.000\n",
      "Method:                 Least Squares   F-statistic:                 6.629e+04\n",
      "Date:                Mon, 13 Feb 2017   Prob (F-statistic):          3.56e-292\n",
      "Time:                        13:29:48   Log-Likelihood:                -1638.8\n",
      "No. Observations:                 175   AIC:                             3304.\n",
      "Df Residuals:                     162   BIC:                             3345.\n",
      "Df Model:                          12                                         \n",
      "Covariance Type:            nonrobust                                         \n",
      "==========================================================================================\n",
      "                             coef    std err          t      P>|t|      [95.0% Conf. Int.]\n",
      "------------------------------------------------------------------------------------------\n",
      "Constant Term           1389.8891   4952.622      0.281      0.779     -8390.132  1.12e+04\n",
      "sEXT^1                  -723.6418    542.016     -1.335      0.184     -1793.970   346.686\n",
      "sNEU^1                  -371.5730    582.502     -0.638      0.524     -1521.849   778.703\n",
      "sAGR^1                   826.1710    667.193      1.238      0.217      -491.345  2143.687\n",
      "sCON^1                  1098.9569    533.857      2.059      0.041        44.740  2153.173\n",
      "sOPN^1                 -1138.8219    732.277     -1.555      0.122     -2584.862   307.218\n",
      "NETWORKSIZE^1            -18.2611     10.614     -1.720      0.087       -39.220     2.698\n",
      "sEXT^1 x NETWORKSIZE^1     2.7140      1.156      2.348      0.020         0.431     4.997\n",
      "sNEU^1 x NETWORKSIZE^1     1.4514      1.276      1.137      0.257        -1.069     3.972\n",
      "sAGR^1 x NETWORKSIZE^1    -2.4186      1.357     -1.782      0.077        -5.099     0.261\n",
      "sCON^1 x NETWORKSIZE^1    -3.4249      1.173     -2.919      0.004        -5.742    -1.108\n",
      "sOPN^1 x NETWORKSIZE^1     4.1071      1.457      2.819      0.005         1.230     6.984\n",
      "NETWORKSIZE^2              0.4985      0.002    263.601      0.000         0.495     0.502\n",
      "==============================================================================\n",
      "Omnibus:                      150.801   Durbin-Watson:                   1.813\n",
      "Prob(Omnibus):                  0.000   Jarque-Bera (JB):             2944.173\n",
      "Skew:                          -3.023   Prob(JB):                         0.00\n",
      "Kurtosis:                      22.163   Cond. No.                     1.06e+07\n",
      "==============================================================================\n",
      "\n",
      "Warnings:\n",
      "[1] Standard Errors assume that the covariance matrix of the errors is correctly specified.\n",
      "[2] The condition number is large, 1.06e+07. This might indicate that there are\n",
      "strong multicollinearity or other numerical problems.\n"
     ]
    }
   ],
   "source": [
    "X_train, X_test, y_train, y_test = cross_validation.train_test_split(X_lasso_and_big5, y_betweenness, test_size=0.3, random_state=0)\n",
    "model = sm.OLS(y_train,X_train)\n",
    "dictionary_of_model_general_performance_metrics[\"X_lasso_distilled\"] = model_to_dictionary(model,X_test,y_test)\n",
    "results = model.fit()\n",
    "print results.summary()"
   ]
  },
  {
   "cell_type": "code",
   "execution_count": 62,
   "metadata": {
    "collapsed": false
   },
   "outputs": [
    {
     "data": {
      "text/plain": [
       "array([[  1.06191612e+07,   8.06026105e+04,  -3.05888116e+05,\n",
       "         -5.63003439e+05,  -7.23448576e+05,  -1.37683987e+06,\n",
       "         -2.62196332e+04,  -4.82475165e+02,   4.06435142e+02,\n",
       "          1.81594187e+03,   1.89393183e+03,   3.59456339e+03,\n",
       "         -1.13962247e+00],\n",
       "       [  8.06026105e+04,   1.90076469e+05,   1.32723378e+05,\n",
       "         -1.20126541e+05,  -9.82900815e+04,  -6.27005219e+04,\n",
       "         -5.43617499e+02,  -5.22441057e+02,  -3.51161775e+02,\n",
       "          3.83006481e+02,   3.47189382e+02,   1.13000133e+02,\n",
       "          1.61884544e-01],\n",
       "       [ -3.05888116e+05,   1.32723378e+05,   3.03237032e+05,\n",
       "         -6.58433415e+02,  -1.74121336e+05,  -7.63533476e+04,\n",
       "          1.74339986e+02,  -3.22598280e+02,  -8.68578291e+02,\n",
       "          6.48290087e+01,   6.58979964e+02,   8.76404292e+01,\n",
       "          3.95728921e-01],\n",
       "       [ -5.63003439e+05,  -1.20126541e+05,  -6.58433415e+02,\n",
       "          3.55027572e+05,  -4.78931869e+04,  -1.83526078e+04,\n",
       "          1.54641211e+03,   3.66786893e+02,  -2.23162287e+01,\n",
       "         -9.99314240e+02,   9.98602844e+01,   1.66561482e+01,\n",
       "          5.70490824e-01],\n",
       "       [ -7.23448576e+05,  -9.82900815e+04,  -1.74121336e+05,\n",
       "         -4.78931869e+04,   3.86828428e+05,   7.69480769e+04,\n",
       "          1.75189037e+03,   2.94893689e+02,   6.29691960e+02,\n",
       "          4.01982403e+01,  -1.17138628e+03,  -7.06927234e+01,\n",
       "         -2.70024708e-01],\n",
       "       [ -1.37683987e+06,  -6.27005219e+04,  -7.63533476e+04,\n",
       "         -1.83526078e+04,   7.69480769e+04,   3.82430827e+05,\n",
       "          3.79949487e+03,   1.73409902e+02,   2.24493356e+02,\n",
       "          2.42538692e+00,  -2.45315546e+02,  -9.74930296e+02,\n",
       "         -2.02621653e-01],\n",
       "       [ -2.62196332e+04,  -5.43617499e+02,   1.74339986e+02,\n",
       "          1.54641211e+03,   1.75189037e+03,   3.79949487e+03,\n",
       "          8.81126530e+01,   8.75900816e-01,  -8.83651513e-01,\n",
       "         -5.63401585e+00,  -6.17334432e+00,  -1.08650484e+01,\n",
       "         -1.07857073e-03],\n",
       "       [ -4.82475165e+02,  -5.22441057e+02,  -3.22598280e+02,\n",
       "          3.66786893e+02,   2.94893689e+02,   1.73409902e+02,\n",
       "          8.75900816e-01,   1.71398769e+00,   9.30080811e-01,\n",
       "         -1.17358015e+00,  -9.86428613e-01,  -3.37703145e-01,\n",
       "         -1.99787203e-04],\n",
       "       [  4.06435142e+02,  -3.51161775e+02,  -8.68578291e+02,\n",
       "         -2.23162287e+01,   6.29691960e+02,   2.24493356e+02,\n",
       "         -8.83651513e-01,   9.30080811e-01,   2.81518290e+00,\n",
       "         -1.21865996e-01,  -2.21644650e+00,  -1.92204986e-01,\n",
       "         -1.06923186e-03],\n",
       "       [  1.81594187e+03,   3.83006481e+02,   6.48290087e+01,\n",
       "         -9.99314240e+02,   4.01982403e+01,   2.42538692e+00,\n",
       "         -5.63401585e+00,  -1.17358015e+00,  -1.21865996e-01,\n",
       "          3.14226040e+00,   2.95616436e-02,  -6.89498767e-02,\n",
       "         -1.59069526e-03],\n",
       "       [  1.89393183e+03,   3.47189382e+02,   6.58979964e+02,\n",
       "          9.98602844e+01,  -1.17138628e+03,  -2.45315546e+02,\n",
       "         -6.17334432e+00,  -9.86428613e-01,  -2.21644650e+00,\n",
       "          2.95616436e-02,   3.97827448e+00,   1.16107462e-01,\n",
       "          1.13180291e-03],\n",
       "       [  3.59456339e+03,   1.13000133e+02,   8.76404292e+01,\n",
       "          1.66561482e+01,  -7.06927234e+01,  -9.74930296e+02,\n",
       "         -1.08650484e+01,  -3.37703145e-01,  -1.92204986e-01,\n",
       "         -6.89498767e-02,   1.16107462e-01,   2.98350289e+00,\n",
       "          2.92588742e-04],\n",
       "       [ -1.13962247e+00,   1.61884544e-01,   3.95728921e-01,\n",
       "          5.70490824e-01,  -2.70024708e-01,  -2.02621653e-01,\n",
       "         -1.07857073e-03,  -1.99787203e-04,  -1.06923186e-03,\n",
       "         -1.59069526e-03,   1.13180291e-03,   2.92588742e-04,\n",
       "          5.69690002e-06]])"
      ]
     },
     "execution_count": 62,
     "metadata": {},
     "output_type": "execute_result"
    }
   ],
   "source": [
    "variance_covariance_matrix = results.cov_HC0\n",
    "variance_covariance_matrix.shape\n",
    "variance_covariance_matrix"
   ]
  },
  {
   "cell_type": "markdown",
   "metadata": {},
   "source": [
    "## Here I evaluate my lasso_model against some test data!"
   ]
  },
  {
   "cell_type": "code",
   "execution_count": 63,
   "metadata": {
    "collapsed": false
   },
   "outputs": [
    {
     "name": "stdout",
     "output_type": "stream",
     "text": [
      "test_ssr: 685312690.778\n",
      "test_sst: 3.54139902002e+12\n",
      "test_rsq: 0.999806485322\n",
      "X_lasso_distilled_test_ssr: 685312690.778\n",
      "X_lasso_distilled_test_RSqAdj_zhanna: 0.999765244489\n",
      "X_lasso_distilled_test_RSqAdj_jeremy: 0.999765244489\n"
     ]
    }
   ],
   "source": [
    "y_hat = results.predict(X_test)\n",
    "X_lasso_distilled_test_ssr = sum((y_hat - y_test)**2)\n",
    "\n",
    "# This is Jeremy's formula\n",
    "X_lasso_distilled_test_RSqAdj_jeremy = 1 - ((sum((y_test-y_hat)**2.0)/(len(X_test) - len(results.params) - 1))\n",
    "            /(sum((y_test - np.mean(y_test))**2.0)/(len(X_test) - 1)))\n",
    "\n",
    "# This is my formula from here: http://onlinestatbook.com/2/effect_size/images/adjusted_rsquared.gif\n",
    "n = len(X_test)\n",
    "p = len(results.params)\n",
    "test_ssr =  X_lasso_distilled_test_ssr\n",
    "test_sst =  sum((y_test - np.mean(y_test))**2.0)\n",
    "\n",
    "print \"test_ssr:\", test_ssr\n",
    "print \"test_sst:\", test_sst\n",
    "\n",
    "\n",
    "test_rsq = 1 - (test_ssr/test_sst)\n",
    "print \"test_rsq:\", test_rsq\n",
    "test_rsq_adj = 1 - (((1 - test_rsq) * (n-1)) / (n-p-1))\n",
    "X_lasso_distilled_test_RSqAdj_zhanna = test_rsq_adj\n",
    "    \n",
    "print \"X_lasso_distilled_test_ssr:\", X_lasso_distilled_test_ssr\n",
    "print \"X_lasso_distilled_test_RSqAdj_zhanna:\", X_lasso_distilled_test_RSqAdj_zhanna\n",
    "print \"X_lasso_distilled_test_RSqAdj_jeremy:\", X_lasso_distilled_test_RSqAdj_jeremy"
   ]
  },
  {
   "cell_type": "code",
   "execution_count": 64,
   "metadata": {
    "collapsed": true
   },
   "outputs": [],
   "source": [
    "# Clearly my R squared could be either really good or really bad...\n",
    "# IT could be because my sample set is so small..."
   ]
  },
  {
   "cell_type": "markdown",
   "metadata": {},
   "source": [
    "## Here I create a function to take the results summary table and turn it into a dataframe"
   ]
  },
  {
   "cell_type": "code",
   "execution_count": 65,
   "metadata": {
    "collapsed": false
   },
   "outputs": [
    {
     "data": {
      "text/html": [
       "<div>\n",
       "<table border=\"1\" class=\"dataframe\">\n",
       "  <thead>\n",
       "    <tr style=\"text-align: right;\">\n",
       "      <th></th>\n",
       "      <th>coeff</th>\n",
       "      <th>pvals</th>\n",
       "      <th>conf_lower</th>\n",
       "      <th>conf_higher</th>\n",
       "    </tr>\n",
       "  </thead>\n",
       "  <tbody>\n",
       "    <tr>\n",
       "      <th>Constant Term</th>\n",
       "      <td>1389.889121</td>\n",
       "      <td>7.793469e-01</td>\n",
       "      <td>-8390.132401</td>\n",
       "      <td>11169.910644</td>\n",
       "    </tr>\n",
       "    <tr>\n",
       "      <th>sEXT^1</th>\n",
       "      <td>-723.641758</td>\n",
       "      <td>1.837192e-01</td>\n",
       "      <td>-1793.969742</td>\n",
       "      <td>346.686226</td>\n",
       "    </tr>\n",
       "    <tr>\n",
       "      <th>sNEU^1</th>\n",
       "      <td>-371.573035</td>\n",
       "      <td>5.244451e-01</td>\n",
       "      <td>-1521.849269</td>\n",
       "      <td>778.703198</td>\n",
       "    </tr>\n",
       "    <tr>\n",
       "      <th>sAGR^1</th>\n",
       "      <td>826.170956</td>\n",
       "      <td>2.174041e-01</td>\n",
       "      <td>-491.345440</td>\n",
       "      <td>2143.687352</td>\n",
       "    </tr>\n",
       "    <tr>\n",
       "      <th>sCON^1</th>\n",
       "      <td>1098.956882</td>\n",
       "      <td>4.114154e-02</td>\n",
       "      <td>44.740406</td>\n",
       "      <td>2153.173359</td>\n",
       "    </tr>\n",
       "    <tr>\n",
       "      <th>sOPN^1</th>\n",
       "      <td>-1138.821905</td>\n",
       "      <td>1.218551e-01</td>\n",
       "      <td>-2584.861743</td>\n",
       "      <td>307.217933</td>\n",
       "    </tr>\n",
       "    <tr>\n",
       "      <th>NETWORKSIZE^1</th>\n",
       "      <td>-18.261081</td>\n",
       "      <td>8.725246e-02</td>\n",
       "      <td>-39.220462</td>\n",
       "      <td>2.698299</td>\n",
       "    </tr>\n",
       "    <tr>\n",
       "      <th>sEXT^1 x NETWORKSIZE^1</th>\n",
       "      <td>2.714042</td>\n",
       "      <td>2.010059e-02</td>\n",
       "      <td>0.431140</td>\n",
       "      <td>4.996944</td>\n",
       "    </tr>\n",
       "    <tr>\n",
       "      <th>sNEU^1 x NETWORKSIZE^1</th>\n",
       "      <td>1.451362</td>\n",
       "      <td>2.571321e-01</td>\n",
       "      <td>-1.068878</td>\n",
       "      <td>3.971602</td>\n",
       "    </tr>\n",
       "    <tr>\n",
       "      <th>sAGR^1 x NETWORKSIZE^1</th>\n",
       "      <td>-2.418555</td>\n",
       "      <td>7.661350e-02</td>\n",
       "      <td>-5.098584</td>\n",
       "      <td>0.261474</td>\n",
       "    </tr>\n",
       "    <tr>\n",
       "      <th>sCON^1 x NETWORKSIZE^1</th>\n",
       "      <td>-3.424899</td>\n",
       "      <td>4.010127e-03</td>\n",
       "      <td>-5.741764</td>\n",
       "      <td>-1.108035</td>\n",
       "    </tr>\n",
       "    <tr>\n",
       "      <th>sOPN^1 x NETWORKSIZE^1</th>\n",
       "      <td>4.107092</td>\n",
       "      <td>5.419605e-03</td>\n",
       "      <td>1.229994</td>\n",
       "      <td>6.984189</td>\n",
       "    </tr>\n",
       "    <tr>\n",
       "      <th>NETWORKSIZE^2</th>\n",
       "      <td>0.498535</td>\n",
       "      <td>3.107708e-215</td>\n",
       "      <td>0.494800</td>\n",
       "      <td>0.502270</td>\n",
       "    </tr>\n",
       "  </tbody>\n",
       "</table>\n",
       "</div>"
      ],
      "text/plain": [
       "                              coeff          pvals   conf_lower   conf_higher\n",
       "Constant Term           1389.889121   7.793469e-01 -8390.132401  11169.910644\n",
       "sEXT^1                  -723.641758   1.837192e-01 -1793.969742    346.686226\n",
       "sNEU^1                  -371.573035   5.244451e-01 -1521.849269    778.703198\n",
       "sAGR^1                   826.170956   2.174041e-01  -491.345440   2143.687352\n",
       "sCON^1                  1098.956882   4.114154e-02    44.740406   2153.173359\n",
       "sOPN^1                 -1138.821905   1.218551e-01 -2584.861743    307.217933\n",
       "NETWORKSIZE^1            -18.261081   8.725246e-02   -39.220462      2.698299\n",
       "sEXT^1 x NETWORKSIZE^1     2.714042   2.010059e-02     0.431140      4.996944\n",
       "sNEU^1 x NETWORKSIZE^1     1.451362   2.571321e-01    -1.068878      3.971602\n",
       "sAGR^1 x NETWORKSIZE^1    -2.418555   7.661350e-02    -5.098584      0.261474\n",
       "sCON^1 x NETWORKSIZE^1    -3.424899   4.010127e-03    -5.741764     -1.108035\n",
       "sOPN^1 x NETWORKSIZE^1     4.107092   5.419605e-03     1.229994      6.984189\n",
       "NETWORKSIZE^2              0.498535  3.107708e-215     0.494800      0.502270"
      ]
     },
     "execution_count": 65,
     "metadata": {},
     "output_type": "execute_result"
    }
   ],
   "source": [
    "peanuts = results_summary_to_dataframe(results)\n",
    "peanuts"
   ]
  },
  {
   "cell_type": "markdown",
   "metadata": {},
   "source": [
    "# Now if you filter for only those with a low p-value, and order by coefficient size..."
   ]
  },
  {
   "cell_type": "markdown",
   "metadata": {
    "collapsed": true
   },
   "source": [
    "Based on the results above, here are the significant coefficients:"
   ]
  },
  {
   "cell_type": "code",
   "execution_count": 66,
   "metadata": {
    "collapsed": false
   },
   "outputs": [
    {
     "name": "stderr",
     "output_type": "stream",
     "text": [
      "/anaconda/lib/python2.7/site-packages/ipykernel/__main__.py:1: FutureWarning:\n",
      "\n",
      "sort(columns=....) is deprecated, use sort_values(by=.....)\n",
      "\n"
     ]
    },
    {
     "data": {
      "text/html": [
       "<div>\n",
       "<table border=\"1\" class=\"dataframe\">\n",
       "  <thead>\n",
       "    <tr style=\"text-align: right;\">\n",
       "      <th></th>\n",
       "      <th>coeff</th>\n",
       "      <th>pvals</th>\n",
       "      <th>conf_lower</th>\n",
       "      <th>conf_higher</th>\n",
       "    </tr>\n",
       "  </thead>\n",
       "  <tbody>\n",
       "    <tr>\n",
       "      <th>sCON^1</th>\n",
       "      <td>1098.956882</td>\n",
       "      <td>4.114154e-02</td>\n",
       "      <td>44.740406</td>\n",
       "      <td>2153.173359</td>\n",
       "    </tr>\n",
       "    <tr>\n",
       "      <th>sOPN^1 x NETWORKSIZE^1</th>\n",
       "      <td>4.107092</td>\n",
       "      <td>5.419605e-03</td>\n",
       "      <td>1.229994</td>\n",
       "      <td>6.984189</td>\n",
       "    </tr>\n",
       "    <tr>\n",
       "      <th>sEXT^1 x NETWORKSIZE^1</th>\n",
       "      <td>2.714042</td>\n",
       "      <td>2.010059e-02</td>\n",
       "      <td>0.431140</td>\n",
       "      <td>4.996944</td>\n",
       "    </tr>\n",
       "    <tr>\n",
       "      <th>NETWORKSIZE^2</th>\n",
       "      <td>0.498535</td>\n",
       "      <td>3.107708e-215</td>\n",
       "      <td>0.494800</td>\n",
       "      <td>0.502270</td>\n",
       "    </tr>\n",
       "    <tr>\n",
       "      <th>sAGR^1 x NETWORKSIZE^1</th>\n",
       "      <td>-2.418555</td>\n",
       "      <td>7.661350e-02</td>\n",
       "      <td>-5.098584</td>\n",
       "      <td>0.261474</td>\n",
       "    </tr>\n",
       "    <tr>\n",
       "      <th>sCON^1 x NETWORKSIZE^1</th>\n",
       "      <td>-3.424899</td>\n",
       "      <td>4.010127e-03</td>\n",
       "      <td>-5.741764</td>\n",
       "      <td>-1.108035</td>\n",
       "    </tr>\n",
       "    <tr>\n",
       "      <th>NETWORKSIZE^1</th>\n",
       "      <td>-18.261081</td>\n",
       "      <td>8.725246e-02</td>\n",
       "      <td>-39.220462</td>\n",
       "      <td>2.698299</td>\n",
       "    </tr>\n",
       "  </tbody>\n",
       "</table>\n",
       "</div>"
      ],
      "text/plain": [
       "                              coeff          pvals  conf_lower  conf_higher\n",
       "sCON^1                  1098.956882   4.114154e-02   44.740406  2153.173359\n",
       "sOPN^1 x NETWORKSIZE^1     4.107092   5.419605e-03    1.229994     6.984189\n",
       "sEXT^1 x NETWORKSIZE^1     2.714042   2.010059e-02    0.431140     4.996944\n",
       "NETWORKSIZE^2              0.498535  3.107708e-215    0.494800     0.502270\n",
       "sAGR^1 x NETWORKSIZE^1    -2.418555   7.661350e-02   -5.098584     0.261474\n",
       "sCON^1 x NETWORKSIZE^1    -3.424899   4.010127e-03   -5.741764    -1.108035\n",
       "NETWORKSIZE^1            -18.261081   8.725246e-02  -39.220462     2.698299"
      ]
     },
     "execution_count": 66,
     "metadata": {},
     "output_type": "execute_result"
    }
   ],
   "source": [
    "peanuts[peanuts[\"pvals\"]<0.1].sort(columns=\"coeff\", ascending = False)"
   ]
  },
  {
   "cell_type": "code",
   "execution_count": null,
   "metadata": {
    "collapsed": false,
    "scrolled": true
   },
   "outputs": [],
   "source": []
  },
  {
   "cell_type": "code",
   "execution_count": null,
   "metadata": {
    "collapsed": true
   },
   "outputs": [],
   "source": []
  },
  {
   "cell_type": "code",
   "execution_count": null,
   "metadata": {
    "collapsed": false
   },
   "outputs": [],
   "source": []
  },
  {
   "cell_type": "markdown",
   "metadata": {},
   "source": [
    "# Now to take the derivatives to plot the graphs"
   ]
  },
  {
   "cell_type": "code",
   "execution_count": 67,
   "metadata": {
    "collapsed": false
   },
   "outputs": [
    {
     "data": {
      "text/plain": [
       "count     250.000000\n",
       "mean      408.012000\n",
       "std       316.636458\n",
       "min        24.000000\n",
       "25%       175.000000\n",
       "50%       315.000000\n",
       "75%       556.500000\n",
       "max      1596.000000\n",
       "Name: NETWORKSIZE^1, dtype: float64"
      ]
     },
     "execution_count": 67,
     "metadata": {},
     "output_type": "execute_result"
    }
   ],
   "source": [
    "X_lasso_and_big5[\"NETWORKSIZE^1\"].describe()"
   ]
  },
  {
   "cell_type": "code",
   "execution_count": 68,
   "metadata": {
    "collapsed": true
   },
   "outputs": [],
   "source": [
    "network_range = np.arange(0,1600,1)"
   ]
  },
  {
   "cell_type": "code",
   "execution_count": null,
   "metadata": {
    "collapsed": false
   },
   "outputs": [],
   "source": []
  },
  {
   "cell_type": "code",
   "execution_count": 69,
   "metadata": {
    "collapsed": false
   },
   "outputs": [],
   "source": [
    "betas_list = []\n",
    "betas_list_95conf_lower = []\n",
    "betas_list_95conf_higher = []\n",
    "\n",
    "for i in range(0,peanuts.shape[0]):\n",
    "    betas_list.append(peanuts[\"coeff\"][i])\n",
    "    betas_list_95conf_lower.append(peanuts[\"conf_lower\"][i])\n",
    "    betas_list_95conf_higher.append(peanuts[\"conf_higher\"][i])"
   ]
  },
  {
   "cell_type": "code",
   "execution_count": 70,
   "metadata": {
    "collapsed": false
   },
   "outputs": [],
   "source": [
    "# Actual Beta Coefficients\n",
    "Chg_Betw_Centrality_from_sExt = betas_list[1] + (betas_list[7] * network_range)\n",
    "Chg_Betw_Centrality_from_sNeu = betas_list[2] + (betas_list[8] * network_range)\n",
    "Chg_Betw_Centrality_from_sAgr = betas_list[3] + (betas_list[9] * network_range)\n",
    "Chg_Betw_Centrality_from_sCon = betas_list[4] + (betas_list[10] * network_range)\n",
    "Chg_Betw_Centrality_from_sOpn = betas_list[5] + (betas_list[11] * network_range)\n",
    "\n",
    "\n",
    "# All lower Estimates - lower lower\n",
    "\n",
    "Chg_Betw_Centrality_from_sExt_low_low = betas_list_95conf_lower[1] + (betas_list_95conf_lower[7] * network_range)\n",
    "Chg_Betw_Centrality_from_sNeu_low_low = betas_list_95conf_lower[2] + (betas_list_95conf_lower[8] * network_range)\n",
    "Chg_Betw_Centrality_from_sAgr_low_low = betas_list_95conf_lower[3] + (betas_list_95conf_lower[9] * network_range)\n",
    "Chg_Betw_Centrality_from_sCon_low_low = betas_list_95conf_lower[4] + (betas_list_95conf_lower[10] * network_range)\n",
    "Chg_Betw_Centrality_from_sOpn_low_low = betas_list_95conf_lower[5] + (betas_list_95conf_lower[11] * network_range)\n",
    "\n",
    "# All higher Estimates - higher higher\n",
    "\n",
    "Chg_Betw_Centrality_from_sExt_high_high = betas_list_95conf_higher[1] + (betas_list_95conf_higher[7] * network_range) \n",
    "Chg_Betw_Centrality_from_sNeu_high_high = betas_list_95conf_higher[2] + (betas_list_95conf_higher[8] * network_range) \n",
    "Chg_Betw_Centrality_from_sAgr_high_high = betas_list_95conf_higher[3] + (betas_list_95conf_higher[9] * network_range) \n",
    "Chg_Betw_Centrality_from_sCon_high_high = betas_list_95conf_higher[4] + (betas_list_95conf_higher[10] * network_range) \n",
    "Chg_Betw_Centrality_from_sOpn_high_high = betas_list_95conf_higher[5] + (betas_list_95conf_higher[11] * network_range) \n",
    "\n",
    "# Lower on first beta, higher for second beta (the one that multiples with network)\n",
    "\n",
    "Chg_Betw_Centrality_from_sExt_low_high = betas_list_95conf_lower[1] + (betas_list_95conf_higher[7] * network_range) \n",
    "Chg_Betw_Centrality_from_sNeu_low_high = betas_list_95conf_lower[2] + (betas_list_95conf_higher[8] * network_range) \n",
    "Chg_Betw_Centrality_from_sAgr_low_high = betas_list_95conf_lower[3] + (betas_list_95conf_higher[9] * network_range) \n",
    "Chg_Betw_Centrality_from_sCon_low_high = betas_list_95conf_lower[4] + (betas_list_95conf_higher[10] * network_range) \n",
    "Chg_Betw_Centrality_from_sOpn_low_high = betas_list_95conf_lower[5] + (betas_list_95conf_higher[11] * network_range) \n",
    "\n",
    "# Higher on first beta, Lower for second beta (the one that multiples with network)\n",
    "\n",
    "Chg_Betw_Centrality_from_sExt_high_low = betas_list_95conf_higher[1] + (betas_list_95conf_lower[7] * network_range)\n",
    "Chg_Betw_Centrality_from_sNeu_high_low = betas_list_95conf_higher[2] + (betas_list_95conf_lower[8] * network_range)\n",
    "Chg_Betw_Centrality_from_sAgr_high_low = betas_list_95conf_higher[3] + (betas_list_95conf_lower[9] * network_range)\n",
    "Chg_Betw_Centrality_from_sCon_high_low = betas_list_95conf_higher[4] + (betas_list_95conf_lower[10] * network_range)\n",
    "Chg_Betw_Centrality_from_sOpn_high_low = betas_list_95conf_higher[5] + (betas_list_95conf_lower[11] * network_range)"
   ]
  },
  {
   "cell_type": "code",
   "execution_count": 71,
   "metadata": {
    "collapsed": false
   },
   "outputs": [
    {
     "data": {
      "text/html": [
       "<div>\n",
       "<table border=\"1\" class=\"dataframe\">\n",
       "  <thead>\n",
       "    <tr style=\"text-align: right;\">\n",
       "      <th></th>\n",
       "      <th>coeff</th>\n",
       "      <th>pvals</th>\n",
       "      <th>conf_lower</th>\n",
       "      <th>conf_higher</th>\n",
       "    </tr>\n",
       "  </thead>\n",
       "  <tbody>\n",
       "    <tr>\n",
       "      <th>Constant Term</th>\n",
       "      <td>1389.889121</td>\n",
       "      <td>7.793469e-01</td>\n",
       "      <td>-8390.132401</td>\n",
       "      <td>11169.910644</td>\n",
       "    </tr>\n",
       "    <tr>\n",
       "      <th>sEXT^1</th>\n",
       "      <td>-723.641758</td>\n",
       "      <td>1.837192e-01</td>\n",
       "      <td>-1793.969742</td>\n",
       "      <td>346.686226</td>\n",
       "    </tr>\n",
       "    <tr>\n",
       "      <th>sNEU^1</th>\n",
       "      <td>-371.573035</td>\n",
       "      <td>5.244451e-01</td>\n",
       "      <td>-1521.849269</td>\n",
       "      <td>778.703198</td>\n",
       "    </tr>\n",
       "    <tr>\n",
       "      <th>sAGR^1</th>\n",
       "      <td>826.170956</td>\n",
       "      <td>2.174041e-01</td>\n",
       "      <td>-491.345440</td>\n",
       "      <td>2143.687352</td>\n",
       "    </tr>\n",
       "    <tr>\n",
       "      <th>sCON^1</th>\n",
       "      <td>1098.956882</td>\n",
       "      <td>4.114154e-02</td>\n",
       "      <td>44.740406</td>\n",
       "      <td>2153.173359</td>\n",
       "    </tr>\n",
       "    <tr>\n",
       "      <th>sOPN^1</th>\n",
       "      <td>-1138.821905</td>\n",
       "      <td>1.218551e-01</td>\n",
       "      <td>-2584.861743</td>\n",
       "      <td>307.217933</td>\n",
       "    </tr>\n",
       "    <tr>\n",
       "      <th>NETWORKSIZE^1</th>\n",
       "      <td>-18.261081</td>\n",
       "      <td>8.725246e-02</td>\n",
       "      <td>-39.220462</td>\n",
       "      <td>2.698299</td>\n",
       "    </tr>\n",
       "    <tr>\n",
       "      <th>sEXT^1 x NETWORKSIZE^1</th>\n",
       "      <td>2.714042</td>\n",
       "      <td>2.010059e-02</td>\n",
       "      <td>0.431140</td>\n",
       "      <td>4.996944</td>\n",
       "    </tr>\n",
       "    <tr>\n",
       "      <th>sNEU^1 x NETWORKSIZE^1</th>\n",
       "      <td>1.451362</td>\n",
       "      <td>2.571321e-01</td>\n",
       "      <td>-1.068878</td>\n",
       "      <td>3.971602</td>\n",
       "    </tr>\n",
       "    <tr>\n",
       "      <th>sAGR^1 x NETWORKSIZE^1</th>\n",
       "      <td>-2.418555</td>\n",
       "      <td>7.661350e-02</td>\n",
       "      <td>-5.098584</td>\n",
       "      <td>0.261474</td>\n",
       "    </tr>\n",
       "    <tr>\n",
       "      <th>sCON^1 x NETWORKSIZE^1</th>\n",
       "      <td>-3.424899</td>\n",
       "      <td>4.010127e-03</td>\n",
       "      <td>-5.741764</td>\n",
       "      <td>-1.108035</td>\n",
       "    </tr>\n",
       "    <tr>\n",
       "      <th>sOPN^1 x NETWORKSIZE^1</th>\n",
       "      <td>4.107092</td>\n",
       "      <td>5.419605e-03</td>\n",
       "      <td>1.229994</td>\n",
       "      <td>6.984189</td>\n",
       "    </tr>\n",
       "    <tr>\n",
       "      <th>NETWORKSIZE^2</th>\n",
       "      <td>0.498535</td>\n",
       "      <td>3.107708e-215</td>\n",
       "      <td>0.494800</td>\n",
       "      <td>0.502270</td>\n",
       "    </tr>\n",
       "  </tbody>\n",
       "</table>\n",
       "</div>"
      ],
      "text/plain": [
       "                              coeff          pvals   conf_lower   conf_higher\n",
       "Constant Term           1389.889121   7.793469e-01 -8390.132401  11169.910644\n",
       "sEXT^1                  -723.641758   1.837192e-01 -1793.969742    346.686226\n",
       "sNEU^1                  -371.573035   5.244451e-01 -1521.849269    778.703198\n",
       "sAGR^1                   826.170956   2.174041e-01  -491.345440   2143.687352\n",
       "sCON^1                  1098.956882   4.114154e-02    44.740406   2153.173359\n",
       "sOPN^1                 -1138.821905   1.218551e-01 -2584.861743    307.217933\n",
       "NETWORKSIZE^1            -18.261081   8.725246e-02   -39.220462      2.698299\n",
       "sEXT^1 x NETWORKSIZE^1     2.714042   2.010059e-02     0.431140      4.996944\n",
       "sNEU^1 x NETWORKSIZE^1     1.451362   2.571321e-01    -1.068878      3.971602\n",
       "sAGR^1 x NETWORKSIZE^1    -2.418555   7.661350e-02    -5.098584      0.261474\n",
       "sCON^1 x NETWORKSIZE^1    -3.424899   4.010127e-03    -5.741764     -1.108035\n",
       "sOPN^1 x NETWORKSIZE^1     4.107092   5.419605e-03     1.229994      6.984189\n",
       "NETWORKSIZE^2              0.498535  3.107708e-215     0.494800      0.502270"
      ]
     },
     "execution_count": 71,
     "metadata": {},
     "output_type": "execute_result"
    }
   ],
   "source": [
    "peanuts"
   ]
  },
  {
   "cell_type": "code",
   "execution_count": null,
   "metadata": {
    "collapsed": false
   },
   "outputs": [],
   "source": []
  },
  {
   "cell_type": "code",
   "execution_count": 72,
   "metadata": {
    "collapsed": false
   },
   "outputs": [
    {
     "data": {
      "text/html": [
       "<div>\n",
       "<table border=\"1\" class=\"dataframe\">\n",
       "  <thead>\n",
       "    <tr style=\"text-align: right;\">\n",
       "      <th></th>\n",
       "      <th>Constant Term</th>\n",
       "      <th>sEXT^1</th>\n",
       "      <th>sNEU^1</th>\n",
       "      <th>sAGR^1</th>\n",
       "      <th>sCON^1</th>\n",
       "      <th>sOPN^1</th>\n",
       "      <th>NETWORKSIZE^1</th>\n",
       "      <th>sEXT^1 x NETWORKSIZE^1</th>\n",
       "      <th>sNEU^1 x NETWORKSIZE^1</th>\n",
       "      <th>sAGR^1 x NETWORKSIZE^1</th>\n",
       "      <th>sCON^1 x NETWORKSIZE^1</th>\n",
       "      <th>sOPN^1 x NETWORKSIZE^1</th>\n",
       "      <th>NETWORKSIZE^2</th>\n",
       "    </tr>\n",
       "  </thead>\n",
       "  <tbody>\n",
       "    <tr>\n",
       "      <th>Constant Term</th>\n",
       "      <td>1.061916e+07</td>\n",
       "      <td>80602.610503</td>\n",
       "      <td>-305888.115815</td>\n",
       "      <td>-563003.439129</td>\n",
       "      <td>-723448.575913</td>\n",
       "      <td>-1.376840e+06</td>\n",
       "      <td>-26219.633170</td>\n",
       "      <td>-482.475165</td>\n",
       "      <td>406.435142</td>\n",
       "      <td>1815.941870</td>\n",
       "      <td>1893.931825</td>\n",
       "      <td>3594.563385</td>\n",
       "      <td>-1.139622</td>\n",
       "    </tr>\n",
       "    <tr>\n",
       "      <th>sEXT^1</th>\n",
       "      <td>8.060261e+04</td>\n",
       "      <td>190076.468783</td>\n",
       "      <td>132723.378393</td>\n",
       "      <td>-120126.541281</td>\n",
       "      <td>-98290.081490</td>\n",
       "      <td>-6.270052e+04</td>\n",
       "      <td>-543.617499</td>\n",
       "      <td>-522.441057</td>\n",
       "      <td>-351.161775</td>\n",
       "      <td>383.006481</td>\n",
       "      <td>347.189382</td>\n",
       "      <td>113.000133</td>\n",
       "      <td>0.161885</td>\n",
       "    </tr>\n",
       "    <tr>\n",
       "      <th>sNEU^1</th>\n",
       "      <td>-3.058881e+05</td>\n",
       "      <td>132723.378393</td>\n",
       "      <td>303237.031535</td>\n",
       "      <td>-658.433415</td>\n",
       "      <td>-174121.336178</td>\n",
       "      <td>-7.635335e+04</td>\n",
       "      <td>174.339986</td>\n",
       "      <td>-322.598280</td>\n",
       "      <td>-868.578291</td>\n",
       "      <td>64.829009</td>\n",
       "      <td>658.979964</td>\n",
       "      <td>87.640429</td>\n",
       "      <td>0.395729</td>\n",
       "    </tr>\n",
       "    <tr>\n",
       "      <th>sAGR^1</th>\n",
       "      <td>-5.630034e+05</td>\n",
       "      <td>-120126.541281</td>\n",
       "      <td>-658.433415</td>\n",
       "      <td>355027.572211</td>\n",
       "      <td>-47893.186860</td>\n",
       "      <td>-1.835261e+04</td>\n",
       "      <td>1546.412112</td>\n",
       "      <td>366.786893</td>\n",
       "      <td>-22.316229</td>\n",
       "      <td>-999.314240</td>\n",
       "      <td>99.860284</td>\n",
       "      <td>16.656148</td>\n",
       "      <td>0.570491</td>\n",
       "    </tr>\n",
       "    <tr>\n",
       "      <th>sCON^1</th>\n",
       "      <td>-7.234486e+05</td>\n",
       "      <td>-98290.081490</td>\n",
       "      <td>-174121.336178</td>\n",
       "      <td>-47893.186860</td>\n",
       "      <td>386828.427554</td>\n",
       "      <td>7.694808e+04</td>\n",
       "      <td>1751.890371</td>\n",
       "      <td>294.893689</td>\n",
       "      <td>629.691960</td>\n",
       "      <td>40.198240</td>\n",
       "      <td>-1171.386284</td>\n",
       "      <td>-70.692723</td>\n",
       "      <td>-0.270025</td>\n",
       "    </tr>\n",
       "    <tr>\n",
       "      <th>sOPN^1</th>\n",
       "      <td>-1.376840e+06</td>\n",
       "      <td>-62700.521855</td>\n",
       "      <td>-76353.347585</td>\n",
       "      <td>-18352.607802</td>\n",
       "      <td>76948.076873</td>\n",
       "      <td>3.824308e+05</td>\n",
       "      <td>3799.494871</td>\n",
       "      <td>173.409902</td>\n",
       "      <td>224.493356</td>\n",
       "      <td>2.425387</td>\n",
       "      <td>-245.315546</td>\n",
       "      <td>-974.930296</td>\n",
       "      <td>-0.202622</td>\n",
       "    </tr>\n",
       "    <tr>\n",
       "      <th>NETWORKSIZE^1</th>\n",
       "      <td>-2.621963e+04</td>\n",
       "      <td>-543.617499</td>\n",
       "      <td>174.339986</td>\n",
       "      <td>1546.412112</td>\n",
       "      <td>1751.890371</td>\n",
       "      <td>3.799495e+03</td>\n",
       "      <td>88.112653</td>\n",
       "      <td>0.875901</td>\n",
       "      <td>-0.883652</td>\n",
       "      <td>-5.634016</td>\n",
       "      <td>-6.173344</td>\n",
       "      <td>-10.865048</td>\n",
       "      <td>-0.001079</td>\n",
       "    </tr>\n",
       "    <tr>\n",
       "      <th>sEXT^1 x NETWORKSIZE^1</th>\n",
       "      <td>-4.824752e+02</td>\n",
       "      <td>-522.441057</td>\n",
       "      <td>-322.598280</td>\n",
       "      <td>366.786893</td>\n",
       "      <td>294.893689</td>\n",
       "      <td>1.734099e+02</td>\n",
       "      <td>0.875901</td>\n",
       "      <td>1.713988</td>\n",
       "      <td>0.930081</td>\n",
       "      <td>-1.173580</td>\n",
       "      <td>-0.986429</td>\n",
       "      <td>-0.337703</td>\n",
       "      <td>-0.000200</td>\n",
       "    </tr>\n",
       "    <tr>\n",
       "      <th>sNEU^1 x NETWORKSIZE^1</th>\n",
       "      <td>4.064351e+02</td>\n",
       "      <td>-351.161775</td>\n",
       "      <td>-868.578291</td>\n",
       "      <td>-22.316229</td>\n",
       "      <td>629.691960</td>\n",
       "      <td>2.244934e+02</td>\n",
       "      <td>-0.883652</td>\n",
       "      <td>0.930081</td>\n",
       "      <td>2.815183</td>\n",
       "      <td>-0.121866</td>\n",
       "      <td>-2.216447</td>\n",
       "      <td>-0.192205</td>\n",
       "      <td>-0.001069</td>\n",
       "    </tr>\n",
       "    <tr>\n",
       "      <th>sAGR^1 x NETWORKSIZE^1</th>\n",
       "      <td>1.815942e+03</td>\n",
       "      <td>383.006481</td>\n",
       "      <td>64.829009</td>\n",
       "      <td>-999.314240</td>\n",
       "      <td>40.198240</td>\n",
       "      <td>2.425387e+00</td>\n",
       "      <td>-5.634016</td>\n",
       "      <td>-1.173580</td>\n",
       "      <td>-0.121866</td>\n",
       "      <td>3.142260</td>\n",
       "      <td>0.029562</td>\n",
       "      <td>-0.068950</td>\n",
       "      <td>-0.001591</td>\n",
       "    </tr>\n",
       "    <tr>\n",
       "      <th>sCON^1 x NETWORKSIZE^1</th>\n",
       "      <td>1.893932e+03</td>\n",
       "      <td>347.189382</td>\n",
       "      <td>658.979964</td>\n",
       "      <td>99.860284</td>\n",
       "      <td>-1171.386284</td>\n",
       "      <td>-2.453155e+02</td>\n",
       "      <td>-6.173344</td>\n",
       "      <td>-0.986429</td>\n",
       "      <td>-2.216447</td>\n",
       "      <td>0.029562</td>\n",
       "      <td>3.978274</td>\n",
       "      <td>0.116107</td>\n",
       "      <td>0.001132</td>\n",
       "    </tr>\n",
       "    <tr>\n",
       "      <th>sOPN^1 x NETWORKSIZE^1</th>\n",
       "      <td>3.594563e+03</td>\n",
       "      <td>113.000133</td>\n",
       "      <td>87.640429</td>\n",
       "      <td>16.656148</td>\n",
       "      <td>-70.692723</td>\n",
       "      <td>-9.749303e+02</td>\n",
       "      <td>-10.865048</td>\n",
       "      <td>-0.337703</td>\n",
       "      <td>-0.192205</td>\n",
       "      <td>-0.068950</td>\n",
       "      <td>0.116107</td>\n",
       "      <td>2.983503</td>\n",
       "      <td>0.000293</td>\n",
       "    </tr>\n",
       "    <tr>\n",
       "      <th>NETWORKSIZE^2</th>\n",
       "      <td>-1.139622e+00</td>\n",
       "      <td>0.161885</td>\n",
       "      <td>0.395729</td>\n",
       "      <td>0.570491</td>\n",
       "      <td>-0.270025</td>\n",
       "      <td>-2.026217e-01</td>\n",
       "      <td>-0.001079</td>\n",
       "      <td>-0.000200</td>\n",
       "      <td>-0.001069</td>\n",
       "      <td>-0.001591</td>\n",
       "      <td>0.001132</td>\n",
       "      <td>0.000293</td>\n",
       "      <td>0.000006</td>\n",
       "    </tr>\n",
       "  </tbody>\n",
       "</table>\n",
       "</div>"
      ],
      "text/plain": [
       "                        Constant Term         sEXT^1         sNEU^1  \\\n",
       "Constant Term            1.061916e+07   80602.610503 -305888.115815   \n",
       "sEXT^1                   8.060261e+04  190076.468783  132723.378393   \n",
       "sNEU^1                  -3.058881e+05  132723.378393  303237.031535   \n",
       "sAGR^1                  -5.630034e+05 -120126.541281    -658.433415   \n",
       "sCON^1                  -7.234486e+05  -98290.081490 -174121.336178   \n",
       "sOPN^1                  -1.376840e+06  -62700.521855  -76353.347585   \n",
       "NETWORKSIZE^1           -2.621963e+04    -543.617499     174.339986   \n",
       "sEXT^1 x NETWORKSIZE^1  -4.824752e+02    -522.441057    -322.598280   \n",
       "sNEU^1 x NETWORKSIZE^1   4.064351e+02    -351.161775    -868.578291   \n",
       "sAGR^1 x NETWORKSIZE^1   1.815942e+03     383.006481      64.829009   \n",
       "sCON^1 x NETWORKSIZE^1   1.893932e+03     347.189382     658.979964   \n",
       "sOPN^1 x NETWORKSIZE^1   3.594563e+03     113.000133      87.640429   \n",
       "NETWORKSIZE^2           -1.139622e+00       0.161885       0.395729   \n",
       "\n",
       "                               sAGR^1         sCON^1        sOPN^1  \\\n",
       "Constant Term          -563003.439129 -723448.575913 -1.376840e+06   \n",
       "sEXT^1                 -120126.541281  -98290.081490 -6.270052e+04   \n",
       "sNEU^1                    -658.433415 -174121.336178 -7.635335e+04   \n",
       "sAGR^1                  355027.572211  -47893.186860 -1.835261e+04   \n",
       "sCON^1                  -47893.186860  386828.427554  7.694808e+04   \n",
       "sOPN^1                  -18352.607802   76948.076873  3.824308e+05   \n",
       "NETWORKSIZE^1             1546.412112    1751.890371  3.799495e+03   \n",
       "sEXT^1 x NETWORKSIZE^1     366.786893     294.893689  1.734099e+02   \n",
       "sNEU^1 x NETWORKSIZE^1     -22.316229     629.691960  2.244934e+02   \n",
       "sAGR^1 x NETWORKSIZE^1    -999.314240      40.198240  2.425387e+00   \n",
       "sCON^1 x NETWORKSIZE^1      99.860284   -1171.386284 -2.453155e+02   \n",
       "sOPN^1 x NETWORKSIZE^1      16.656148     -70.692723 -9.749303e+02   \n",
       "NETWORKSIZE^2                0.570491      -0.270025 -2.026217e-01   \n",
       "\n",
       "                        NETWORKSIZE^1  sEXT^1 x NETWORKSIZE^1  \\\n",
       "Constant Term           -26219.633170             -482.475165   \n",
       "sEXT^1                    -543.617499             -522.441057   \n",
       "sNEU^1                     174.339986             -322.598280   \n",
       "sAGR^1                    1546.412112              366.786893   \n",
       "sCON^1                    1751.890371              294.893689   \n",
       "sOPN^1                    3799.494871              173.409902   \n",
       "NETWORKSIZE^1               88.112653                0.875901   \n",
       "sEXT^1 x NETWORKSIZE^1       0.875901                1.713988   \n",
       "sNEU^1 x NETWORKSIZE^1      -0.883652                0.930081   \n",
       "sAGR^1 x NETWORKSIZE^1      -5.634016               -1.173580   \n",
       "sCON^1 x NETWORKSIZE^1      -6.173344               -0.986429   \n",
       "sOPN^1 x NETWORKSIZE^1     -10.865048               -0.337703   \n",
       "NETWORKSIZE^2               -0.001079               -0.000200   \n",
       "\n",
       "                        sNEU^1 x NETWORKSIZE^1  sAGR^1 x NETWORKSIZE^1  \\\n",
       "Constant Term                       406.435142             1815.941870   \n",
       "sEXT^1                             -351.161775              383.006481   \n",
       "sNEU^1                             -868.578291               64.829009   \n",
       "sAGR^1                              -22.316229             -999.314240   \n",
       "sCON^1                              629.691960               40.198240   \n",
       "sOPN^1                              224.493356                2.425387   \n",
       "NETWORKSIZE^1                        -0.883652               -5.634016   \n",
       "sEXT^1 x NETWORKSIZE^1                0.930081               -1.173580   \n",
       "sNEU^1 x NETWORKSIZE^1                2.815183               -0.121866   \n",
       "sAGR^1 x NETWORKSIZE^1               -0.121866                3.142260   \n",
       "sCON^1 x NETWORKSIZE^1               -2.216447                0.029562   \n",
       "sOPN^1 x NETWORKSIZE^1               -0.192205               -0.068950   \n",
       "NETWORKSIZE^2                        -0.001069               -0.001591   \n",
       "\n",
       "                        sCON^1 x NETWORKSIZE^1  sOPN^1 x NETWORKSIZE^1  \\\n",
       "Constant Term                      1893.931825             3594.563385   \n",
       "sEXT^1                              347.189382              113.000133   \n",
       "sNEU^1                              658.979964               87.640429   \n",
       "sAGR^1                               99.860284               16.656148   \n",
       "sCON^1                            -1171.386284              -70.692723   \n",
       "sOPN^1                             -245.315546             -974.930296   \n",
       "NETWORKSIZE^1                        -6.173344              -10.865048   \n",
       "sEXT^1 x NETWORKSIZE^1               -0.986429               -0.337703   \n",
       "sNEU^1 x NETWORKSIZE^1               -2.216447               -0.192205   \n",
       "sAGR^1 x NETWORKSIZE^1                0.029562               -0.068950   \n",
       "sCON^1 x NETWORKSIZE^1                3.978274                0.116107   \n",
       "sOPN^1 x NETWORKSIZE^1                0.116107                2.983503   \n",
       "NETWORKSIZE^2                         0.001132                0.000293   \n",
       "\n",
       "                        NETWORKSIZE^2  \n",
       "Constant Term               -1.139622  \n",
       "sEXT^1                       0.161885  \n",
       "sNEU^1                       0.395729  \n",
       "sAGR^1                       0.570491  \n",
       "sCON^1                      -0.270025  \n",
       "sOPN^1                      -0.202622  \n",
       "NETWORKSIZE^1               -0.001079  \n",
       "sEXT^1 x NETWORKSIZE^1      -0.000200  \n",
       "sNEU^1 x NETWORKSIZE^1      -0.001069  \n",
       "sAGR^1 x NETWORKSIZE^1      -0.001591  \n",
       "sCON^1 x NETWORKSIZE^1       0.001132  \n",
       "sOPN^1 x NETWORKSIZE^1       0.000293  \n",
       "NETWORKSIZE^2                0.000006  "
      ]
     },
     "execution_count": 72,
     "metadata": {},
     "output_type": "execute_result"
    }
   ],
   "source": [
    "variance_covariance_matrix_df = pd.DataFrame(variance_covariance_matrix)\n",
    "variance_covariance_matrix_df.columns = list(peanuts.index)\n",
    "variance_covariance_matrix_df.index = list(peanuts.index)\n",
    "variance_covariance_matrix_df"
   ]
  },
  {
   "cell_type": "code",
   "execution_count": 73,
   "metadata": {
    "collapsed": false
   },
   "outputs": [],
   "source": [
    "# This is how to account for the interactionality in creating the 95% confidence intervals.\n",
    "\n",
    "var_sExt = variance_covariance_matrix_df[\"sEXT^1\"][\"sEXT^1\"]\n",
    "cov_sExt_Net = variance_covariance_matrix_df[\"sEXT^1\"][\"sEXT^1 x NETWORKSIZE^1\"]\n",
    "var_sExtNet_sExtNet = variance_covariance_matrix_df[\"sEXT^1 x NETWORKSIZE^1\"][\"sEXT^1 x NETWORKSIZE^1\"]\n",
    "\n",
    "var_sNeu = variance_covariance_matrix_df[\"sNEU^1\"][\"sNEU^1\"]\n",
    "cov_sNeu_Net = variance_covariance_matrix_df[\"sNEU^1\"][\"sNEU^1 x NETWORKSIZE^1\"]\n",
    "var_sNeuNet_sNeuNet = variance_covariance_matrix_df[\"sNEU^1 x NETWORKSIZE^1\"][\"sNEU^1 x NETWORKSIZE^1\"]\n",
    "\n",
    "var_sAgr = variance_covariance_matrix_df[\"sAGR^1\"][\"sAGR^1\"]\n",
    "cov_sAgr_Net = variance_covariance_matrix_df[\"sAGR^1\"][\"sAGR^1 x NETWORKSIZE^1\"]\n",
    "var_sAgrNet_sAgrNet = variance_covariance_matrix_df[\"sAGR^1 x NETWORKSIZE^1\"][\"sAGR^1 x NETWORKSIZE^1\"]\n",
    "\n",
    "var_sCon = variance_covariance_matrix_df[\"sCON^1\"][\"sCON^1\"]\n",
    "cov_sCon_Net = variance_covariance_matrix_df[\"sCON^1\"][\"sCON^1 x NETWORKSIZE^1\"]\n",
    "var_sConNet_sConNet = variance_covariance_matrix_df[\"sCON^1 x NETWORKSIZE^1\"][\"sCON^1 x NETWORKSIZE^1\"]\n",
    "\n",
    "var_sOpn = variance_covariance_matrix_df[\"sOPN^1\"][\"sOPN^1\"]\n",
    "cov_sOpn_Net = variance_covariance_matrix_df[\"sOPN^1\"][\"sOPN^1 x NETWORKSIZE^1\"]\n",
    "var_sOpnNet_sOpnNet = variance_covariance_matrix_df[\"sOPN^1 x NETWORKSIZE^1\"][\"sOPN^1 x NETWORKSIZE^1\"]"
   ]
  },
  {
   "cell_type": "code",
   "execution_count": 74,
   "metadata": {
    "collapsed": false
   },
   "outputs": [],
   "source": [
    "z_95Percent = 1.96\n",
    "\n",
    "Chg_Betw_Centrality_from_sExt_95_plus = Chg_Betw_Centrality_from_sExt + z_95Percent * np.sqrt((var_sExt + (2 * network_range * cov_sExt_Net) + ((network_range ** 2) * var_sExtNet_sExtNet)))\n",
    "Chg_Betw_Centrality_from_sExt_95_minus = Chg_Betw_Centrality_from_sExt - z_95Percent * np.sqrt((var_sExt + (2 * network_range * cov_sExt_Net) + ((network_range ** 2) * var_sExtNet_sExtNet)))\n",
    "\n",
    "Chg_Betw_Centrality_from_sNeu_95_plus = Chg_Betw_Centrality_from_sNeu + z_95Percent * np.sqrt((var_sNeu + (2 * network_range * cov_sNeu_Net) + ((network_range ** 2) * var_sNeuNet_sNeuNet)))\n",
    "Chg_Betw_Centrality_from_sNeu_95_minus = Chg_Betw_Centrality_from_sNeu - z_95Percent * np.sqrt((var_sNeu + (2 * network_range * cov_sNeu_Net) + ((network_range ** 2) * var_sNeuNet_sNeuNet)))\n",
    "\n",
    "Chg_Betw_Centrality_from_sAgr_95_plus = Chg_Betw_Centrality_from_sAgr + z_95Percent * np.sqrt((var_sAgr + (2 * network_range * cov_sAgr_Net) + ((network_range ** 2) * var_sAgrNet_sAgrNet)))\n",
    "Chg_Betw_Centrality_from_sAgr_95_minus = Chg_Betw_Centrality_from_sAgr - z_95Percent * np.sqrt((var_sAgr + (2 * network_range * cov_sAgr_Net) + ((network_range ** 2) * var_sAgrNet_sAgrNet)))\n",
    "\n",
    "Chg_Betw_Centrality_from_sCon_95_plus = Chg_Betw_Centrality_from_sCon + z_95Percent * np.sqrt((var_sCon + (2 * network_range * cov_sCon_Net) + ((network_range ** 2) * var_sConNet_sConNet)))\n",
    "Chg_Betw_Centrality_from_sCon_95_minus = Chg_Betw_Centrality_from_sCon - z_95Percent * np.sqrt((var_sCon + (2 * network_range * cov_sCon_Net) + ((network_range ** 2) * var_sConNet_sConNet)))\n",
    "\n",
    "Chg_Betw_Centrality_from_sOpn_95_plus = Chg_Betw_Centrality_from_sOpn + z_95Percent * np.sqrt((var_sOpn + (2 * network_range * cov_sOpn_Net) + ((network_range ** 2) * var_sOpnNet_sOpnNet)))\n",
    "Chg_Betw_Centrality_from_sOpn_95_minus = Chg_Betw_Centrality_from_sOpn - z_95Percent * np.sqrt((var_sOpn + (2 * network_range * cov_sOpn_Net) + ((network_range ** 2) * var_sOpnNet_sOpnNet)))"
   ]
  },
  {
   "cell_type": "code",
   "execution_count": 85,
   "metadata": {
    "collapsed": false
   },
   "outputs": [
    {
     "data": {
      "text/html": [
       "<div>\n",
       "<table border=\"1\" class=\"dataframe\">\n",
       "  <thead>\n",
       "    <tr style=\"text-align: right;\">\n",
       "      <th></th>\n",
       "      <th>Chg_Betw_Centrality_from_sAgr</th>\n",
       "      <th>Chg_Betw_Centrality_from_sCon</th>\n",
       "      <th>Chg_Betw_Centrality_from_sExt</th>\n",
       "      <th>Chg_Betw_Centrality_from_sNeu</th>\n",
       "      <th>Chg_Betw_Centrality_from_sOpn</th>\n",
       "      <th>network_range</th>\n",
       "    </tr>\n",
       "  </thead>\n",
       "  <tbody>\n",
       "    <tr>\n",
       "      <th>0</th>\n",
       "      <td>826.170956</td>\n",
       "      <td>1098.956882</td>\n",
       "      <td>-723.641758</td>\n",
       "      <td>-371.573035</td>\n",
       "      <td>-1138.821905</td>\n",
       "      <td>0</td>\n",
       "    </tr>\n",
       "    <tr>\n",
       "      <th>1</th>\n",
       "      <td>823.752401</td>\n",
       "      <td>1095.531983</td>\n",
       "      <td>-720.927716</td>\n",
       "      <td>-370.121673</td>\n",
       "      <td>-1134.714813</td>\n",
       "      <td>1</td>\n",
       "    </tr>\n",
       "    <tr>\n",
       "      <th>2</th>\n",
       "      <td>821.333846</td>\n",
       "      <td>1092.107083</td>\n",
       "      <td>-718.213674</td>\n",
       "      <td>-368.670310</td>\n",
       "      <td>-1130.607721</td>\n",
       "      <td>2</td>\n",
       "    </tr>\n",
       "    <tr>\n",
       "      <th>3</th>\n",
       "      <td>818.915291</td>\n",
       "      <td>1088.682184</td>\n",
       "      <td>-715.499632</td>\n",
       "      <td>-367.218948</td>\n",
       "      <td>-1126.500630</td>\n",
       "      <td>3</td>\n",
       "    </tr>\n",
       "    <tr>\n",
       "      <th>4</th>\n",
       "      <td>816.496736</td>\n",
       "      <td>1085.257285</td>\n",
       "      <td>-712.785590</td>\n",
       "      <td>-365.767586</td>\n",
       "      <td>-1122.393538</td>\n",
       "      <td>4</td>\n",
       "    </tr>\n",
       "  </tbody>\n",
       "</table>\n",
       "</div>"
      ],
      "text/plain": [
       "   Chg_Betw_Centrality_from_sAgr  Chg_Betw_Centrality_from_sCon  \\\n",
       "0                     826.170956                    1098.956882   \n",
       "1                     823.752401                    1095.531983   \n",
       "2                     821.333846                    1092.107083   \n",
       "3                     818.915291                    1088.682184   \n",
       "4                     816.496736                    1085.257285   \n",
       "\n",
       "   Chg_Betw_Centrality_from_sExt  Chg_Betw_Centrality_from_sNeu  \\\n",
       "0                    -723.641758                    -371.573035   \n",
       "1                    -720.927716                    -370.121673   \n",
       "2                    -718.213674                    -368.670310   \n",
       "3                    -715.499632                    -367.218948   \n",
       "4                    -712.785590                    -365.767586   \n",
       "\n",
       "   Chg_Betw_Centrality_from_sOpn  network_range  \n",
       "0                   -1138.821905              0  \n",
       "1                   -1134.714813              1  \n",
       "2                   -1130.607721              2  \n",
       "3                   -1126.500630              3  \n",
       "4                   -1122.393538              4  "
      ]
     },
     "execution_count": 85,
     "metadata": {},
     "output_type": "execute_result"
    }
   ],
   "source": [
    "marginal_effects_on_betweenness_df = pd.DataFrame({\n",
    "                                                    \"network_range\": network_range,\n",
    "                                                    \"Chg_Betw_Centrality_from_sExt\":Chg_Betw_Centrality_from_sExt,\n",
    "                                                    \"Chg_Betw_Centrality_from_sNeu\":Chg_Betw_Centrality_from_sNeu,\n",
    "                                                    \"Chg_Betw_Centrality_from_sAgr\":Chg_Betw_Centrality_from_sAgr,\n",
    "                                                    \"Chg_Betw_Centrality_from_sCon\":Chg_Betw_Centrality_from_sCon,\n",
    "                                                    \"Chg_Betw_Centrality_from_sOpn\":Chg_Betw_Centrality_from_sOpn,                                        \n",
    "\n",
    "#                                         \"Chg_Betw_Centrality_from_sExt_low_low\":Chg_Betw_Centrality_from_sExt_low_low,\n",
    "#                                         \"Chg_Betw_Centrality_from_sNeu_low_low\":Chg_Betw_Centrality_from_sNeu_low_low,\n",
    "#                                         \"Chg_Betw_Centrality_from_sAgr_low_low\":Chg_Betw_Centrality_from_sAgr_low_low,\n",
    "#                                         \"Chg_Betw_Centrality_from_sCon_low_low\":Chg_Betw_Centrality_from_sCon_low_low,\n",
    "#                                         \"Chg_Betw_Centrality_from_sOpn_low_low\":Chg_Betw_Centrality_from_sOpn_low_low,\n",
    "#                                         \"Chg_Betw_Centrality_from_sExt_high_high\":Chg_Betw_Centrality_from_sExt_high_high,\n",
    "#                                         \"Chg_Betw_Centrality_from_sNeu_high_high\":Chg_Betw_Centrality_from_sNeu_high_high,\n",
    "#                                         \"Chg_Betw_Centrality_from_sAgr_high_high\":Chg_Betw_Centrality_from_sAgr_high_high,\n",
    "#                                         \"Chg_Betw_Centrality_from_sCon_high_high\":Chg_Betw_Centrality_from_sCon_high_high,\n",
    "#                                         \"Chg_Betw_Centrality_from_sOpn_high_high\":Chg_Betw_Centrality_from_sOpn_high_high,\n",
    "#                                         \"Chg_Betw_Centrality_from_sExt_low_high \":Chg_Betw_Centrality_from_sExt_low_high ,\n",
    "#                                         \"Chg_Betw_Centrality_from_sNeu_low_high \":Chg_Betw_Centrality_from_sNeu_low_high ,\n",
    "#                                         \"Chg_Betw_Centrality_from_sAgr_low_high \":Chg_Betw_Centrality_from_sAgr_low_high ,\n",
    "#                                         \"Chg_Betw_Centrality_from_sCon_low_high \":Chg_Betw_Centrality_from_sCon_low_high ,\n",
    "#                                         \"Chg_Betw_Centrality_from_sOpn_low_high \":Chg_Betw_Centrality_from_sOpn_low_high ,\n",
    "#                                         \"Chg_Betw_Centrality_from_sExt_high_low \":Chg_Betw_Centrality_from_sExt_high_low ,\n",
    "#                                         \"Chg_Betw_Centrality_from_sNeu_high_low \":Chg_Betw_Centrality_from_sNeu_high_low ,\n",
    "#                                         \"Chg_Betw_Centrality_from_sAgr_high_low \":Chg_Betw_Centrality_from_sAgr_high_low ,\n",
    "#                                         \"Chg_Betw_Centrality_from_sCon_high_low \":Chg_Betw_Centrality_from_sCon_high_low ,\n",
    "#                                         \"Chg_Betw_Centrality_from_sOpn_high_low \":Chg_Betw_Centrality_from_sOpn_high_low \n",
    "    \n",
    "    \n",
    "    \n",
    "    })\n",
    "\n",
    "marginal_effects_on_betweenness_df.head()"
   ]
  },
  {
   "cell_type": "code",
   "execution_count": 76,
   "metadata": {
    "collapsed": false
   },
   "outputs": [],
   "source": [
    "import graphlab as gl"
   ]
  },
  {
   "cell_type": "code",
   "execution_count": 77,
   "metadata": {
    "collapsed": false
   },
   "outputs": [
    {
     "name": "stdout",
     "output_type": "stream",
     "text": [
      "This non-commercial license of GraphLab Create for academic use assigned to zr28@cornell.edu has expired. Please contact contact@turi.com for renewal options.\n"
     ]
    },
    {
     "ename": "InvalidLicense",
     "evalue": "License check failed. Please visit https://dato.com/support for support options.",
     "output_type": "error",
     "traceback": [
      "\u001b[0;31m---------------------------------------------------------------------------\u001b[0m",
      "\u001b[0;31mInvalidLicense\u001b[0m                            Traceback (most recent call last)",
      "\u001b[0;32m<ipython-input-77-54224f862034>\u001b[0m in \u001b[0;36m<module>\u001b[0;34m()\u001b[0m\n\u001b[0;32m----> 1\u001b[0;31m \u001b[0msf_marginal_effects_on_betweenness_df\u001b[0m \u001b[0;34m=\u001b[0m \u001b[0mgl\u001b[0m\u001b[0;34m.\u001b[0m\u001b[0mSFrame\u001b[0m\u001b[0;34m(\u001b[0m\u001b[0mdata\u001b[0m\u001b[0;34m=\u001b[0m\u001b[0mmarginal_effects_on_betweenness_df\u001b[0m\u001b[0;34m)\u001b[0m\u001b[0;34m\u001b[0m\u001b[0m\n\u001b[0m\u001b[1;32m      2\u001b[0m \u001b[0msf_marginal_effects_on_betweenness_df\u001b[0m\u001b[0;34m.\u001b[0m\u001b[0mshow\u001b[0m\u001b[0;34m(\u001b[0m\u001b[0;34m)\u001b[0m\u001b[0;34m\u001b[0m\u001b[0m\n\u001b[1;32m      3\u001b[0m \u001b[0;34m\u001b[0m\u001b[0m\n\u001b[1;32m      4\u001b[0m \u001b[0;31m#https://dato.com/products/create/docs/graphlab.canvas.html\u001b[0m\u001b[0;34m\u001b[0m\u001b[0;34m\u001b[0m\u001b[0m\n\u001b[1;32m      5\u001b[0m \u001b[0mgl\u001b[0m\u001b[0;34m.\u001b[0m\u001b[0mcanvas\u001b[0m\u001b[0;34m.\u001b[0m\u001b[0mset_target\u001b[0m\u001b[0;34m(\u001b[0m\u001b[0;34m'ipynb'\u001b[0m\u001b[0;34m)\u001b[0m\u001b[0;34m\u001b[0m\u001b[0m\n",
      "\u001b[0;32m//anaconda/lib/python2.7/site-packages/graphlab/data_structures/sframe.pyc\u001b[0m in \u001b[0;36m__init__\u001b[0;34m(self, data, format, _proxy)\u001b[0m\n\u001b[1;32m    874\u001b[0m             \u001b[0mself\u001b[0m\u001b[0;34m.\u001b[0m\u001b[0m__proxy__\u001b[0m \u001b[0;34m=\u001b[0m \u001b[0m_proxy\u001b[0m\u001b[0;34m\u001b[0m\u001b[0m\n\u001b[1;32m    875\u001b[0m         \u001b[0;32melse\u001b[0m\u001b[0;34m:\u001b[0m\u001b[0;34m\u001b[0m\u001b[0m\n\u001b[0;32m--> 876\u001b[0;31m             \u001b[0mself\u001b[0m\u001b[0;34m.\u001b[0m\u001b[0m__proxy__\u001b[0m \u001b[0;34m=\u001b[0m \u001b[0mUnitySFrameProxy\u001b[0m\u001b[0;34m(\u001b[0m\u001b[0mglconnect\u001b[0m\u001b[0;34m.\u001b[0m\u001b[0mget_client\u001b[0m\u001b[0;34m(\u001b[0m\u001b[0;34m)\u001b[0m\u001b[0;34m)\u001b[0m\u001b[0;34m\u001b[0m\u001b[0m\n\u001b[0m\u001b[1;32m    877\u001b[0m             \u001b[0m_format\u001b[0m \u001b[0;34m=\u001b[0m \u001b[0mNone\u001b[0m\u001b[0;34m\u001b[0m\u001b[0m\n\u001b[1;32m    878\u001b[0m             \u001b[0;32mif\u001b[0m \u001b[0;34m(\u001b[0m\u001b[0mformat\u001b[0m \u001b[0;34m==\u001b[0m \u001b[0;34m'auto'\u001b[0m\u001b[0;34m)\u001b[0m\u001b[0;34m:\u001b[0m\u001b[0;34m\u001b[0m\u001b[0m\n",
      "\u001b[0;32m//anaconda/lib/python2.7/site-packages/graphlab/connect/main.pyc\u001b[0m in \u001b[0;36mget_client\u001b[0;34m()\u001b[0m\n\u001b[1;32m    139\u001b[0m     \"\"\"\n\u001b[1;32m    140\u001b[0m     \u001b[0;32mif\u001b[0m \u001b[0;32mnot\u001b[0m \u001b[0mis_connected\u001b[0m\u001b[0;34m(\u001b[0m\u001b[0;34m)\u001b[0m\u001b[0;34m:\u001b[0m\u001b[0;34m\u001b[0m\u001b[0m\n\u001b[0;32m--> 141\u001b[0;31m         \u001b[0mlaunch\u001b[0m\u001b[0;34m(\u001b[0m\u001b[0;34m)\u001b[0m\u001b[0;34m\u001b[0m\u001b[0m\n\u001b[0m\u001b[1;32m    142\u001b[0m     \u001b[0;32massert\u001b[0m \u001b[0mis_connected\u001b[0m\u001b[0;34m(\u001b[0m\u001b[0;34m)\u001b[0m\u001b[0;34m,\u001b[0m \u001b[0mENGINE_START_ERROR_MESSAGE\u001b[0m\u001b[0;34m\u001b[0m\u001b[0m\n\u001b[1;32m    143\u001b[0m     \u001b[0;32mreturn\u001b[0m \u001b[0m__CLIENT__\u001b[0m\u001b[0;34m\u001b[0m\u001b[0m\n",
      "\u001b[0;32m//anaconda/lib/python2.7/site-packages/graphlab/connect/main.pyc\u001b[0m in \u001b[0;36mlaunch\u001b[0;34m(server_addr, server_bin, server_log, auth_token, server_public_key)\u001b[0m\n\u001b[1;32m     91\u001b[0m         \u001b[0;32mif\u001b[0m \u001b[0mserver\u001b[0m\u001b[0;34m:\u001b[0m\u001b[0;34m\u001b[0m\u001b[0m\n\u001b[1;32m     92\u001b[0m             \u001b[0mserver\u001b[0m\u001b[0;34m.\u001b[0m\u001b[0mtry_stop\u001b[0m\u001b[0;34m(\u001b[0m\u001b[0;34m)\u001b[0m\u001b[0;34m\u001b[0m\u001b[0m\n\u001b[0;32m---> 93\u001b[0;31m         \u001b[0;32mraise\u001b[0m \u001b[0me\u001b[0m\u001b[0;34m\u001b[0m\u001b[0m\n\u001b[0m\u001b[1;32m     94\u001b[0m     \u001b[0mserver\u001b[0m\u001b[0;34m.\u001b[0m\u001b[0mset_log_progress\u001b[0m\u001b[0;34m(\u001b[0m\u001b[0mTrue\u001b[0m\u001b[0;34m)\u001b[0m\u001b[0;34m\u001b[0m\u001b[0m\n\u001b[1;32m     95\u001b[0m     \u001b[0;31m# start the client\u001b[0m\u001b[0;34m\u001b[0m\u001b[0;34m\u001b[0m\u001b[0m\n",
      "\u001b[0;31mInvalidLicense\u001b[0m: License check failed. Please visit https://dato.com/support for support options."
     ]
    }
   ],
   "source": [
    "sf_marginal_effects_on_betweenness_df = gl.SFrame(data=marginal_effects_on_betweenness_df)\n",
    "sf_marginal_effects_on_betweenness_df.show()\n",
    "\n",
    "#https://dato.com/products/create/docs/graphlab.canvas.html\n",
    "gl.canvas.set_target('ipynb')\n",
    "#gl.canvas.set_target('browser')\n",
    "#show(view=\"Summary\")"
   ]
  },
  {
   "cell_type": "code",
   "execution_count": null,
   "metadata": {
    "collapsed": false
   },
   "outputs": [],
   "source": [
    "sf_marginal_effects_on_betweenness_df.show(view=\"Summary\")"
   ]
  },
  {
   "cell_type": "code",
   "execution_count": null,
   "metadata": {
    "collapsed": true
   },
   "outputs": [],
   "source": []
  },
  {
   "cell_type": "code",
   "execution_count": 78,
   "metadata": {
    "collapsed": false
   },
   "outputs": [
    {
     "ename": "NameError",
     "evalue": "name 'sf_marginal_effects_on_betweenness_df' is not defined",
     "output_type": "error",
     "traceback": [
      "\u001b[0;31m---------------------------------------------------------------------------\u001b[0m",
      "\u001b[0;31mNameError\u001b[0m                                 Traceback (most recent call last)",
      "\u001b[0;32m<ipython-input-78-b467cc76ab5d>\u001b[0m in \u001b[0;36m<module>\u001b[0;34m()\u001b[0m\n\u001b[1;32m      1\u001b[0m \u001b[0;31m# https://dato.com/products/create/docs/generated/graphlab.SFrame.show.html\u001b[0m\u001b[0;34m\u001b[0m\u001b[0;34m\u001b[0m\u001b[0m\n\u001b[0;32m----> 2\u001b[0;31m \u001b[0msf_marginal_effects_on_betweenness_df\u001b[0m\u001b[0;34m.\u001b[0m\u001b[0mshow\u001b[0m\u001b[0;34m(\u001b[0m\u001b[0mview\u001b[0m\u001b[0;34m=\u001b[0m\u001b[0;34m\"Scatter Plot\"\u001b[0m\u001b[0;34m,\u001b[0m \u001b[0mx\u001b[0m\u001b[0;34m=\u001b[0m\u001b[0;34m\"network_range\"\u001b[0m\u001b[0;34m,\u001b[0m \u001b[0my\u001b[0m\u001b[0;34m=\u001b[0m\u001b[0;34m\"Chg_Betw_Centrality_from_sAgr\"\u001b[0m\u001b[0;34m)\u001b[0m\u001b[0;34m\u001b[0m\u001b[0m\n\u001b[0m\u001b[1;32m      3\u001b[0m \u001b[0msf_marginal_effects_on_betweenness_df\u001b[0m\u001b[0;34m.\u001b[0m\u001b[0mshow\u001b[0m\u001b[0;34m(\u001b[0m\u001b[0mview\u001b[0m\u001b[0;34m=\u001b[0m\u001b[0;34m\"Scatter Plot\"\u001b[0m\u001b[0;34m,\u001b[0m \u001b[0mx\u001b[0m\u001b[0;34m=\u001b[0m\u001b[0;34m\"network_range\"\u001b[0m\u001b[0;34m,\u001b[0m \u001b[0my\u001b[0m\u001b[0;34m=\u001b[0m\u001b[0;34m\"Chg_Betw_Centrality_from_sCon\"\u001b[0m\u001b[0;34m)\u001b[0m\u001b[0;34m\u001b[0m\u001b[0m\n\u001b[1;32m      4\u001b[0m \u001b[0msf_marginal_effects_on_betweenness_df\u001b[0m\u001b[0;34m.\u001b[0m\u001b[0mshow\u001b[0m\u001b[0;34m(\u001b[0m\u001b[0mview\u001b[0m\u001b[0;34m=\u001b[0m\u001b[0;34m\"Scatter Plot\"\u001b[0m\u001b[0;34m,\u001b[0m \u001b[0mx\u001b[0m\u001b[0;34m=\u001b[0m\u001b[0;34m\"network_range\"\u001b[0m\u001b[0;34m,\u001b[0m \u001b[0my\u001b[0m\u001b[0;34m=\u001b[0m\u001b[0;34m\"Chg_Betw_Centrality_from_sExt\"\u001b[0m\u001b[0;34m)\u001b[0m\u001b[0;34m\u001b[0m\u001b[0m\n\u001b[1;32m      5\u001b[0m \u001b[0msf_marginal_effects_on_betweenness_df\u001b[0m\u001b[0;34m.\u001b[0m\u001b[0mshow\u001b[0m\u001b[0;34m(\u001b[0m\u001b[0mview\u001b[0m\u001b[0;34m=\u001b[0m\u001b[0;34m\"Scatter Plot\"\u001b[0m\u001b[0;34m,\u001b[0m \u001b[0mx\u001b[0m\u001b[0;34m=\u001b[0m\u001b[0;34m\"network_range\"\u001b[0m\u001b[0;34m,\u001b[0m \u001b[0my\u001b[0m\u001b[0;34m=\u001b[0m\u001b[0;34m\"Chg_Betw_Centrality_from_sNeu\"\u001b[0m\u001b[0;34m)\u001b[0m\u001b[0;34m\u001b[0m\u001b[0m\n",
      "\u001b[0;31mNameError\u001b[0m: name 'sf_marginal_effects_on_betweenness_df' is not defined"
     ]
    }
   ],
   "source": [
    "# https://dato.com/products/create/docs/generated/graphlab.SFrame.show.html\n",
    "sf_marginal_effects_on_betweenness_df.show(view=\"Scatter Plot\", x=\"network_range\", y=\"Chg_Betw_Centrality_from_sAgr\")\n",
    "sf_marginal_effects_on_betweenness_df.show(view=\"Scatter Plot\", x=\"network_range\", y=\"Chg_Betw_Centrality_from_sCon\")\n",
    "sf_marginal_effects_on_betweenness_df.show(view=\"Scatter Plot\", x=\"network_range\", y=\"Chg_Betw_Centrality_from_sExt\")\n",
    "sf_marginal_effects_on_betweenness_df.show(view=\"Scatter Plot\", x=\"network_range\", y=\"Chg_Betw_Centrality_from_sNeu\")\n",
    "sf_marginal_effects_on_betweenness_df.show(view=\"Scatter Plot\", x=\"network_range\", y=\"Chg_Betw_Centrality_from_sOpn\")\n",
    "# Other useful: https://dato.com/learn/userguide/timeseries/timeseries-data.html"
   ]
  },
  {
   "cell_type": "code",
   "execution_count": null,
   "metadata": {
    "collapsed": true
   },
   "outputs": [],
   "source": []
  },
  {
   "cell_type": "code",
   "execution_count": null,
   "metadata": {
    "collapsed": true
   },
   "outputs": [],
   "source": []
  },
  {
   "cell_type": "code",
   "execution_count": null,
   "metadata": {
    "collapsed": false
   },
   "outputs": [],
   "source": []
  },
  {
   "cell_type": "code",
   "execution_count": null,
   "metadata": {
    "collapsed": false
   },
   "outputs": [],
   "source": []
  },
  {
   "cell_type": "markdown",
   "metadata": {},
   "source": [
    "# Doing the charts for sAgr"
   ]
  },
  {
   "cell_type": "code",
   "execution_count": null,
   "metadata": {
    "collapsed": false
   },
   "outputs": [],
   "source": []
  },
  {
   "cell_type": "code",
   "execution_count": 89,
   "metadata": {
    "collapsed": false
   },
   "outputs": [
    {
     "ename": "NameError",
     "evalue": "name 'y' is not defined",
     "output_type": "error",
     "traceback": [
      "\u001b[0;31m---------------------------------------------------------------------------\u001b[0m",
      "\u001b[0;31mNameError\u001b[0m                                 Traceback (most recent call last)",
      "\u001b[0;32m<ipython-input-89-009520053b00>\u001b[0m in \u001b[0;36m<module>\u001b[0;34m()\u001b[0m\n\u001b[0;32m----> 1\u001b[0;31m \u001b[0my\u001b[0m\u001b[0;34m\u001b[0m\u001b[0m\n\u001b[0m",
      "\u001b[0;31mNameError\u001b[0m: name 'y' is not defined"
     ]
    }
   ],
   "source": [
    "y."
   ]
  },
  {
   "cell_type": "code",
   "execution_count": 90,
   "metadata": {
    "collapsed": false
   },
   "outputs": [
    {
     "ename": "NameError",
     "evalue": "name 'y__sAgr' is not defined",
     "output_type": "error",
     "traceback": [
      "\u001b[0;31m---------------------------------------------------------------------------\u001b[0m",
      "\u001b[0;31mNameError\u001b[0m                                 Traceback (most recent call last)",
      "\u001b[0;32m<ipython-input-90-9f2ed135b2c0>\u001b[0m in \u001b[0;36m<module>\u001b[0;34m()\u001b[0m\n\u001b[1;32m      6\u001b[0m \u001b[0;31m# extracts the first element of the list into l1 using tuple\u001b[0m\u001b[0;34m\u001b[0m\u001b[0;34m\u001b[0m\u001b[0m\n\u001b[1;32m      7\u001b[0m \u001b[0;31m# unpacking.  So l1 is a Line2D instance, not a sequence of lines\u001b[0m\u001b[0;34m\u001b[0m\u001b[0;34m\u001b[0m\u001b[0m\n\u001b[0;32m----> 8\u001b[0;31m \u001b[0ml1\u001b[0m\u001b[0;34m,\u001b[0m \u001b[0;34m=\u001b[0m \u001b[0mplt\u001b[0m\u001b[0;34m.\u001b[0m\u001b[0mplot\u001b[0m\u001b[0;34m(\u001b[0m\u001b[0mnetwork_range\u001b[0m\u001b[0;34m,\u001b[0m \u001b[0my__sAgr\u001b[0m\u001b[0;34m,\u001b[0m\u001b[0;34m'rs-.'\u001b[0m\u001b[0;34m)\u001b[0m\u001b[0;34m\u001b[0m\u001b[0m\n\u001b[0m\u001b[1;32m      9\u001b[0m \u001b[0ml2\u001b[0m\u001b[0;34m,\u001b[0m \u001b[0;34m=\u001b[0m \u001b[0mplt\u001b[0m\u001b[0;34m.\u001b[0m\u001b[0mplot\u001b[0m\u001b[0;34m(\u001b[0m\u001b[0mnp\u001b[0m\u001b[0;34m.\u001b[0m\u001b[0mzeros\u001b[0m\u001b[0;34m(\u001b[0m\u001b[0mlen\u001b[0m\u001b[0;34m(\u001b[0m\u001b[0mnetwork_range\u001b[0m\u001b[0;34m)\u001b[0m\u001b[0;34m)\u001b[0m\u001b[0;34m)\u001b[0m     \u001b[0;31m# Adding the baseline at zero\u001b[0m\u001b[0;34m\u001b[0m\u001b[0m\n\u001b[1;32m     10\u001b[0m \u001b[0;34m\u001b[0m\u001b[0m\n",
      "\u001b[0;31mNameError\u001b[0m: name 'y__sAgr' is not defined"
     ]
    },
    {
     "data": {
      "text/plain": [
       "<matplotlib.figure.Figure at 0x114c9efd0>"
      ]
     },
     "metadata": {},
     "output_type": "display_data"
    },
    {
     "data": {
      "text/plain": [
       "<matplotlib.figure.Figure at 0x114c9e990>"
      ]
     },
     "metadata": {},
     "output_type": "display_data"
    }
   ],
   "source": [
    "fig3 = plt.figure()\n",
    "plt.figure(figsize = (20,10))\n",
    "# Make a legend for specific lines.\n",
    "\n",
    "# note that plot returns a list of lines.  The \"l1, = plot\" usage\n",
    "# extracts the first element of the list into l1 using tuple\n",
    "# unpacking.  So l1 is a Line2D instance, not a sequence of lines\n",
    "l1, = plt.plot(network_range, y__sAgr,'rs-.')\n",
    "l2, = plt.plot(np.zeros(len(network_range)))     # Adding the baseline at zero\n",
    "\n",
    "l_95_minus, = plt.plot(network_range,Chg_Betw_Centrality_from_sAgr_95_minus)\n",
    "l_95_plus,= plt.plot(network_range,Chg_Betw_Centrality_from_sAgr_95_plus)\n",
    "\n",
    "#l4, = plt.plot(x, np.exp(-x) * np.sin(2 * np.pi * x), 'rs-.')\n",
    "\n",
    "plt.xlabel('Network')\n",
    "plt.ylabel('Ch. in Bet. Centrality')\n",
    "plt.title('Change in Betweenness Centrality due to sAgr as Network Changes')\n"
   ]
  },
  {
   "cell_type": "code",
   "execution_count": 81,
   "metadata": {
    "collapsed": false
   },
   "outputs": [
    {
     "ename": "NameError",
     "evalue": "name 'y__sCon' is not defined",
     "output_type": "error",
     "traceback": [
      "\u001b[0;31m---------------------------------------------------------------------------\u001b[0m",
      "\u001b[0;31mNameError\u001b[0m                                 Traceback (most recent call last)",
      "\u001b[0;32m<ipython-input-81-1cc576c397fe>\u001b[0m in \u001b[0;36m<module>\u001b[0;34m()\u001b[0m\n\u001b[1;32m      6\u001b[0m \u001b[0;31m# extracts the first element of the list into l1 using tuple\u001b[0m\u001b[0;34m\u001b[0m\u001b[0;34m\u001b[0m\u001b[0m\n\u001b[1;32m      7\u001b[0m \u001b[0;31m# unpacking.  So l1 is a Line2D instance, not a sequence of lines\u001b[0m\u001b[0;34m\u001b[0m\u001b[0;34m\u001b[0m\u001b[0m\n\u001b[0;32m----> 8\u001b[0;31m \u001b[0ml1\u001b[0m\u001b[0;34m,\u001b[0m \u001b[0;34m=\u001b[0m \u001b[0mplt\u001b[0m\u001b[0;34m.\u001b[0m\u001b[0mplot\u001b[0m\u001b[0;34m(\u001b[0m\u001b[0mnetwork_range\u001b[0m\u001b[0;34m,\u001b[0m \u001b[0my__sCon\u001b[0m\u001b[0;34m,\u001b[0m\u001b[0;34m'rs-.'\u001b[0m\u001b[0;34m)\u001b[0m\u001b[0;34m\u001b[0m\u001b[0m\n\u001b[0m\u001b[1;32m      9\u001b[0m \u001b[0ml2\u001b[0m\u001b[0;34m,\u001b[0m \u001b[0;34m=\u001b[0m \u001b[0mplt\u001b[0m\u001b[0;34m.\u001b[0m\u001b[0mplot\u001b[0m\u001b[0;34m(\u001b[0m\u001b[0mnp\u001b[0m\u001b[0;34m.\u001b[0m\u001b[0mzeros\u001b[0m\u001b[0;34m(\u001b[0m\u001b[0mlen\u001b[0m\u001b[0;34m(\u001b[0m\u001b[0mnetwork_range\u001b[0m\u001b[0;34m)\u001b[0m\u001b[0;34m)\u001b[0m\u001b[0;34m)\u001b[0m     \u001b[0;31m# Adding the baseline at zero\u001b[0m\u001b[0;34m\u001b[0m\u001b[0m\n\u001b[1;32m     10\u001b[0m \u001b[0;34m\u001b[0m\u001b[0m\n",
      "\u001b[0;31mNameError\u001b[0m: name 'y__sCon' is not defined"
     ]
    },
    {
     "data": {
      "text/plain": [
       "<matplotlib.figure.Figure at 0x116010790>"
      ]
     },
     "metadata": {},
     "output_type": "display_data"
    },
    {
     "data": {
      "text/plain": [
       "<matplotlib.figure.Figure at 0x115590b50>"
      ]
     },
     "metadata": {},
     "output_type": "display_data"
    }
   ],
   "source": [
    "fig3 = plt.figure()\n",
    "plt.figure(figsize = (20,10))\n",
    "# Make a legend for specific lines.\n",
    "\n",
    "# note that plot returns a list of lines.  The \"l1, = plot\" usage\n",
    "# extracts the first element of the list into l1 using tuple\n",
    "# unpacking.  So l1 is a Line2D instance, not a sequence of lines\n",
    "l1, = plt.plot(network_range, y__sCon,'rs-.')\n",
    "l2, = plt.plot(np.zeros(len(network_range)))     # Adding the baseline at zero\n",
    "\n",
    "l_95_minus, = plt.plot(network_range,Chg_Betw_Centrality_from_sCon_95_minus)\n",
    "l_95_plus,= plt.plot(network_range,Chg_Betw_Centrality_from_sCon_95_plus)\n",
    "\n",
    "plt.xlabel('Network')\n",
    "plt.ylabel('Ch. in Bet. Centrality')\n",
    "plt.title('Change in Betweenness Centrality due to sCon as Network Changes')"
   ]
  },
  {
   "cell_type": "code",
   "execution_count": null,
   "metadata": {
    "collapsed": false
   },
   "outputs": [],
   "source": []
  },
  {
   "cell_type": "code",
   "execution_count": 82,
   "metadata": {
    "collapsed": false
   },
   "outputs": [
    {
     "ename": "NameError",
     "evalue": "name 'y__sExt' is not defined",
     "output_type": "error",
     "traceback": [
      "\u001b[0;31m---------------------------------------------------------------------------\u001b[0m",
      "\u001b[0;31mNameError\u001b[0m                                 Traceback (most recent call last)",
      "\u001b[0;32m<ipython-input-82-bc2a30d5b324>\u001b[0m in \u001b[0;36m<module>\u001b[0;34m()\u001b[0m\n\u001b[1;32m      7\u001b[0m \u001b[0;31m# extracts the first element of the list into l1 using tuple\u001b[0m\u001b[0;34m\u001b[0m\u001b[0;34m\u001b[0m\u001b[0m\n\u001b[1;32m      8\u001b[0m \u001b[0;31m# unpacking.  So l1 is a Line2D instance, not a sequence of lines\u001b[0m\u001b[0;34m\u001b[0m\u001b[0;34m\u001b[0m\u001b[0m\n\u001b[0;32m----> 9\u001b[0;31m \u001b[0ml1\u001b[0m\u001b[0;34m,\u001b[0m \u001b[0;34m=\u001b[0m \u001b[0mplt\u001b[0m\u001b[0;34m.\u001b[0m\u001b[0mplot\u001b[0m\u001b[0;34m(\u001b[0m\u001b[0mnetwork_range\u001b[0m\u001b[0;34m,\u001b[0m \u001b[0my__sExt\u001b[0m\u001b[0;34m,\u001b[0m\u001b[0;34m'rs-.'\u001b[0m\u001b[0;34m)\u001b[0m\u001b[0;34m\u001b[0m\u001b[0m\n\u001b[0m\u001b[1;32m     10\u001b[0m \u001b[0ml2\u001b[0m\u001b[0;34m,\u001b[0m \u001b[0;34m=\u001b[0m \u001b[0mplt\u001b[0m\u001b[0;34m.\u001b[0m\u001b[0mplot\u001b[0m\u001b[0;34m(\u001b[0m\u001b[0mnp\u001b[0m\u001b[0;34m.\u001b[0m\u001b[0mzeros\u001b[0m\u001b[0;34m(\u001b[0m\u001b[0mlen\u001b[0m\u001b[0;34m(\u001b[0m\u001b[0mnetwork_range\u001b[0m\u001b[0;34m)\u001b[0m\u001b[0;34m)\u001b[0m\u001b[0;34m)\u001b[0m     \u001b[0;31m# Adding the baseline at zero\u001b[0m\u001b[0;34m\u001b[0m\u001b[0m\n\u001b[1;32m     11\u001b[0m \u001b[0;34m\u001b[0m\u001b[0m\n",
      "\u001b[0;31mNameError\u001b[0m: name 'y__sExt' is not defined"
     ]
    },
    {
     "data": {
      "text/plain": [
       "<matplotlib.figure.Figure at 0x1155bec90>"
      ]
     },
     "metadata": {},
     "output_type": "display_data"
    },
    {
     "data": {
      "text/plain": [
       "<matplotlib.figure.Figure at 0x1155bec50>"
      ]
     },
     "metadata": {},
     "output_type": "display_data"
    }
   ],
   "source": [
    "\n",
    "fig3 = plt.figure()\n",
    "plt.figure(figsize = (20,10))\n",
    "# Make a legend for specific lines.\n",
    "\n",
    "# note that plot returns a list of lines.  The \"l1, = plot\" usage\n",
    "# extracts the first element of the list into l1 using tuple\n",
    "# unpacking.  So l1 is a Line2D instance, not a sequence of lines\n",
    "l1, = plt.plot(network_range, y__sExt,'rs-.')\n",
    "l2, = plt.plot(np.zeros(len(network_range)))     # Adding the baseline at zero\n",
    "\n",
    "\n",
    "l_95_minus, = plt.plot(network_range,Chg_Betw_Centrality_from_sExt_95_minus)\n",
    "l_95_plus,= plt.plot(network_range,Chg_Betw_Centrality_from_sExt_95_plus)\n",
    "\n",
    "\n",
    "plt.xlabel('Network')\n",
    "plt.ylabel('Ch. in Bet. Centrality')\n",
    "plt.title('Change in Betweenness Centrality due to sExt as Network Changes')\n"
   ]
  },
  {
   "cell_type": "code",
   "execution_count": 83,
   "metadata": {
    "collapsed": false
   },
   "outputs": [
    {
     "ename": "NameError",
     "evalue": "name 'y__sNeu' is not defined",
     "output_type": "error",
     "traceback": [
      "\u001b[0;31m---------------------------------------------------------------------------\u001b[0m",
      "\u001b[0;31mNameError\u001b[0m                                 Traceback (most recent call last)",
      "\u001b[0;32m<ipython-input-83-0d05a7531705>\u001b[0m in \u001b[0;36m<module>\u001b[0;34m()\u001b[0m\n\u001b[1;32m      6\u001b[0m \u001b[0;31m# extracts the first element of the list into l1 using tuple\u001b[0m\u001b[0;34m\u001b[0m\u001b[0;34m\u001b[0m\u001b[0m\n\u001b[1;32m      7\u001b[0m \u001b[0;31m# unpacking.  So l1 is a Line2D instance, not a sequence of lines\u001b[0m\u001b[0;34m\u001b[0m\u001b[0;34m\u001b[0m\u001b[0m\n\u001b[0;32m----> 8\u001b[0;31m \u001b[0ml1\u001b[0m\u001b[0;34m,\u001b[0m \u001b[0;34m=\u001b[0m \u001b[0mplt\u001b[0m\u001b[0;34m.\u001b[0m\u001b[0mplot\u001b[0m\u001b[0;34m(\u001b[0m\u001b[0mnetwork_range\u001b[0m\u001b[0;34m,\u001b[0m \u001b[0my__sNeu\u001b[0m\u001b[0;34m,\u001b[0m\u001b[0;34m'rs-.'\u001b[0m\u001b[0;34m)\u001b[0m\u001b[0;34m\u001b[0m\u001b[0m\n\u001b[0m\u001b[1;32m      9\u001b[0m \u001b[0ml2\u001b[0m\u001b[0;34m,\u001b[0m \u001b[0;34m=\u001b[0m \u001b[0mplt\u001b[0m\u001b[0;34m.\u001b[0m\u001b[0mplot\u001b[0m\u001b[0;34m(\u001b[0m\u001b[0mnp\u001b[0m\u001b[0;34m.\u001b[0m\u001b[0mzeros\u001b[0m\u001b[0;34m(\u001b[0m\u001b[0mlen\u001b[0m\u001b[0;34m(\u001b[0m\u001b[0mnetwork_range\u001b[0m\u001b[0;34m)\u001b[0m\u001b[0;34m)\u001b[0m\u001b[0;34m)\u001b[0m     \u001b[0;31m# Adding the baseline at zero\u001b[0m\u001b[0;34m\u001b[0m\u001b[0m\n\u001b[1;32m     10\u001b[0m \u001b[0;34m\u001b[0m\u001b[0m\n",
      "\u001b[0;31mNameError\u001b[0m: name 'y__sNeu' is not defined"
     ]
    },
    {
     "data": {
      "text/plain": [
       "<matplotlib.figure.Figure at 0x1153a4950>"
      ]
     },
     "metadata": {},
     "output_type": "display_data"
    },
    {
     "data": {
      "text/plain": [
       "<matplotlib.figure.Figure at 0x1153a4910>"
      ]
     },
     "metadata": {},
     "output_type": "display_data"
    }
   ],
   "source": [
    "fig3 = plt.figure()\n",
    "plt.figure(figsize = (20,10))\n",
    "# Make a legend for specific lines.\n",
    "\n",
    "# note that plot returns a list of lines.  The \"l1, = plot\" usage\n",
    "# extracts the first element of the list into l1 using tuple\n",
    "# unpacking.  So l1 is a Line2D instance, not a sequence of lines\n",
    "l1, = plt.plot(network_range, y__sNeu,'rs-.')\n",
    "l2, = plt.plot(np.zeros(len(network_range)))     # Adding the baseline at zero\n",
    "\n",
    "l_95_minus, = plt.plot(network_range,Chg_Betw_Centrality_from_sNeu_95_minus)\n",
    "l_95_plus,= plt.plot(network_range,Chg_Betw_Centrality_from_sNeu_95_plus)\n",
    "\n",
    "plt.xlabel('Network')\n",
    "plt.ylabel('Ch. in Bet. Centrality')\n",
    "plt.title('Change in Betweenness Centrality due to sNeu as Network Changes')"
   ]
  },
  {
   "cell_type": "code",
   "execution_count": 84,
   "metadata": {
    "collapsed": false
   },
   "outputs": [
    {
     "ename": "NameError",
     "evalue": "name 'y__sOpn' is not defined",
     "output_type": "error",
     "traceback": [
      "\u001b[0;31m---------------------------------------------------------------------------\u001b[0m",
      "\u001b[0;31mNameError\u001b[0m                                 Traceback (most recent call last)",
      "\u001b[0;32m<ipython-input-84-32fd502b998b>\u001b[0m in \u001b[0;36m<module>\u001b[0;34m()\u001b[0m\n\u001b[1;32m      7\u001b[0m \u001b[0;31m# extracts the first element of the list into l1 using tuple\u001b[0m\u001b[0;34m\u001b[0m\u001b[0;34m\u001b[0m\u001b[0m\n\u001b[1;32m      8\u001b[0m \u001b[0;31m# unpacking.  So l1 is a Line2D instance, not a sequence of lines\u001b[0m\u001b[0;34m\u001b[0m\u001b[0;34m\u001b[0m\u001b[0m\n\u001b[0;32m----> 9\u001b[0;31m \u001b[0ml1\u001b[0m\u001b[0;34m,\u001b[0m \u001b[0;34m=\u001b[0m \u001b[0mplt\u001b[0m\u001b[0;34m.\u001b[0m\u001b[0mplot\u001b[0m\u001b[0;34m(\u001b[0m\u001b[0mnetwork_range\u001b[0m\u001b[0;34m,\u001b[0m \u001b[0my__sOpn\u001b[0m\u001b[0;34m,\u001b[0m\u001b[0;34m'rs-.'\u001b[0m\u001b[0;34m)\u001b[0m\u001b[0;34m\u001b[0m\u001b[0m\n\u001b[0m\u001b[1;32m     10\u001b[0m \u001b[0ml2\u001b[0m\u001b[0;34m,\u001b[0m \u001b[0;34m=\u001b[0m \u001b[0mplt\u001b[0m\u001b[0;34m.\u001b[0m\u001b[0mplot\u001b[0m\u001b[0;34m(\u001b[0m\u001b[0mnp\u001b[0m\u001b[0;34m.\u001b[0m\u001b[0mzeros\u001b[0m\u001b[0;34m(\u001b[0m\u001b[0mlen\u001b[0m\u001b[0;34m(\u001b[0m\u001b[0mnetwork_range\u001b[0m\u001b[0;34m)\u001b[0m\u001b[0;34m)\u001b[0m\u001b[0;34m)\u001b[0m     \u001b[0;31m# Adding the baseline at zero\u001b[0m\u001b[0;34m\u001b[0m\u001b[0m\n\u001b[1;32m     11\u001b[0m \u001b[0;34m\u001b[0m\u001b[0m\n",
      "\u001b[0;31mNameError\u001b[0m: name 'y__sOpn' is not defined"
     ]
    },
    {
     "data": {
      "text/plain": [
       "<matplotlib.figure.Figure at 0x1155ad1d0>"
      ]
     },
     "metadata": {},
     "output_type": "display_data"
    },
    {
     "data": {
      "text/plain": [
       "<matplotlib.figure.Figure at 0x1155ad190>"
      ]
     },
     "metadata": {},
     "output_type": "display_data"
    }
   ],
   "source": [
    "\n",
    "fig3 = plt.figure()\n",
    "plt.figure(figsize = (20,10))\n",
    "# Make a legend for specific lines.\n",
    "\n",
    "# note that plot returns a list of lines.  The \"l1, = plot\" usage\n",
    "# extracts the first element of the list into l1 using tuple\n",
    "# unpacking.  So l1 is a Line2D instance, not a sequence of lines\n",
    "l1, = plt.plot(network_range, y__sOpn,'rs-.')\n",
    "l2, = plt.plot(np.zeros(len(network_range)))     # Adding the baseline at zero\n",
    "\n",
    "\n",
    "l_95_minus, = plt.plot(network_range,Chg_Betw_Centrality_from_sOpn_95_minus)\n",
    "l_95_plus,= plt.plot(network_range,Chg_Betw_Centrality_from_sOpn_95_plus)\n",
    "\n",
    "\n",
    "plt.xlabel('Network')\n",
    "plt.ylabel('Ch. in Bet. Centrality')\n",
    "plt.title('Change in Betweenness Centrality due to sOpn as Network Changes')\n"
   ]
  },
  {
   "cell_type": "code",
   "execution_count": null,
   "metadata": {
    "collapsed": true
   },
   "outputs": [],
   "source": []
  },
  {
   "cell_type": "code",
   "execution_count": null,
   "metadata": {
    "collapsed": true
   },
   "outputs": [],
   "source": []
  },
  {
   "cell_type": "code",
   "execution_count": null,
   "metadata": {
    "collapsed": true
   },
   "outputs": [],
   "source": []
  },
  {
   "cell_type": "code",
   "execution_count": null,
   "metadata": {
    "collapsed": true
   },
   "outputs": [],
   "source": []
  },
  {
   "cell_type": "code",
   "execution_count": null,
   "metadata": {
    "collapsed": true
   },
   "outputs": [],
   "source": []
  },
  {
   "cell_type": "code",
   "execution_count": null,
   "metadata": {
    "collapsed": false
   },
   "outputs": [],
   "source": [
    "X_big5_and_network.describe()"
   ]
  },
  {
   "cell_type": "markdown",
   "metadata": {},
   "source": [
    "# Reflection on results"
   ]
  },
  {
   "cell_type": "markdown",
   "metadata": {},
   "source": [
    "We find the biggest \n",
    "\n",
    "Neuroticism and Openess Cobined -- Tend to greatly inccrease\n",
    "\n",
    "Extroversion & Conscientiousnes Combined --- interesting that in one version the effect is positive, but too much extroversion and conscientiousness leads to negative effect. \n",
    "\n",
    "Aggreableness -- Tends to increase the value...but why to the 4th power?\n",
    "\n",
    "What's with the (Aggreableness + Openness) combo and why do they tend to make negative results?"
   ]
  },
  {
   "cell_type": "code",
   "execution_count": null,
   "metadata": {
    "collapsed": true
   },
   "outputs": [],
   "source": []
  },
  {
   "cell_type": "code",
   "execution_count": null,
   "metadata": {
    "collapsed": false
   },
   "outputs": [],
   "source": []
  },
  {
   "cell_type": "markdown",
   "metadata": {},
   "source": [
    "### Step 4: Against the CV set, compare the cost functions for each of the models and choose which model is the best (predict... and then get the difference) + ALso compare the adjusted R squared for all of them"
   ]
  },
  {
   "cell_type": "markdown",
   "metadata": {},
   "source": [
    "### Step 5: Once the model is chosen, retrain that model using the combination of CV + Training"
   ]
  },
  {
   "cell_type": "markdown",
   "metadata": {},
   "source": [
    "### Step 6: Test your final model against your test set."
   ]
  },
  {
   "cell_type": "code",
   "execution_count": null,
   "metadata": {
    "collapsed": false
   },
   "outputs": [],
   "source": [
    "Diagnostic Tool #1:\n",
    "\n",
    "https://theclevermachine.files.wordpress.com/2013/04/bias-variance-train-test-error.png"
   ]
  },
  {
   "cell_type": "code",
   "execution_count": null,
   "metadata": {
    "collapsed": false
   },
   "outputs": [],
   "source": [
    "Diagnostic Tool #2\n",
    "### Step 7 - If you increase the size of your training set (from 0 to the full amount)\n",
    "http://www.bigdataexaminer.com/wp-content/uploads/2014/11/code-9.png"
   ]
  },
  {
   "cell_type": "markdown",
   "metadata": {},
   "source": [
    "# Analysis & Interpretations"
   ]
  },
  {
   "cell_type": "code",
   "execution_count": null,
   "metadata": {
    "collapsed": true
   },
   "outputs": [],
   "source": []
  },
  {
   "cell_type": "code",
   "execution_count": null,
   "metadata": {
    "collapsed": true
   },
   "outputs": [],
   "source": []
  },
  {
   "cell_type": "markdown",
   "metadata": {
    "collapsed": true
   },
   "source": [
    "# Next Steps"
   ]
  },
  {
   "cell_type": "code",
   "execution_count": 15,
   "metadata": {
    "collapsed": false
   },
   "outputs": [
    {
     "ename": "SyntaxError",
     "evalue": "invalid syntax (<ipython-input-15-264c87cddacf>, line 1)",
     "output_type": "error",
     "traceback": [
      "\u001b[0;36m  File \u001b[0;32m\"<ipython-input-15-264c87cddacf>\"\u001b[0;36m, line \u001b[0;32m1\u001b[0m\n\u001b[0;31m    Add sentiment analysis stuff\u001b[0m\n\u001b[0m                ^\u001b[0m\n\u001b[0;31mSyntaxError\u001b[0m\u001b[0;31m:\u001b[0m invalid syntax\n"
     ]
    }
   ],
   "source": [
    "Add sentiment analysis stuff\n",
    "# Create Repository called luther (?)\n",
    "\n",
    "# Extract out #auth & status updates\n",
    "\n",
    "# Generate some \"word usage\" variable per person (collapse all statuses into a single metric per person)\n",
    "\n",
    "# Add that metric to your model\n",
    "# See if that's representative for the centrality metrics."
   ]
  },
  {
   "cell_type": "code",
   "execution_count": null,
   "metadata": {
    "collapsed": true
   },
   "outputs": [],
   "source": []
  },
  {
   "cell_type": "code",
   "execution_count": 16,
   "metadata": {
    "collapsed": true
   },
   "outputs": [],
   "source": [
    "#) Identify the profile for the \"lowest\" network users based on profile. and highest -- display the two types of profiles created."
   ]
  },
  {
   "cell_type": "markdown",
   "metadata": {
    "collapsed": false
   },
   "source": [
    "Next Steps:\n",
    "    - K means of dataset/users / networks\n",
    "    - Sentiment analysis as an additional feature (word2vec?)\n",
    "    - Considering alternate network theory variables (e.g. centrality, etc...)"
   ]
  },
  {
   "cell_type": "code",
   "execution_count": null,
   "metadata": {
    "collapsed": true
   },
   "outputs": [],
   "source": []
  },
  {
   "cell_type": "code",
   "execution_count": 17,
   "metadata": {
    "collapsed": false
   },
   "outputs": [],
   "source": [
    "import graphlab as gl"
   ]
  },
  {
   "cell_type": "code",
   "execution_count": 18,
   "metadata": {
    "collapsed": false
   },
   "outputs": [
    {
     "name": "stdout",
     "output_type": "stream",
     "text": [
      "This non-commercial license of GraphLab Create for academic use assigned to zr28@cornell.edu has expired. Please contact contact@turi.com for renewal options.\n"
     ]
    },
    {
     "ename": "InvalidLicense",
     "evalue": "License check failed. Please visit https://dato.com/support for support options.",
     "output_type": "error",
     "traceback": [
      "\u001b[0;31m---------------------------------------------------------------------------\u001b[0m",
      "\u001b[0;31mInvalidLicense\u001b[0m                            Traceback (most recent call last)",
      "\u001b[0;32m<ipython-input-18-9863be580cbb>\u001b[0m in \u001b[0;36m<module>\u001b[0;34m()\u001b[0m\n\u001b[1;32m      1\u001b[0m \u001b[0;31m#df = pandas.DataFrame()\u001b[0m\u001b[0;34m\u001b[0m\u001b[0;34m\u001b[0m\u001b[0m\n\u001b[0;32m----> 2\u001b[0;31m \u001b[0msf_grouped\u001b[0m \u001b[0;34m=\u001b[0m \u001b[0mgl\u001b[0m\u001b[0;34m.\u001b[0m\u001b[0mSFrame\u001b[0m\u001b[0;34m(\u001b[0m\u001b[0mdata\u001b[0m\u001b[0;34m=\u001b[0m\u001b[0mdf_grouped\u001b[0m\u001b[0;34m)\u001b[0m\u001b[0;34m\u001b[0m\u001b[0m\n\u001b[0m",
      "\u001b[0;32m//anaconda/lib/python2.7/site-packages/graphlab/data_structures/sframe.pyc\u001b[0m in \u001b[0;36m__init__\u001b[0;34m(self, data, format, _proxy)\u001b[0m\n\u001b[1;32m    874\u001b[0m             \u001b[0mself\u001b[0m\u001b[0;34m.\u001b[0m\u001b[0m__proxy__\u001b[0m \u001b[0;34m=\u001b[0m \u001b[0m_proxy\u001b[0m\u001b[0;34m\u001b[0m\u001b[0m\n\u001b[1;32m    875\u001b[0m         \u001b[0;32melse\u001b[0m\u001b[0;34m:\u001b[0m\u001b[0;34m\u001b[0m\u001b[0m\n\u001b[0;32m--> 876\u001b[0;31m             \u001b[0mself\u001b[0m\u001b[0;34m.\u001b[0m\u001b[0m__proxy__\u001b[0m \u001b[0;34m=\u001b[0m \u001b[0mUnitySFrameProxy\u001b[0m\u001b[0;34m(\u001b[0m\u001b[0mglconnect\u001b[0m\u001b[0;34m.\u001b[0m\u001b[0mget_client\u001b[0m\u001b[0;34m(\u001b[0m\u001b[0;34m)\u001b[0m\u001b[0;34m)\u001b[0m\u001b[0;34m\u001b[0m\u001b[0m\n\u001b[0m\u001b[1;32m    877\u001b[0m             \u001b[0m_format\u001b[0m \u001b[0;34m=\u001b[0m \u001b[0mNone\u001b[0m\u001b[0;34m\u001b[0m\u001b[0m\n\u001b[1;32m    878\u001b[0m             \u001b[0;32mif\u001b[0m \u001b[0;34m(\u001b[0m\u001b[0mformat\u001b[0m \u001b[0;34m==\u001b[0m \u001b[0;34m'auto'\u001b[0m\u001b[0;34m)\u001b[0m\u001b[0;34m:\u001b[0m\u001b[0;34m\u001b[0m\u001b[0m\n",
      "\u001b[0;32m//anaconda/lib/python2.7/site-packages/graphlab/connect/main.pyc\u001b[0m in \u001b[0;36mget_client\u001b[0;34m()\u001b[0m\n\u001b[1;32m    139\u001b[0m     \"\"\"\n\u001b[1;32m    140\u001b[0m     \u001b[0;32mif\u001b[0m \u001b[0;32mnot\u001b[0m \u001b[0mis_connected\u001b[0m\u001b[0;34m(\u001b[0m\u001b[0;34m)\u001b[0m\u001b[0;34m:\u001b[0m\u001b[0;34m\u001b[0m\u001b[0m\n\u001b[0;32m--> 141\u001b[0;31m         \u001b[0mlaunch\u001b[0m\u001b[0;34m(\u001b[0m\u001b[0;34m)\u001b[0m\u001b[0;34m\u001b[0m\u001b[0m\n\u001b[0m\u001b[1;32m    142\u001b[0m     \u001b[0;32massert\u001b[0m \u001b[0mis_connected\u001b[0m\u001b[0;34m(\u001b[0m\u001b[0;34m)\u001b[0m\u001b[0;34m,\u001b[0m \u001b[0mENGINE_START_ERROR_MESSAGE\u001b[0m\u001b[0;34m\u001b[0m\u001b[0m\n\u001b[1;32m    143\u001b[0m     \u001b[0;32mreturn\u001b[0m \u001b[0m__CLIENT__\u001b[0m\u001b[0;34m\u001b[0m\u001b[0m\n",
      "\u001b[0;32m//anaconda/lib/python2.7/site-packages/graphlab/connect/main.pyc\u001b[0m in \u001b[0;36mlaunch\u001b[0;34m(server_addr, server_bin, server_log, auth_token, server_public_key)\u001b[0m\n\u001b[1;32m     91\u001b[0m         \u001b[0;32mif\u001b[0m \u001b[0mserver\u001b[0m\u001b[0;34m:\u001b[0m\u001b[0;34m\u001b[0m\u001b[0m\n\u001b[1;32m     92\u001b[0m             \u001b[0mserver\u001b[0m\u001b[0;34m.\u001b[0m\u001b[0mtry_stop\u001b[0m\u001b[0;34m(\u001b[0m\u001b[0;34m)\u001b[0m\u001b[0;34m\u001b[0m\u001b[0m\n\u001b[0;32m---> 93\u001b[0;31m         \u001b[0;32mraise\u001b[0m \u001b[0me\u001b[0m\u001b[0;34m\u001b[0m\u001b[0m\n\u001b[0m\u001b[1;32m     94\u001b[0m     \u001b[0mserver\u001b[0m\u001b[0;34m.\u001b[0m\u001b[0mset_log_progress\u001b[0m\u001b[0;34m(\u001b[0m\u001b[0mTrue\u001b[0m\u001b[0;34m)\u001b[0m\u001b[0;34m\u001b[0m\u001b[0m\n\u001b[1;32m     95\u001b[0m     \u001b[0;31m# start the client\u001b[0m\u001b[0;34m\u001b[0m\u001b[0;34m\u001b[0m\u001b[0m\n",
      "\u001b[0;31mInvalidLicense\u001b[0m: License check failed. Please visit https://dato.com/support for support options."
     ]
    }
   ],
   "source": [
    "#df = pandas.DataFrame()\n",
    "sf_grouped = gl.SFrame(data=df_grouped)"
   ]
  },
  {
   "cell_type": "code",
   "execution_count": null,
   "metadata": {
    "collapsed": false
   },
   "outputs": [],
   "source": [
    "sf_grouped"
   ]
  },
  {
   "cell_type": "code",
   "execution_count": null,
   "metadata": {
    "collapsed": false
   },
   "outputs": [],
   "source": [
    "8399.66/86.33"
   ]
  },
  {
   "cell_type": "code",
   "execution_count": null,
   "metadata": {
    "collapsed": false
   },
   "outputs": [],
   "source": [
    "8096.6/92.24"
   ]
  },
  {
   "cell_type": "code",
   "execution_count": null,
   "metadata": {
    "collapsed": false
   },
   "outputs": [],
   "source": [
    "18123.1 / 97.81 "
   ]
  },
  {
   "cell_type": "code",
   "execution_count": null,
   "metadata": {
    "collapsed": false
   },
   "outputs": [],
   "source": [
    "sf_grouped.show()\n",
    "gl.canvas.show()"
   ]
  },
  {
   "cell_type": "code",
   "execution_count": null,
   "metadata": {
    "collapsed": false
   },
   "outputs": [],
   "source": [
    "Ask Jeremey\n",
    "-- Woudl it make sense to divide betweenness by network size?"
   ]
  },
  {
   "cell_type": "code",
   "execution_count": null,
   "metadata": {
    "collapsed": true
   },
   "outputs": [],
   "source": [
    "\n"
   ]
  },
  {
   "cell_type": "code",
   "execution_count": null,
   "metadata": {
    "collapsed": true
   },
   "outputs": [],
   "source": []
  },
  {
   "cell_type": "code",
   "execution_count": null,
   "metadata": {
    "collapsed": true
   },
   "outputs": [],
   "source": []
  },
  {
   "cell_type": "code",
   "execution_count": null,
   "metadata": {
    "collapsed": true
   },
   "outputs": [],
   "source": []
  },
  {
   "cell_type": "code",
   "execution_count": null,
   "metadata": {
    "collapsed": true
   },
   "outputs": [],
   "source": []
  },
  {
   "cell_type": "code",
   "execution_count": null,
   "metadata": {
    "collapsed": true
   },
   "outputs": [],
   "source": []
  }
 ],
 "metadata": {
  "kernelspec": {
   "display_name": "Python 2",
   "language": "python",
   "name": "python2"
  },
  "language_info": {
   "codemirror_mode": {
    "name": "ipython",
    "version": 2
   },
   "file_extension": ".py",
   "mimetype": "text/x-python",
   "name": "python",
   "nbconvert_exporter": "python",
   "pygments_lexer": "ipython2",
   "version": "2.7.11"
  }
 },
 "nbformat": 4,
 "nbformat_minor": 0
}
