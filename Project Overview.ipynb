{
 "cells": [
  {
   "cell_type": "markdown",
   "metadata": {},
   "source": [
    "# Personality Dynamics in Human Social Networks (Facebook)\n",
    "===========================================================================\n"
   ]
  },
  {
   "cell_type": "markdown",
   "metadata": {},
   "source": [
    "## Project Summery:\n",
    "\n",
    "### Analyzed users’ Big 5 personality traits to predicting network centrality within organic Facebook friend networks using linear regression with lasso regularization and k-folds cross validation."
   ]
  },
  {
   "cell_type": "markdown",
   "metadata": {},
   "source": [
    "<hr>"
   ]
  },
  {
   "cell_type": "markdown",
   "metadata": {},
   "source": [
    "## [Personality & Network Importance Presentation](https://github.com/zhannar/Facebook-Network-Analysis-Big5-Personality/blob/master/Personality%20%26%20Network%20Importance%20&#40;Regression&#41;%20-%20April%202016%20Presentation.pdf)\n",
    "\n",
    "[A presentation given in early 2016 describes what the Big 5 personality traits are and some initial results of the analysis](https://github.com/zhannar/Facebook-Network-Analysis-Big5-Personality/blob/master/Personality%20%26%20Network%20Importance%20&#40;Regression&#41;%20-%20April%202016%20Presentation.pdf)"
   ]
  },
  {
   "cell_type": "markdown",
   "metadata": {},
   "source": [
    "<img src=\"files/Visualizations/betweenness_centrality.png\" style=\"width: 600px\"/>"
   ]
  },
  {
   "cell_type": "markdown",
   "metadata": {},
   "source": [
    "<hr>"
   ]
  },
  {
   "cell_type": "markdown",
   "metadata": {},
   "source": [
    "### Additional details:\n",
    "\n",
    "tbd"
   ]
  }
 ],
 "metadata": {
  "kernelspec": {
   "display_name": "Python 2",
   "language": "python",
   "name": "python2"
  },
  "language_info": {
   "codemirror_mode": {
    "name": "ipython",
    "version": 2
   },
   "file_extension": ".py",
   "mimetype": "text/x-python",
   "name": "python",
   "nbconvert_exporter": "python",
   "pygments_lexer": "ipython2",
   "version": "2.7.11"
  }
 },
 "nbformat": 4,
 "nbformat_minor": 0
}
